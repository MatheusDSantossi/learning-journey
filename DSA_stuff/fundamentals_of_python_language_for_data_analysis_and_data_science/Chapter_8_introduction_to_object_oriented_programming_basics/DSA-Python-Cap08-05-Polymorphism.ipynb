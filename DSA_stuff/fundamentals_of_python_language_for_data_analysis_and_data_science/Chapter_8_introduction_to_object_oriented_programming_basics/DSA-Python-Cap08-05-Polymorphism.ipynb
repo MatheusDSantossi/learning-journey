{
 "cells": [
  {
   "cell_type": "markdown",
   "id": "8212bb8d",
   "metadata": {},
   "source": [
    "# Data Science Academy\n",
    "\n",
    "## Fundamentals of Python Language for Data Analyse and Data Science\n",
    "\n",
    "### Introduction to Objecte Oriented Programming"
   ]
  },
  {
   "cell_type": "code",
   "execution_count": 1,
   "id": "52619795",
   "metadata": {},
   "outputs": [
    {
     "name": "stdout",
     "output_type": "stream",
     "text": [
      "Python Language version used in this Jupyter Notebook:  3.11.5\n"
     ]
    }
   ],
   "source": [
    "# Python Language version\n",
    "from platform import python_version\n",
    "print(\"Python Language version used in this Jupyter Notebook: \", python_version())"
   ]
  },
  {
   "cell_type": "markdown",
   "id": "e579615f",
   "metadata": {},
   "source": [
    "## Working with Polymorphism of classes in Python\n",
    "Polymorphism is one of fundamental concepts of Oriented-Object-Programming (POO). The polymorphism allows objects of different classes to be treated of an uniform way. That means an object might be treated as it was an object of a superclass, even though it is from a subclass\n",
    "\n",
    "More specific, the polymorphism refers to the ability of an object to responde to different ways to the same message. That's possible because the subclasses can implement methods with the same name of the methods of the superclass, but with different behavior.\n",
    "\n",
    "With Polymorphism, the same attributes and methods can be used in distincts objects, but, with different logic implementations."
   ]
  },
  {
   "cell_type": "code",
   "execution_count": 2,
   "id": "7fa4a7de",
   "metadata": {},
   "outputs": [],
   "source": [
    "# SuperClass\n",
    "class Vehicle():\n",
    "    \n",
    "    def __init__(self, brand, model):\n",
    "        self.brand = brand\n",
    "        self.model = model\n",
    "        \n",
    "    def accelerating(self):\n",
    "        pass\n",
    "        \n",
    "    def breaking(self):\n",
    "        pass"
   ]
  },
  {
   "cell_type": "code",
   "execution_count": 3,
   "id": "489ae4a1",
   "metadata": {},
   "outputs": [],
   "source": [
    "# Subclass\n",
    "class Car(Vehicle):\n",
    "        \n",
    "        def accelerating(self):\n",
    "            print(\"The car is accelerating!\")\n",
    "        \n",
    "        def breaking(self):\n",
    "            print(\"The car is breaking!\")"
   ]
  },
  {
   "cell_type": "code",
   "execution_count": 5,
   "id": "86f6403a",
   "metadata": {},
   "outputs": [],
   "source": [
    "# Subclass\n",
    "class Motorcycle(Vehicle):\n",
    "        \n",
    "        def accelerating(self):\n",
    "            print(\"The motorcycle is accelerating!\")\n",
    "        \n",
    "        def breaking(self):\n",
    "            print(\"The motorcycle is breaking!\")"
   ]
  },
  {
   "cell_type": "code",
   "execution_count": 6,
   "id": "08f8ebbe",
   "metadata": {},
   "outputs": [],
   "source": [
    "# Subclass\n",
    "class Airplane(Vehicle):\n",
    "        \n",
    "        def accelerating(self):\n",
    "            print(\"The airplane is accelerating!\")\n",
    "        \n",
    "        def breaking(self):\n",
    "            print(\"The airplane is breaking!\")\n",
    "            \n",
    "        def departing(self):\n",
    "            print(\"The airplane is departing!\")"
   ]
  },
  {
   "cell_type": "code",
   "execution_count": 8,
   "id": "8d59aef3",
   "metadata": {},
   "outputs": [],
   "source": [
    "# Creating the objects\n",
    "vehicles_list = [Car(\"Porsche\", \"911 Turbo\"), Motorcycle(\"Honda\", \"CB 100R Black Edition\"), Airplane(\"Boeing\", \"757\")]"
   ]
  },
  {
   "cell_type": "code",
   "execution_count": 9,
   "id": "81e34d55",
   "metadata": {},
   "outputs": [
    {
     "name": "stdout",
     "output_type": "stream",
     "text": [
      "The car is accelerating!\n",
      "The car is breaking!\n",
      "----------\n",
      "The motorcycle is accelerating!\n",
      "The motorcycle is breaking!\n",
      "----------\n",
      "The airplane is accelerating!\n",
      "The airplane is breaking!\n",
      "The airplane is departing!\n",
      "----------\n"
     ]
    }
   ],
   "source": [
    "# Loop\n",
    "for item in vehicles_list:\n",
    "    # the method accelerating has a different behavior deppending\n",
    "    # the type of the object\n",
    "    item.accelerating()\n",
    "    \n",
    "    # The same for the breaking method\n",
    "    item.breaking()\n",
    "    \n",
    "    # Executing the method departing only if the object is a\n",
    "    # instance of the Airplane class\n",
    "    if isinstance(item, Airplane):\n",
    "        item.departing()\n",
    "    \n",
    "    print(\"----------\")"
   ]
  },
  {
   "cell_type": "markdown",
   "id": "77861404",
   "metadata": {},
   "source": [
    "## End\n",
    "### Thank you!"
   ]
  }
 ],
 "metadata": {
  "kernelspec": {
   "display_name": "Python 3 (ipykernel)",
   "language": "python",
   "name": "python3"
  },
  "language_info": {
   "codemirror_mode": {
    "name": "ipython",
    "version": 3
   },
   "file_extension": ".py",
   "mimetype": "text/x-python",
   "name": "python",
   "nbconvert_exporter": "python",
   "pygments_lexer": "ipython3",
   "version": "3.11.5"
  }
 },
 "nbformat": 4,
 "nbformat_minor": 5
}
