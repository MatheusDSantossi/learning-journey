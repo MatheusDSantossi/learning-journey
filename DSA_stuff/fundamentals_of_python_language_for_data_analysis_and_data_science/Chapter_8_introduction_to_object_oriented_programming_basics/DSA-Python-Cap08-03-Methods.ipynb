{
 "cells": [
  {
   "cell_type": "markdown",
   "id": "8212bb8d",
   "metadata": {},
   "source": [
    "# Data Science Academy\n",
    "\n",
    "## Fundamentals of Python Language for Data Analyse and Data Science\n",
    "\n",
    "### Introduction to Objecte Oriented Programming"
   ]
  },
  {
   "cell_type": "code",
   "execution_count": 1,
   "id": "52619795",
   "metadata": {},
   "outputs": [
    {
     "name": "stdout",
     "output_type": "stream",
     "text": [
      "Python Language version used in this Jupyter Notebook:  3.11.5\n"
     ]
    }
   ],
   "source": [
    "# Python Language version\n",
    "from platform import python_version\n",
    "print(\"Python Language version used in this Jupyter Notebook: \", python_version())"
   ]
  },
  {
   "cell_type": "markdown",
   "id": "e579615f",
   "metadata": {},
   "source": [
    "## Working with Methods of Classes in Python\n",
    "In Python, class' methods are functions defined inside a class, that make specific operations in objects created from that class. \n",
    "\n",
    "The class methods can take arguments and return values. However, diferently of normal functions, the class methods always include the parameter self, which is used to refer to the current object of the class.\n",
    "\n",
    "The method **init** is a special method called when an object is created from a class. This method is used to initialize the attributes of the object. Other methods can be definied to execute specific tasks in an object, like calculate values, realize I/O operations or alter the object state."
   ]
  },
  {
   "cell_type": "code",
   "execution_count": 26,
   "id": "7fa4a7de",
   "metadata": {},
   "outputs": [],
   "source": [
    "# Creating a class called Circle\n",
    "class Circle():\n",
    "    \n",
    "    # The value of pi is a constant\n",
    "    pi = 3.14\n",
    "    \n",
    "    # When an object of this class is created, this method\n",
    "    # will be executed and the default radius value will be 5.\n",
    "    def __init__(self, radius = 5):\n",
    "        self.radius = radius\n",
    "       \n",
    "    # This method calculates the area\n",
    "    def area(self):\n",
    "        print(self.pi)\n",
    "        print(Circle.pi)\n",
    "        return (self.radius * self.radius) * Circle.pi\n",
    "        \n",
    "    # This method calculates a new radius\n",
    "    def setRadius(self, new_radius):\n",
    "        self.radius = new_radius\n",
    "    \n",
    "    # Method to get the circle's radius\n",
    "    def getRadius(self):\n",
    "        return self.radius"
   ]
  },
  {
   "cell_type": "code",
   "execution_count": 27,
   "id": "489ae4a1",
   "metadata": {},
   "outputs": [],
   "source": [
    "# Creating a circle objet, one instance of the Circle() class\n",
    "circ = Circle()"
   ]
  },
  {
   "cell_type": "code",
   "execution_count": 28,
   "id": "86f6403a",
   "metadata": {},
   "outputs": [
    {
     "data": {
      "text/plain": [
       "5"
      ]
     },
     "execution_count": 28,
     "metadata": {},
     "output_type": "execute_result"
    }
   ],
   "source": [
    "# Executing a method of the Circle class\n",
    "circ.getRadius()"
   ]
  },
  {
   "cell_type": "code",
   "execution_count": 29,
   "id": "08f8ebbe",
   "metadata": {},
   "outputs": [],
   "source": [
    "# Creating another object called circ2. An instance of the class\n",
    "# Circle(), now overwriting the value of the attribute\n",
    "circ2 = Circle(7)"
   ]
  },
  {
   "cell_type": "code",
   "execution_count": 30,
   "id": "8d59aef3",
   "metadata": {},
   "outputs": [
    {
     "data": {
      "text/plain": [
       "7"
      ]
     },
     "execution_count": 30,
     "metadata": {},
     "output_type": "execute_result"
    }
   ],
   "source": [
    "# Executing a method of the Circle class\n",
    "circ2.getRadius()"
   ]
  },
  {
   "cell_type": "code",
   "execution_count": 31,
   "id": "81e34d55",
   "metadata": {},
   "outputs": [
    {
     "name": "stdout",
     "output_type": "stream",
     "text": [
      "The radius is:  5\n"
     ]
    }
   ],
   "source": [
    "# Priting the radius\n",
    "print(\"The radius is: \", circ.getRadius())"
   ]
  },
  {
   "cell_type": "code",
   "execution_count": 32,
   "id": "e4d99b51",
   "metadata": {
    "scrolled": true
   },
   "outputs": [
    {
     "name": "stdout",
     "output_type": "stream",
     "text": [
      "3.14\n",
      "3.14\n",
      "The area is:  78.5\n"
     ]
    }
   ],
   "source": [
    "# Priting the area\n",
    "print(\"The area is: \", circ.area())"
   ]
  },
  {
   "cell_type": "code",
   "execution_count": 19,
   "id": "a51b8d20",
   "metadata": {},
   "outputs": [],
   "source": [
    "# Generating a new value for the radius of the circle\n",
    "circ.setRadius(3)"
   ]
  },
  {
   "cell_type": "code",
   "execution_count": 20,
   "id": "f1ba8da4",
   "metadata": {},
   "outputs": [
    {
     "name": "stdout",
     "output_type": "stream",
     "text": [
      "The new radius is:  3\n"
     ]
    }
   ],
   "source": [
    "# Priting the new radius\n",
    "print(\"The new radius is: \", circ.getRadius())"
   ]
  },
  {
   "cell_type": "markdown",
   "id": "77861404",
   "metadata": {},
   "source": [
    "## End\n",
    "### Thank you!"
   ]
  }
 ],
 "metadata": {
  "kernelspec": {
   "display_name": "Python 3 (ipykernel)",
   "language": "python",
   "name": "python3"
  },
  "language_info": {
   "codemirror_mode": {
    "name": "ipython",
    "version": 3
   },
   "file_extension": ".py",
   "mimetype": "text/x-python",
   "name": "python",
   "nbconvert_exporter": "python",
   "pygments_lexer": "ipython3",
   "version": "3.11.5"
  }
 },
 "nbformat": 4,
 "nbformat_minor": 5
}
