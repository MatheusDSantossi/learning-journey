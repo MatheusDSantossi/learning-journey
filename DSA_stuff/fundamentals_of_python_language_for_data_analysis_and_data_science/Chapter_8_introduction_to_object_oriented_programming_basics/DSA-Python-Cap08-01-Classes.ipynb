{
 "cells": [
  {
   "cell_type": "markdown",
   "id": "8212bb8d",
   "metadata": {},
   "source": [
    "# Data Science Academy\n",
    "\n",
    "## Fundamentals of Python Language for Data Analyse and Data Science\n",
    "\n",
    "### Introduction to Objecte Oriented Programming"
   ]
  },
  {
   "cell_type": "code",
   "execution_count": 1,
   "id": "52619795",
   "metadata": {},
   "outputs": [
    {
     "name": "stdout",
     "output_type": "stream",
     "text": [
      "Python Language version used in this Jupyter Notebook:  3.11.5\n"
     ]
    }
   ],
   "source": [
    "# Python Language version\n",
    "from platform import python_version\n",
    "print(\"Python Language version used in this Jupyter Notebook: \", python_version())"
   ]
  },
  {
   "cell_type": "markdown",
   "id": "e579615f",
   "metadata": {},
   "source": [
    "### Classes\n",
    "In Object Oriented Programming (OOP), a class is a structure that describes an object, specifing the attributes and behavior that the object must have. A class is a kind of model that defines the characteristics and actions a object must have.\n",
    "\n",
    "The classes are used to create objects, that are instances of the class. Each object created from the same class will have the same attributes and behavior.\n",
    "\n",
    "To create a class in Python, use the reserved word class.\n",
    "\n",
    "The name of the class follows the same convention of the names to create functions and variables in Python, but it usually uses the first letter in uppercase in each word in the name of the class."
   ]
  },
  {
   "cell_type": "code",
   "execution_count": 1,
   "id": "7fa4a7de",
   "metadata": {},
   "outputs": [],
   "source": [
    "# Creating a class called Book\n",
    "class Book():\n",
    "    # This method will initialize each object created from this class\n",
    "    # the name of this method is __init__\n",
    "    # (self) is a reference to each attribute from the own class \n",
    "    # (and not from the mother class, for example)\n",
    "    def __init__(self):\n",
    "        # Attributes are props\n",
    "        self.title = \"Sapiens - A brief History about Humanity\"\n",
    "        self.isbn = 99887788\n",
    "        print(\"Constructor called to create an object of the same class.\")\n",
    "        \n",
    "    # Methods are functions that execute actions on the objects of the class\n",
    "    def print_(self):\n",
    "        print(\"It was created a book %s with ISBN %d\" %(self.title, self.isbn))"
   ]
  },
  {
   "cell_type": "markdown",
   "id": "9b758d41",
   "metadata": {},
   "source": [
    "Em Python, the reserved word self is a reference to the current object of the class. When a object is created from a class, self is used to refer to this specificed object."
   ]
  },
  {
   "cell_type": "code",
   "execution_count": 2,
   "id": "489ae4a1",
   "metadata": {},
   "outputs": [
    {
     "name": "stdout",
     "output_type": "stream",
     "text": [
      "Constructor called to create an object of the same class.\n"
     ]
    }
   ],
   "source": [
    "# Creating an instance of the class Book\n",
    "Book1 = Book()"
   ]
  },
  {
   "cell_type": "code",
   "execution_count": 3,
   "id": "08f8ebbe",
   "metadata": {},
   "outputs": [
    {
     "data": {
      "text/plain": [
       "__main__.Book"
      ]
     },
     "execution_count": 3,
     "metadata": {},
     "output_type": "execute_result"
    }
   ],
   "source": [
    "# The object Book1 is of the type Book\n",
    "type(Book1)"
   ]
  },
  {
   "cell_type": "code",
   "execution_count": 15,
   "id": "8d59aef3",
   "metadata": {},
   "outputs": [
    {
     "data": {
      "text/plain": [
       "'Sapiens - A brief History about Humanity'"
      ]
     },
     "execution_count": 15,
     "metadata": {},
     "output_type": "execute_result"
    }
   ],
   "source": [
    "# Attribute of object Book1\n",
    "Book1.title"
   ]
  },
  {
   "cell_type": "code",
   "execution_count": 5,
   "id": "81e34d55",
   "metadata": {},
   "outputs": [
    {
     "data": {
      "text/plain": [
       "99887788"
      ]
     },
     "execution_count": 5,
     "metadata": {},
     "output_type": "execute_result"
    }
   ],
   "source": [
    "Book1.isbn"
   ]
  },
  {
   "cell_type": "code",
   "execution_count": 16,
   "id": "e4d99b51",
   "metadata": {
    "scrolled": true
   },
   "outputs": [
    {
     "name": "stdout",
     "output_type": "stream",
     "text": [
      "It was created a book Sapiens - A brief History about Humanity with ISBN 99887788\n"
     ]
    }
   ],
   "source": [
    "# Method of object Book1\n",
    "Book1.print_()"
   ]
  },
  {
   "cell_type": "code",
   "execution_count": 10,
   "id": "a51b8d20",
   "metadata": {},
   "outputs": [],
   "source": [
    "# Creating a class Book with parameters on the constructor method\n",
    "class Book():\n",
    "    def __init__(self, title, isbn):\n",
    "        self.title = title\n",
    "        self. isbn = isbn\n",
    "        print(\"Constructor called to create an object of the same class.\")\n",
    "\n",
    "    def print_(self, title, isbn):\n",
    "        print(\"This is the book %s and ISN %d\" %(title, isbn))"
   ]
  },
  {
   "cell_type": "code",
   "execution_count": 11,
   "id": "f1ba8da4",
   "metadata": {},
   "outputs": [
    {
     "name": "stdout",
     "output_type": "stream",
     "text": [
      "Constructor called to create an object of the same class.\n"
     ]
    }
   ],
   "source": [
    "# Creating the object Book2 which is an instance of the Book class\n",
    "Book2 = Book(\"O Poder do Hábito\", 77886611)"
   ]
  },
  {
   "cell_type": "code",
   "execution_count": 12,
   "id": "7aca7642",
   "metadata": {},
   "outputs": [
    {
     "data": {
      "text/plain": [
       "'O Poder do Hábito'"
      ]
     },
     "execution_count": 12,
     "metadata": {},
     "output_type": "execute_result"
    }
   ],
   "source": [
    "Book2.title"
   ]
  },
  {
   "cell_type": "code",
   "execution_count": 13,
   "id": "319d1d7d",
   "metadata": {},
   "outputs": [
    {
     "name": "stdout",
     "output_type": "stream",
     "text": [
      "This is the book O poder do hábito and ISN 878485\n"
     ]
    }
   ],
   "source": [
    "# Method of the object Book2\n",
    "Book2.print_(\"O poder do hábito\", 878485)"
   ]
  },
  {
   "cell_type": "code",
   "execution_count": 18,
   "id": "eb92ed47",
   "metadata": {},
   "outputs": [],
   "source": [
    "# Creating the class Dog\n",
    "class Algorithm():\n",
    "    \n",
    "    def __init__(self, type_something):\n",
    "        self.type = type_something\n",
    "        print(\"Constructor called to create an object of the same class.\")"
   ]
  },
  {
   "cell_type": "code",
   "execution_count": 19,
   "id": "f3c73d85",
   "metadata": {},
   "outputs": [
    {
     "name": "stdout",
     "output_type": "stream",
     "text": [
      "Constructor called to create an object of the same class.\n"
     ]
    }
   ],
   "source": [
    "# Creating an object using the class\n",
    "something1 = Algorithm(type_something = \"Random Forest\")"
   ]
  },
  {
   "cell_type": "code",
   "execution_count": 20,
   "id": "2a75edf3",
   "metadata": {},
   "outputs": [
    {
     "name": "stdout",
     "output_type": "stream",
     "text": [
      "Constructor called to create an object of the same class.\n"
     ]
    }
   ],
   "source": [
    "# Creating an object using the class\n",
    "something2 = Algorithm(type_something = \"Deep Learning\")"
   ]
  },
  {
   "cell_type": "code",
   "execution_count": 21,
   "id": "9282dc51",
   "metadata": {},
   "outputs": [
    {
     "data": {
      "text/plain": [
       "'Random Forest'"
      ]
     },
     "execution_count": 21,
     "metadata": {},
     "output_type": "execute_result"
    }
   ],
   "source": [
    "# Attribute of the class\n",
    "something1.type"
   ]
  },
  {
   "cell_type": "code",
   "execution_count": 22,
   "id": "bfb7485d",
   "metadata": {},
   "outputs": [
    {
     "data": {
      "text/plain": [
       "'Deep Learning'"
      ]
     },
     "execution_count": 22,
     "metadata": {},
     "output_type": "execute_result"
    }
   ],
   "source": [
    "something2.type"
   ]
  },
  {
   "cell_type": "markdown",
   "id": "77861404",
   "metadata": {},
   "source": [
    "## End\n",
    "### Thank you!"
   ]
  }
 ],
 "metadata": {
  "kernelspec": {
   "display_name": "Python 3 (ipykernel)",
   "language": "python",
   "name": "python3"
  },
  "language_info": {
   "codemirror_mode": {
    "name": "ipython",
    "version": 3
   },
   "file_extension": ".py",
   "mimetype": "text/x-python",
   "name": "python",
   "nbconvert_exporter": "python",
   "pygments_lexer": "ipython3",
   "version": "3.11.5"
  }
 },
 "nbformat": 4,
 "nbformat_minor": 5
}
