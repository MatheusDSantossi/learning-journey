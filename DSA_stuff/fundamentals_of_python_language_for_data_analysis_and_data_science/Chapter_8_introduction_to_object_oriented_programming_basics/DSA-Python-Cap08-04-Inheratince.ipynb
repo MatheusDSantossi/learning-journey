{
 "cells": [
  {
   "cell_type": "markdown",
   "id": "8212bb8d",
   "metadata": {},
   "source": [
    "# Data Science Academy\n",
    "\n",
    "## Fundamentals of Python Language for Data Analyse and Data Science\n",
    "\n",
    "### Introduction to Objecte Oriented Programming"
   ]
  },
  {
   "cell_type": "code",
   "execution_count": 1,
   "id": "52619795",
   "metadata": {},
   "outputs": [
    {
     "name": "stdout",
     "output_type": "stream",
     "text": [
      "Python Language version used in this Jupyter Notebook:  3.11.5\n"
     ]
    }
   ],
   "source": [
    "# Python Language version\n",
    "from platform import python_version\n",
    "print(\"Python Language version used in this Jupyter Notebook: \", python_version())"
   ]
  },
  {
   "cell_type": "markdown",
   "id": "e579615f",
   "metadata": {},
   "source": [
    "## Working with Inheratince in Python\n",
    "In Oriented-Object-Programming (POO), the inherantince is a concept that allows to create new classses from existent classses, using the attributes and methods from the original class and adding new specific attributes and methods.\n",
    "\n",
    "The original class is called mother class or superclass and the new class created i called child class or subclass.\n",
    "\n",
    "Inherantince is an important technique in POO because it allows us to reuse the code efficiently. Instead of creating a new class from 0, the sbuclass can inherante all the attributes and methods from the superclass and add only what's necessary. This way, the subclass can concentrade in give new functionalities without worrying about basic characteristics of the class.\n",
    "\n",
    "I inherantince, a subclass can inherante the attributes and methods of the superclass and replace them or extend them as needed. For instance, a subclass can have a method with the same name of the superclass, but with a different behavior."
   ]
  },
  {
   "cell_type": "code",
   "execution_count": 1,
   "id": "7fa4a7de",
   "metadata": {},
   "outputs": [],
   "source": [
    "# Creating a class called Animal - Super-Class\n",
    "class Animal():\n",
    "    \n",
    "    def __init__(self):\n",
    "        print(\"Animal created.\")\n",
    "        \n",
    "    def print_(self):\n",
    "        print(\"This is an Animal.\")\n",
    "        \n",
    "    def eat(self):\n",
    "        print(\"It's time to eat.\")\n",
    "        \n",
    "    def sound(self):\n",
    "        pass"
   ]
  },
  {
   "cell_type": "code",
   "execution_count": 8,
   "id": "489ae4a1",
   "metadata": {},
   "outputs": [],
   "source": [
    "# Creating class Dog - subclass\n",
    "class Dog(Animal):\n",
    "    def __init__(self):\n",
    "        Animal.__init__(self)\n",
    "        print(\"Object Dog created\")\n",
    "        \n",
    "    def sound(self):\n",
    "        print(\"Woll Woll\")"
   ]
  },
  {
   "cell_type": "code",
   "execution_count": 9,
   "id": "86f6403a",
   "metadata": {},
   "outputs": [],
   "source": [
    "# Creating class Cat - subclass\n",
    "class Cat(Animal):\n",
    "    def __init__(self):\n",
    "        Animal.__init__(self)\n",
    "        print(\"Object Cat created\")\n",
    "        \n",
    "    def sound(self):\n",
    "        print(\"Meow Meow\")"
   ]
  },
  {
   "cell_type": "code",
   "execution_count": 10,
   "id": "08f8ebbe",
   "metadata": {},
   "outputs": [
    {
     "name": "stdout",
     "output_type": "stream",
     "text": [
      "Animal created.\n",
      "Object Dog created\n"
     ]
    }
   ],
   "source": [
    "# Creating an object (Instance of class)\n",
    "sasha = Dog()"
   ]
  },
  {
   "cell_type": "code",
   "execution_count": 11,
   "id": "8d59aef3",
   "metadata": {},
   "outputs": [
    {
     "name": "stdout",
     "output_type": "stream",
     "text": [
      "Animal created.\n",
      "Object Cat created\n"
     ]
    }
   ],
   "source": [
    "# Creating an object (Instance of class)\n",
    "toto_and_tota = Cat()"
   ]
  },
  {
   "cell_type": "code",
   "execution_count": 12,
   "id": "81e34d55",
   "metadata": {},
   "outputs": [
    {
     "name": "stdout",
     "output_type": "stream",
     "text": [
      "Woll Woll\n"
     ]
    }
   ],
   "source": [
    "sasha.sound()"
   ]
  },
  {
   "cell_type": "code",
   "execution_count": 13,
   "id": "e4d99b51",
   "metadata": {
    "scrolled": true
   },
   "outputs": [
    {
     "name": "stdout",
     "output_type": "stream",
     "text": [
      "Meow Meow\n"
     ]
    }
   ],
   "source": [
    "toto_and_tota.sound()"
   ]
  },
  {
   "cell_type": "code",
   "execution_count": 14,
   "id": "a51b8d20",
   "metadata": {},
   "outputs": [
    {
     "name": "stdout",
     "output_type": "stream",
     "text": [
      "It's time to eat.\n"
     ]
    }
   ],
   "source": [
    "sasha.eat()"
   ]
  },
  {
   "cell_type": "code",
   "execution_count": null,
   "id": "29a2def9",
   "metadata": {},
   "outputs": [],
   "source": [
    "toto_and_tota.eat()"
   ]
  },
  {
   "cell_type": "code",
   "execution_count": 16,
   "id": "f1ba8da4",
   "metadata": {},
   "outputs": [
    {
     "name": "stdout",
     "output_type": "stream",
     "text": [
      "This is an Animal.\n"
     ]
    }
   ],
   "source": [
    "sasha.print_()"
   ]
  },
  {
   "cell_type": "code",
   "execution_count": 17,
   "id": "20b05e03",
   "metadata": {},
   "outputs": [
    {
     "name": "stdout",
     "output_type": "stream",
     "text": [
      "This is an Animal.\n"
     ]
    }
   ],
   "source": [
    "toto_and_tota.print_()"
   ]
  },
  {
   "cell_type": "markdown",
   "id": "77861404",
   "metadata": {},
   "source": [
    "## End\n",
    "### Thank you!"
   ]
  }
 ],
 "metadata": {
  "kernelspec": {
   "display_name": "Python 3 (ipykernel)",
   "language": "python",
   "name": "python3"
  },
  "language_info": {
   "codemirror_mode": {
    "name": "ipython",
    "version": 3
   },
   "file_extension": ".py",
   "mimetype": "text/x-python",
   "name": "python",
   "nbconvert_exporter": "python",
   "pygments_lexer": "ipython3",
   "version": "3.11.5"
  }
 },
 "nbformat": 4,
 "nbformat_minor": 5
}
