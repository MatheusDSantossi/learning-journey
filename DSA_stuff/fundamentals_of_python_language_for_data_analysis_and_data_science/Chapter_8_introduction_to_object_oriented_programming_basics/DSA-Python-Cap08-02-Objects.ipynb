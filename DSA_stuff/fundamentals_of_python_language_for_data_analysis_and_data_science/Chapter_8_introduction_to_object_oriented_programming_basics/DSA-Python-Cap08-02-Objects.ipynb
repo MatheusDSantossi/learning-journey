{
 "cells": [
  {
   "cell_type": "markdown",
   "id": "8212bb8d",
   "metadata": {},
   "source": [
    "# Data Science Academy\n",
    "\n",
    "## Fundamentals of Python Language for Data Analyse and Data Science\n",
    "\n",
    "### Introduction to Objecte Oriented Programming"
   ]
  },
  {
   "cell_type": "code",
   "execution_count": 1,
   "id": "52619795",
   "metadata": {},
   "outputs": [
    {
     "name": "stdout",
     "output_type": "stream",
     "text": [
      "Python Language version used in this Jupyter Notebook:  3.11.5\n"
     ]
    }
   ],
   "source": [
    "# Python Language version\n",
    "from platform import python_version\n",
    "print(\"Python Language version used in this Jupyter Notebook: \", python_version())"
   ]
  },
  {
   "cell_type": "markdown",
   "id": "e579615f",
   "metadata": {},
   "source": [
    "### Objects\n",
    "Everything in Python is an Object!!"
   ]
  },
  {
   "cell_type": "code",
   "execution_count": 2,
   "id": "7fa4a7de",
   "metadata": {},
   "outputs": [],
   "source": [
    "# Creating a List\n",
    "lst_num = [\"Data\", \"Science\", \"Academy\", \"Grade\", 10, 10]"
   ]
  },
  {
   "cell_type": "code",
   "execution_count": 3,
   "id": "489ae4a1",
   "metadata": {},
   "outputs": [
    {
     "data": {
      "text/plain": [
       "list"
      ]
     },
     "execution_count": 3,
     "metadata": {},
     "output_type": "execute_result"
    }
   ],
   "source": [
    "# The list lst_num is an object, an instance of the class list in Python\n",
    "type(lst_num)"
   ]
  },
  {
   "cell_type": "code",
   "execution_count": 7,
   "id": "86f6403a",
   "metadata": {},
   "outputs": [
    {
     "data": {
      "text/plain": [
       "0"
      ]
     },
     "execution_count": 7,
     "metadata": {},
     "output_type": "execute_result"
    }
   ],
   "source": [
    "lst_num.count('a')"
   ]
  },
  {
   "cell_type": "code",
   "execution_count": 6,
   "id": "08f8ebbe",
   "metadata": {},
   "outputs": [
    {
     "name": "stdout",
     "output_type": "stream",
     "text": [
      "<class 'int'>\n",
      "<class 'list'>\n",
      "<class 'dict'>\n",
      "<class 'tuple'>\n",
      "<class 'str'>\n"
     ]
    }
   ],
   "source": [
    "# We use the function type, to check the type of an object\n",
    "print(type(10))\n",
    "print(type([]))\n",
    "print(type({}))\n",
    "print(type(()))\n",
    "print(type('10'))"
   ]
  },
  {
   "cell_type": "code",
   "execution_count": 8,
   "id": "8d59aef3",
   "metadata": {},
   "outputs": [],
   "source": [
    "# Creating a new type of object called Car\n",
    "class Car(object):\n",
    "    pass"
   ]
  },
  {
   "cell_type": "code",
   "execution_count": 9,
   "id": "81e34d55",
   "metadata": {},
   "outputs": [],
   "source": [
    "# Instance of Car\n",
    "ferrari = Car()"
   ]
  },
  {
   "cell_type": "code",
   "execution_count": 10,
   "id": "e4d99b51",
   "metadata": {
    "scrolled": true
   },
   "outputs": [
    {
     "name": "stdout",
     "output_type": "stream",
     "text": [
      "<class '__main__.Car'>\n"
     ]
    }
   ],
   "source": [
    "print(type(ferrari))"
   ]
  },
  {
   "cell_type": "code",
   "execution_count": 13,
   "id": "a51b8d20",
   "metadata": {},
   "outputs": [],
   "source": [
    "# Creating a class\n",
    "class Student:\n",
    "    def __init__(self, name, age, grade):\n",
    "        self.name = name\n",
    "        self.age = age\n",
    "        self.grade = grade"
   ]
  },
  {
   "cell_type": "code",
   "execution_count": 15,
   "id": "f1ba8da4",
   "metadata": {},
   "outputs": [],
   "source": [
    "# Creating a object called Stundet1 from the class Student\n",
    "Student1 = Student(\"Bob\", 12, 9.5)"
   ]
  },
  {
   "cell_type": "code",
   "execution_count": 16,
   "id": "7aca7642",
   "metadata": {},
   "outputs": [
    {
     "data": {
      "text/plain": [
       "'Bob'"
      ]
     },
     "execution_count": 16,
     "metadata": {},
     "output_type": "execute_result"
    }
   ],
   "source": [
    "Student1.name"
   ]
  },
  {
   "cell_type": "code",
   "execution_count": 17,
   "id": "319d1d7d",
   "metadata": {},
   "outputs": [
    {
     "data": {
      "text/plain": [
       "12"
      ]
     },
     "execution_count": 17,
     "metadata": {},
     "output_type": "execute_result"
    }
   ],
   "source": [
    "Student1.age"
   ]
  },
  {
   "cell_type": "code",
   "execution_count": 18,
   "id": "eb92ed47",
   "metadata": {},
   "outputs": [
    {
     "data": {
      "text/plain": [
       "9.5"
      ]
     },
     "execution_count": 18,
     "metadata": {},
     "output_type": "execute_result"
    }
   ],
   "source": [
    "Student1.grade"
   ]
  },
  {
   "cell_type": "code",
   "execution_count": 26,
   "id": "f3c73d85",
   "metadata": {},
   "outputs": [],
   "source": [
    "# Creating a class\n",
    "class Employees:\n",
    "    \n",
    "    def __init__(self, name, wage, position):\n",
    "        self.name = name\n",
    "        self.wage = wage\n",
    "        self.position = position\n",
    "    \n",
    "    def ListEmplys(self):\n",
    "        print(\"Employee: \" + self.name + \" have the wage of $\" + str(self.wage) + \" and works as a \" + self.position)"
   ]
  },
  {
   "cell_type": "code",
   "execution_count": 27,
   "id": "2a75edf3",
   "metadata": {},
   "outputs": [],
   "source": [
    "# Creating an object called Emply1 from the class Employees\n",
    "Emply1 = Employees(\"Mary\", 2000, \"Data Scientist\")"
   ]
  },
  {
   "cell_type": "code",
   "execution_count": 29,
   "id": "9282dc51",
   "metadata": {},
   "outputs": [
    {
     "name": "stdout",
     "output_type": "stream",
     "text": [
      "Employee: Mary have the wage of $2000 and works as a Data Scientist\n"
     ]
    }
   ],
   "source": [
    "# Using the method of the class\n",
    "Emply1.ListEmplys()"
   ]
  },
  {
   "cell_type": "code",
   "execution_count": 31,
   "id": "bfb7485d",
   "metadata": {},
   "outputs": [
    {
     "name": "stdout",
     "output_type": "stream",
     "text": [
      "**** Using attributes ****\n"
     ]
    }
   ],
   "source": [
    "print(\"**** Using attributes ****\" )"
   ]
  },
  {
   "cell_type": "code",
   "execution_count": 32,
   "id": "9d57a2a4",
   "metadata": {},
   "outputs": [
    {
     "data": {
      "text/plain": [
       "True"
      ]
     },
     "execution_count": 32,
     "metadata": {},
     "output_type": "execute_result"
    }
   ],
   "source": [
    "hasattr(Emply1, \"name\")"
   ]
  },
  {
   "cell_type": "code",
   "execution_count": 33,
   "id": "6632a734",
   "metadata": {},
   "outputs": [
    {
     "data": {
      "text/plain": [
       "True"
      ]
     },
     "execution_count": 33,
     "metadata": {},
     "output_type": "execute_result"
    }
   ],
   "source": [
    "hasattr(Emply1, \"wage\")"
   ]
  },
  {
   "cell_type": "code",
   "execution_count": 34,
   "id": "9edbe351",
   "metadata": {},
   "outputs": [],
   "source": [
    "setattr(Emply1, \"wage\", 4500)"
   ]
  },
  {
   "cell_type": "code",
   "execution_count": 35,
   "id": "58d8c591",
   "metadata": {},
   "outputs": [
    {
     "data": {
      "text/plain": [
       "True"
      ]
     },
     "execution_count": 35,
     "metadata": {},
     "output_type": "execute_result"
    }
   ],
   "source": [
    "hasattr(Emply1, \"wage\")"
   ]
  },
  {
   "cell_type": "code",
   "execution_count": 36,
   "id": "69320312",
   "metadata": {},
   "outputs": [
    {
     "data": {
      "text/plain": [
       "4500"
      ]
     },
     "execution_count": 36,
     "metadata": {},
     "output_type": "execute_result"
    }
   ],
   "source": [
    "getattr(Emply1, \"wage\")"
   ]
  },
  {
   "cell_type": "code",
   "execution_count": 37,
   "id": "268eed42",
   "metadata": {},
   "outputs": [],
   "source": [
    "delattr(Emply1, \"wage\")"
   ]
  },
  {
   "cell_type": "code",
   "execution_count": 38,
   "id": "8426c40b",
   "metadata": {},
   "outputs": [
    {
     "data": {
      "text/plain": [
       "False"
      ]
     },
     "execution_count": 38,
     "metadata": {},
     "output_type": "execute_result"
    }
   ],
   "source": [
    "hasattr(Emply1, \"wage\")"
   ]
  },
  {
   "cell_type": "markdown",
   "id": "77861404",
   "metadata": {},
   "source": [
    "## End\n",
    "### Thank you!"
   ]
  }
 ],
 "metadata": {
  "kernelspec": {
   "display_name": "Python 3 (ipykernel)",
   "language": "python",
   "name": "python3"
  },
  "language_info": {
   "codemirror_mode": {
    "name": "ipython",
    "version": 3
   },
   "file_extension": ".py",
   "mimetype": "text/x-python",
   "name": "python",
   "nbconvert_exporter": "python",
   "pygments_lexer": "ipython3",
   "version": "3.11.5"
  }
 },
 "nbformat": 4,
 "nbformat_minor": 5
}
