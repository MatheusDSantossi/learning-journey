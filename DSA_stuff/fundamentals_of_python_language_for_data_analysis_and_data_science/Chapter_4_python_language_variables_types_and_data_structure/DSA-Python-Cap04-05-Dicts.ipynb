{
 "cells": [
  {
   "cell_type": "markdown",
   "id": "f51d33f3",
   "metadata": {},
   "source": [
    "# Data Scinece Academy\n",
    "\n",
    "## Fundamentos de Linguagem Python para Análise de Dados e Data Science\n",
    "\n",
    "### Capítulo 4 - Data Structure - Working with Dictionaries"
   ]
  },
  {
   "cell_type": "code",
   "execution_count": 1,
   "id": "b6a6e17c",
   "metadata": {},
   "outputs": [
    {
     "name": "stdout",
     "output_type": "stream",
     "text": [
      "Python version used in this Jupyter Notebook:  3.11.5\n"
     ]
    }
   ],
   "source": [
    "# Python Language version\n",
    "from platform import python_version\n",
    "print(\"Python version used in this Jupyter Notebook: \", python_version())"
   ]
  },
  {
   "cell_type": "markdown",
   "id": "76cbb153",
   "metadata": {},
   "source": [
    "### Working with dictionaries"
   ]
  },
  {
   "cell_type": "code",
   "execution_count": 2,
   "id": "0153ccf8",
   "metadata": {},
   "outputs": [],
   "source": [
    "# This is a list\n",
    "students_list = [\"Matheus\", 23, \"Ana\", 22, \"Ronaldo\", 26, \"Janaina\", 25]"
   ]
  },
  {
   "cell_type": "code",
   "execution_count": 3,
   "id": "3c2e261b",
   "metadata": {},
   "outputs": [
    {
     "data": {
      "text/plain": [
       "['Matheus', 23, 'Ana', 22, 'Ronaldo', 26, 'Janaina', 25]"
      ]
     },
     "execution_count": 3,
     "metadata": {},
     "output_type": "execute_result"
    }
   ],
   "source": [
    "students_list"
   ]
  },
  {
   "cell_type": "code",
   "execution_count": 5,
   "id": "968c9337",
   "metadata": {},
   "outputs": [],
   "source": [
    "# This is a dictionary\n",
    "students_dict = {\"Matheus\": 23, \"Ana\": 22, \"Ronaldo\": 26, \"Janaina\": 25}"
   ]
  },
  {
   "cell_type": "code",
   "execution_count": 6,
   "id": "e227a96b",
   "metadata": {},
   "outputs": [
    {
     "data": {
      "text/plain": [
       "{'Matheus': 23, 'Ana': 22, 'Ronaldo': 26, 'Janaina': 25}"
      ]
     },
     "execution_count": 6,
     "metadata": {},
     "output_type": "execute_result"
    }
   ],
   "source": [
    "students_dict"
   ]
  },
  {
   "cell_type": "code",
   "execution_count": 7,
   "id": "baddddb2",
   "metadata": {},
   "outputs": [
    {
     "data": {
      "text/plain": [
       "23"
      ]
     },
     "execution_count": 7,
     "metadata": {},
     "output_type": "execute_result"
    }
   ],
   "source": [
    "students_dict[\"Matheus\"]"
   ]
  },
  {
   "cell_type": "code",
   "execution_count": 8,
   "id": "e6397582",
   "metadata": {},
   "outputs": [],
   "source": [
    "students_dict[\"Marcelo\"] = 23"
   ]
  },
  {
   "cell_type": "code",
   "execution_count": 9,
   "id": "5e1eb327",
   "metadata": {},
   "outputs": [
    {
     "data": {
      "text/plain": [
       "23"
      ]
     },
     "execution_count": 9,
     "metadata": {},
     "output_type": "execute_result"
    }
   ],
   "source": [
    "students_dict[\"Marcelo\"]"
   ]
  },
  {
   "cell_type": "code",
   "execution_count": 10,
   "id": "24fbe980",
   "metadata": {},
   "outputs": [],
   "source": [
    "students_dict.clear()"
   ]
  },
  {
   "cell_type": "code",
   "execution_count": 11,
   "id": "ed6f3a13",
   "metadata": {},
   "outputs": [
    {
     "data": {
      "text/plain": [
       "dict"
      ]
     },
     "execution_count": 11,
     "metadata": {},
     "output_type": "execute_result"
    }
   ],
   "source": [
    "type(students_dict)"
   ]
  },
  {
   "cell_type": "code",
   "execution_count": 12,
   "id": "e4bd0d74",
   "metadata": {},
   "outputs": [
    {
     "data": {
      "text/plain": [
       "{}"
      ]
     },
     "execution_count": 12,
     "metadata": {},
     "output_type": "execute_result"
    }
   ],
   "source": [
    "students_dict"
   ]
  },
  {
   "cell_type": "code",
   "execution_count": 13,
   "id": "cc09d4c1",
   "metadata": {},
   "outputs": [],
   "source": [
    "del students_dict"
   ]
  },
  {
   "cell_type": "code",
   "execution_count": 14,
   "id": "75033149",
   "metadata": {},
   "outputs": [
    {
     "ename": "NameError",
     "evalue": "name 'students_dict' is not defined",
     "output_type": "error",
     "traceback": [
      "\u001b[1;31m---------------------------------------------------------------------------\u001b[0m",
      "\u001b[1;31mNameError\u001b[0m                                 Traceback (most recent call last)",
      "Cell \u001b[1;32mIn[14], line 1\u001b[0m\n\u001b[1;32m----> 1\u001b[0m students_dict\n",
      "\u001b[1;31mNameError\u001b[0m: name 'students_dict' is not defined"
     ]
    }
   ],
   "source": [
    "students_dict"
   ]
  },
  {
   "cell_type": "code",
   "execution_count": 16,
   "id": "50934d0e",
   "metadata": {},
   "outputs": [],
   "source": [
    "students = {\"Matheus\": 23, \"Ana\": 22, \"Ronaldo\": 26, \"Janaina\": 25}"
   ]
  },
  {
   "cell_type": "code",
   "execution_count": 17,
   "id": "33ad3442",
   "metadata": {},
   "outputs": [
    {
     "data": {
      "text/plain": [
       "{'Matheus': 23, 'Ana': 22, 'Ronaldo': 26, 'Janaina': 25}"
      ]
     },
     "execution_count": 17,
     "metadata": {},
     "output_type": "execute_result"
    }
   ],
   "source": [
    "students"
   ]
  },
  {
   "cell_type": "code",
   "execution_count": 18,
   "id": "45f7bace",
   "metadata": {},
   "outputs": [
    {
     "data": {
      "text/plain": [
       "4"
      ]
     },
     "execution_count": 18,
     "metadata": {},
     "output_type": "execute_result"
    }
   ],
   "source": [
    "len(students)"
   ]
  },
  {
   "cell_type": "code",
   "execution_count": 19,
   "id": "91e048c8",
   "metadata": {},
   "outputs": [
    {
     "data": {
      "text/plain": [
       "dict_keys(['Matheus', 'Ana', 'Ronaldo', 'Janaina'])"
      ]
     },
     "execution_count": 19,
     "metadata": {},
     "output_type": "execute_result"
    }
   ],
   "source": [
    "students.keys()"
   ]
  },
  {
   "cell_type": "code",
   "execution_count": 20,
   "id": "2e64e6c8",
   "metadata": {},
   "outputs": [
    {
     "data": {
      "text/plain": [
       "dict_values([23, 22, 26, 25])"
      ]
     },
     "execution_count": 20,
     "metadata": {},
     "output_type": "execute_result"
    }
   ],
   "source": [
    "students.values()"
   ]
  },
  {
   "cell_type": "code",
   "execution_count": 21,
   "id": "808e6a27",
   "metadata": {},
   "outputs": [
    {
     "data": {
      "text/plain": [
       "dict_items([('Matheus', 23), ('Ana', 22), ('Ronaldo', 26), ('Janaina', 25)])"
      ]
     },
     "execution_count": 21,
     "metadata": {},
     "output_type": "execute_result"
    }
   ],
   "source": [
    "students.items()"
   ]
  },
  {
   "cell_type": "code",
   "execution_count": 23,
   "id": "dac3da40",
   "metadata": {},
   "outputs": [],
   "source": [
    "students2 = {\"Camila\": 27, \"Adriana\": 23, \"Roberta\": 36}"
   ]
  },
  {
   "cell_type": "code",
   "execution_count": 24,
   "id": "2be3d08e",
   "metadata": {},
   "outputs": [
    {
     "data": {
      "text/plain": [
       "{'Camila': 27, 'Adriana': 23, 'Roberta': 36}"
      ]
     },
     "execution_count": 24,
     "metadata": {},
     "output_type": "execute_result"
    }
   ],
   "source": [
    "students2"
   ]
  },
  {
   "cell_type": "code",
   "execution_count": 25,
   "id": "05f05b63",
   "metadata": {},
   "outputs": [],
   "source": [
    "students.update(students2)"
   ]
  },
  {
   "cell_type": "code",
   "execution_count": 26,
   "id": "d390c635",
   "metadata": {},
   "outputs": [
    {
     "data": {
      "text/plain": [
       "{'Matheus': 23,\n",
       " 'Ana': 22,\n",
       " 'Ronaldo': 26,\n",
       " 'Janaina': 25,\n",
       " 'Camila': 27,\n",
       " 'Adriana': 23,\n",
       " 'Roberta': 36}"
      ]
     },
     "execution_count": 26,
     "metadata": {},
     "output_type": "execute_result"
    }
   ],
   "source": [
    "students"
   ]
  },
  {
   "cell_type": "code",
   "execution_count": 27,
   "id": "34d81bd4",
   "metadata": {},
   "outputs": [],
   "source": [
    "dict1 = {}"
   ]
  },
  {
   "cell_type": "code",
   "execution_count": 28,
   "id": "14e7bd5f",
   "metadata": {},
   "outputs": [
    {
     "data": {
      "text/plain": [
       "{}"
      ]
     },
     "execution_count": 28,
     "metadata": {},
     "output_type": "execute_result"
    }
   ],
   "source": [
    "dict1"
   ]
  },
  {
   "cell_type": "code",
   "execution_count": 29,
   "id": "6bd1d93b",
   "metadata": {},
   "outputs": [],
   "source": [
    "dict1[\"key_one\"] = 2"
   ]
  },
  {
   "cell_type": "code",
   "execution_count": 30,
   "id": "060abd90",
   "metadata": {},
   "outputs": [
    {
     "name": "stdout",
     "output_type": "stream",
     "text": [
      "{'key_one': 2}\n"
     ]
    }
   ],
   "source": [
    "print(dict1)"
   ]
  },
  {
   "cell_type": "code",
   "execution_count": 31,
   "id": "1f05b685",
   "metadata": {},
   "outputs": [],
   "source": [
    "dict1[10] = 5"
   ]
  },
  {
   "cell_type": "code",
   "execution_count": 32,
   "id": "3103bd71",
   "metadata": {},
   "outputs": [
    {
     "data": {
      "text/plain": [
       "{'key_one': 2, 10: 5}"
      ]
     },
     "execution_count": 32,
     "metadata": {},
     "output_type": "execute_result"
    }
   ],
   "source": [
    "dict1"
   ]
  },
  {
   "cell_type": "code",
   "execution_count": 33,
   "id": "35dce56b",
   "metadata": {},
   "outputs": [],
   "source": [
    "dict1[9.13] = \"Python\""
   ]
  },
  {
   "cell_type": "code",
   "execution_count": 34,
   "id": "9250825f",
   "metadata": {},
   "outputs": [
    {
     "data": {
      "text/plain": [
       "{'key_one': 2, 10: 5, 9.13: 'Python'}"
      ]
     },
     "execution_count": 34,
     "metadata": {},
     "output_type": "execute_result"
    }
   ],
   "source": [
    "dict1"
   ]
  },
  {
   "cell_type": "code",
   "execution_count": 35,
   "id": "58d44f9c",
   "metadata": {},
   "outputs": [],
   "source": [
    "dict1[\"test\"] = 4"
   ]
  },
  {
   "cell_type": "code",
   "execution_count": 36,
   "id": "20700b97",
   "metadata": {},
   "outputs": [
    {
     "data": {
      "text/plain": [
       "{'key_one': 2, 10: 5, 9.13: 'Python', 'test': 4}"
      ]
     },
     "execution_count": 36,
     "metadata": {},
     "output_type": "execute_result"
    }
   ],
   "source": [
    "dict1"
   ]
  },
  {
   "cell_type": "code",
   "execution_count": 37,
   "id": "3ba5cc8f",
   "metadata": {},
   "outputs": [],
   "source": [
    "dict1 = {}"
   ]
  },
  {
   "cell_type": "code",
   "execution_count": 38,
   "id": "d04a76d1",
   "metadata": {},
   "outputs": [
    {
     "data": {
      "text/plain": [
       "{}"
      ]
     },
     "execution_count": 38,
     "metadata": {},
     "output_type": "execute_result"
    }
   ],
   "source": [
    "dict1"
   ]
  },
  {
   "cell_type": "code",
   "execution_count": 39,
   "id": "f3997774",
   "metadata": {},
   "outputs": [],
   "source": [
    "dict1[\"test\"] = 10"
   ]
  },
  {
   "cell_type": "code",
   "execution_count": 40,
   "id": "68e8378e",
   "metadata": {},
   "outputs": [],
   "source": [
    "dict1[\"Key\"] = \"test\""
   ]
  },
  {
   "cell_type": "code",
   "execution_count": 42,
   "id": "ff343233",
   "metadata": {},
   "outputs": [
    {
     "data": {
      "text/plain": [
       "{'test': 10, 'Key': 'test'}"
      ]
     },
     "execution_count": 42,
     "metadata": {},
     "output_type": "execute_result"
    }
   ],
   "source": [
    "# Attention, cause key and value might be equal, but they represent\n",
    "# differents things.\n",
    "dict1"
   ]
  },
  {
   "cell_type": "code",
   "execution_count": 43,
   "id": "61d2c656",
   "metadata": {},
   "outputs": [],
   "source": [
    "dict2 = {}"
   ]
  },
  {
   "cell_type": "code",
   "execution_count": 53,
   "id": "af1b66d1",
   "metadata": {},
   "outputs": [],
   "source": [
    "dict2[\"key1\"] = \"Data Science\""
   ]
  },
  {
   "cell_type": "code",
   "execution_count": 54,
   "id": "272f3f47",
   "metadata": {},
   "outputs": [],
   "source": [
    "dict2[\"key2\"] = \"12\""
   ]
  },
  {
   "cell_type": "code",
   "execution_count": 55,
   "id": "08e005d5",
   "metadata": {},
   "outputs": [],
   "source": [
    "dict2[\"key3\"] = 30"
   ]
  },
  {
   "cell_type": "code",
   "execution_count": 56,
   "id": "5b72191a",
   "metadata": {},
   "outputs": [],
   "source": [
    "a = dict2[\"key1\"]"
   ]
  },
  {
   "cell_type": "code",
   "execution_count": 57,
   "id": "0d099647",
   "metadata": {},
   "outputs": [],
   "source": [
    "b = dict2[\"key2\"]"
   ]
  },
  {
   "cell_type": "code",
   "execution_count": 58,
   "id": "1dd4812a",
   "metadata": {},
   "outputs": [],
   "source": [
    "c = dict2[\"key3\"]"
   ]
  },
  {
   "cell_type": "code",
   "execution_count": 59,
   "id": "7ef1a27c",
   "metadata": {},
   "outputs": [
    {
     "data": {
      "text/plain": [
       "('Data Science', '12', 30)"
      ]
     },
     "execution_count": 59,
     "metadata": {},
     "output_type": "execute_result"
    }
   ],
   "source": [
    "a,b,c"
   ]
  },
  {
   "cell_type": "code",
   "execution_count": 62,
   "id": "468da531",
   "metadata": {},
   "outputs": [],
   "source": [
    "# Dict of lists\n",
    "dict3 = {\"key1\": 1234, \"key2\": [22, 453, 723 ,4], \"key3\":[\"meat\", \"meatlofer\", \"scrambled egggs\"]}"
   ]
  },
  {
   "cell_type": "code",
   "execution_count": 63,
   "id": "19353cac",
   "metadata": {},
   "outputs": [
    {
     "data": {
      "text/plain": [
       "{'key1': 1234,\n",
       " 'key2': [22, 453, 723, 4],\n",
       " 'key3': ['meat', 'meatlofer', 'scrambled egggs']}"
      ]
     },
     "execution_count": 63,
     "metadata": {},
     "output_type": "execute_result"
    }
   ],
   "source": [
    "dict3"
   ]
  },
  {
   "cell_type": "code",
   "execution_count": 64,
   "id": "635a973a",
   "metadata": {},
   "outputs": [
    {
     "data": {
      "text/plain": [
       "[22, 453, 723, 4]"
      ]
     },
     "execution_count": 64,
     "metadata": {},
     "output_type": "execute_result"
    }
   ],
   "source": [
    "dict3[\"key2\"]"
   ]
  },
  {
   "cell_type": "code",
   "execution_count": 66,
   "id": "06471916",
   "metadata": {},
   "outputs": [
    {
     "data": {
      "text/plain": [
       "'MEAT'"
      ]
     },
     "execution_count": 66,
     "metadata": {},
     "output_type": "execute_result"
    }
   ],
   "source": [
    "# Accesing a list's item, inside a dict\n",
    "dict3['key3'][0].upper()"
   ]
  },
  {
   "cell_type": "code",
   "execution_count": 67,
   "id": "e4ae86be",
   "metadata": {},
   "outputs": [],
   "source": [
    "# Operations with list's items, inside a dict\n",
    "var1 = dict3[\"key2\"][0] - 2"
   ]
  },
  {
   "cell_type": "code",
   "execution_count": 68,
   "id": "b387f675",
   "metadata": {},
   "outputs": [
    {
     "data": {
      "text/plain": [
       "20"
      ]
     },
     "execution_count": 68,
     "metadata": {},
     "output_type": "execute_result"
    }
   ],
   "source": [
    "var1"
   ]
  },
  {
   "cell_type": "code",
   "execution_count": 70,
   "id": "87352165",
   "metadata": {},
   "outputs": [],
   "source": [
    "# Two operations with the same command, to use a item inside the list\n",
    "dict3[\"key2\"][0] -=2"
   ]
  },
  {
   "cell_type": "code",
   "execution_count": 71,
   "id": "dfcacfc7",
   "metadata": {},
   "outputs": [
    {
     "data": {
      "text/plain": [
       "{'key1': 1234,\n",
       " 'key2': [20, 453, 723, 4],\n",
       " 'key3': ['meat', 'meatlofer', 'scrambled egggs']}"
      ]
     },
     "execution_count": 71,
     "metadata": {},
     "output_type": "execute_result"
    }
   ],
   "source": [
    "dict3"
   ]
  },
  {
   "cell_type": "markdown",
   "id": "153bc602",
   "metadata": {},
   "source": [
    "### Creating nested dictionaries"
   ]
  },
  {
   "cell_type": "code",
   "execution_count": 73,
   "id": "b1e9c820",
   "metadata": {},
   "outputs": [],
   "source": [
    "# Creating nested dicties\n",
    "nested_dict = {\"key1\": {\"key1_nested\": {\"key1_nested_nested\": \"Nested dict in Python\"}}}"
   ]
  },
  {
   "cell_type": "code",
   "execution_count": 74,
   "id": "94c2ade6",
   "metadata": {},
   "outputs": [
    {
     "data": {
      "text/plain": [
       "{'key1': {'key1_nested': {'key1_nested_nested': 'Nested dict in Python'}}}"
      ]
     },
     "execution_count": 74,
     "metadata": {},
     "output_type": "execute_result"
    }
   ],
   "source": [
    "nested_dict"
   ]
  },
  {
   "cell_type": "code",
   "execution_count": 75,
   "id": "a144b26c",
   "metadata": {},
   "outputs": [
    {
     "data": {
      "text/plain": [
       "'Nested dict in Python'"
      ]
     },
     "execution_count": 75,
     "metadata": {},
     "output_type": "execute_result"
    }
   ],
   "source": [
    "nested_dict[\"key1\"][\"key1_nested\"][\"key1_nested_nested\"]"
   ]
  },
  {
   "cell_type": "markdown",
   "id": "3d65ecdb",
   "metadata": {},
   "source": [
    "## End"
   ]
  }
 ],
 "metadata": {
  "kernelspec": {
   "display_name": "Python 3 (ipykernel)",
   "language": "python",
   "name": "python3"
  },
  "language_info": {
   "codemirror_mode": {
    "name": "ipython",
    "version": 3
   },
   "file_extension": ".py",
   "mimetype": "text/x-python",
   "name": "python",
   "nbconvert_exporter": "python",
   "pygments_lexer": "ipython3",
   "version": "3.11.5"
  }
 },
 "nbformat": 4,
 "nbformat_minor": 5
}
