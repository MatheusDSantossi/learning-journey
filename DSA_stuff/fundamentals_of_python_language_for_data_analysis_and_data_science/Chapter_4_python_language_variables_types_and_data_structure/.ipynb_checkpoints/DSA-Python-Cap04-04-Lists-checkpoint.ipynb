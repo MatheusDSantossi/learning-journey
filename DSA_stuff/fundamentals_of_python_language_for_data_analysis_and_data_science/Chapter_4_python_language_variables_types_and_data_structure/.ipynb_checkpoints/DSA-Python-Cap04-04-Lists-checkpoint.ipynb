{
 "cells": [
  {
   "cell_type": "markdown",
   "id": "7891ee65",
   "metadata": {},
   "source": [
    "# Data Scinece Academy\n",
    "\n",
    "## Fundamentos de Linguagem Python para Análise de Dados e Data Science\n",
    "\n",
    "### Capítulo 4 - Working with Lists - Part 1\n",
    "\n",
    "Lists of lists are matrix in Python"
   ]
  },
  {
   "cell_type": "code",
   "execution_count": 3,
   "id": "6d169cea",
   "metadata": {},
   "outputs": [],
   "source": [
    "# Creating a list\n",
    "list_1 = [\"rice\", \"chicken\", \"milk\", \"tomato\"]"
   ]
  },
  {
   "cell_type": "code",
   "execution_count": 4,
   "id": "f3a524bb",
   "metadata": {},
   "outputs": [
    {
     "data": {
      "text/plain": [
       "list"
      ]
     },
     "execution_count": 4,
     "metadata": {},
     "output_type": "execute_result"
    }
   ],
   "source": [
    "type(list_1)"
   ]
  },
  {
   "cell_type": "code",
   "execution_count": 5,
   "id": "5b0ae7c6",
   "metadata": {},
   "outputs": [],
   "source": [
    "# Creating another list\n",
    "list_2 = [\"rice\", \"chicken\", \"tomato\", \"milk\"]"
   ]
  },
  {
   "cell_type": "code",
   "execution_count": 6,
   "id": "dc705eb2",
   "metadata": {},
   "outputs": [
    {
     "data": {
      "text/plain": [
       "list"
      ]
     },
     "execution_count": 6,
     "metadata": {},
     "output_type": "execute_result"
    }
   ],
   "source": [
    "type(list_2)"
   ]
  },
  {
   "cell_type": "code",
   "execution_count": 7,
   "id": "b331668a",
   "metadata": {},
   "outputs": [],
   "source": [
    "list_3 = [23, 100, \"Data Scientist\"]"
   ]
  },
  {
   "cell_type": "code",
   "execution_count": 8,
   "id": "4684e105",
   "metadata": {},
   "outputs": [
    {
     "data": {
      "text/plain": [
       "list"
      ]
     },
     "execution_count": 8,
     "metadata": {},
     "output_type": "execute_result"
    }
   ],
   "source": [
    "type(list_3)"
   ]
  },
  {
   "cell_type": "code",
   "execution_count": 10,
   "id": "83b17860",
   "metadata": {},
   "outputs": [
    {
     "name": "stdout",
     "output_type": "stream",
     "text": [
      "[23, 100, 'Data Scientist']\n"
     ]
    }
   ],
   "source": [
    "# Printing the list\n",
    "print(list_3)"
   ]
  },
  {
   "cell_type": "code",
   "execution_count": 12,
   "id": "9ebda894",
   "metadata": {},
   "outputs": [],
   "source": [
    "# Giving each value of the list a variable.\n",
    "item1 = list_3[0]\n",
    "item2 = list_3[1]\n",
    "item3 = list_3[2]"
   ]
  },
  {
   "cell_type": "code",
   "execution_count": 13,
   "id": "32cdfbd9",
   "metadata": {},
   "outputs": [
    {
     "name": "stdout",
     "output_type": "stream",
     "text": [
      "23 100 Data Scientist\n"
     ]
    }
   ],
   "source": [
    "# Printing the variables\n",
    "print(item1, item2, item3)"
   ]
  },
  {
   "cell_type": "markdown",
   "id": "d6931f9f",
   "metadata": {},
   "source": [
    "## Updating a List's item"
   ]
  },
  {
   "cell_type": "code",
   "execution_count": 15,
   "id": "61de5819",
   "metadata": {},
   "outputs": [
    {
     "data": {
      "text/plain": [
       "'tomato'"
      ]
     },
     "execution_count": 15,
     "metadata": {},
     "output_type": "execute_result"
    }
   ],
   "source": [
    "# Printing a list's item\n",
    "list_2[2]"
   ]
  },
  {
   "cell_type": "code",
   "execution_count": 16,
   "id": "8351aa24",
   "metadata": {},
   "outputs": [],
   "source": [
    "# Updating a list's item\n",
    "list_2[2] = \"chocolate\""
   ]
  },
  {
   "cell_type": "code",
   "execution_count": 21,
   "id": "59aa632d",
   "metadata": {},
   "outputs": [
    {
     "data": {
      "text/plain": [
       "['rice', 'chicken', 'milk']"
      ]
     },
     "execution_count": 21,
     "metadata": {},
     "output_type": "execute_result"
    }
   ],
   "source": [
    "# Printing a list's item\n",
    "list_2[2]\n",
    "list_2"
   ]
  },
  {
   "cell_type": "markdown",
   "id": "17c4c5b2",
   "metadata": {},
   "source": [
    "## Deleting a list's item"
   ]
  },
  {
   "cell_type": "code",
   "execution_count": 22,
   "id": "378727c6",
   "metadata": {},
   "outputs": [],
   "source": [
    "# It's not possible to delete a item that doens't exist in the list.\n",
    "# It'll raise an erro index out of range\n",
    "del list_2[2]"
   ]
  },
  {
   "cell_type": "code",
   "execution_count": 23,
   "id": "5f83041f",
   "metadata": {},
   "outputs": [
    {
     "data": {
      "text/plain": [
       "['rice', 'chicken']"
      ]
     },
     "execution_count": 23,
     "metadata": {},
     "output_type": "execute_result"
    }
   ],
   "source": [
    "list_2"
   ]
  },
  {
   "cell_type": "markdown",
   "id": "cebc0ced",
   "metadata": {},
   "source": [
    "### Capítulo 4 - Lists of Lists (Nested Lists) - Part 2\n",
    "\n",
    "Lists of lists are matrix in Python"
   ]
  },
  {
   "cell_type": "code",
   "execution_count": 24,
   "id": "f55e8639",
   "metadata": {},
   "outputs": [],
   "source": [
    "# Creating a list of list\n",
    "lists = [[1,2,3], [10,15,14], [10.1,8.7,2.3]]"
   ]
  },
  {
   "cell_type": "code",
   "execution_count": 25,
   "id": "fb0aae23",
   "metadata": {},
   "outputs": [
    {
     "name": "stdout",
     "output_type": "stream",
     "text": [
      "[[1, 2, 3], [10, 15, 14], [10.1, 8.7, 2.3]]\n"
     ]
    }
   ],
   "source": [
    "# Printing the list\n",
    "print(lists)"
   ]
  },
  {
   "cell_type": "code",
   "execution_count": 28,
   "id": "04904801",
   "metadata": {},
   "outputs": [
    {
     "data": {
      "text/plain": [
       "[1, 2, 3]"
      ]
     },
     "execution_count": 28,
     "metadata": {},
     "output_type": "execute_result"
    }
   ],
   "source": [
    "# Giving a list's item a variable\n",
    "a = lists[0]\n",
    "a"
   ]
  },
  {
   "cell_type": "code",
   "execution_count": 29,
   "id": "9d9a1d86",
   "metadata": {},
   "outputs": [],
   "source": [
    "b = a[0]"
   ]
  },
  {
   "cell_type": "code",
   "execution_count": 30,
   "id": "bb6ee449",
   "metadata": {},
   "outputs": [
    {
     "data": {
      "text/plain": [
       "1"
      ]
     },
     "execution_count": 30,
     "metadata": {},
     "output_type": "execute_result"
    }
   ],
   "source": [
    "b"
   ]
  },
  {
   "cell_type": "code",
   "execution_count": 31,
   "id": "df6391bc",
   "metadata": {},
   "outputs": [],
   "source": [
    "list1 = lists[1]"
   ]
  },
  {
   "cell_type": "code",
   "execution_count": 32,
   "id": "5108f99c",
   "metadata": {},
   "outputs": [
    {
     "data": {
      "text/plain": [
       "[10, 15, 14]"
      ]
     },
     "execution_count": 32,
     "metadata": {},
     "output_type": "execute_result"
    }
   ],
   "source": [
    "list1"
   ]
  },
  {
   "cell_type": "code",
   "execution_count": 33,
   "id": "5709b628",
   "metadata": {},
   "outputs": [],
   "source": [
    "value_1_0 = list1[0]"
   ]
  },
  {
   "cell_type": "code",
   "execution_count": 34,
   "id": "47d31338",
   "metadata": {},
   "outputs": [
    {
     "data": {
      "text/plain": [
       "10"
      ]
     },
     "execution_count": 34,
     "metadata": {},
     "output_type": "execute_result"
    }
   ],
   "source": [
    "value_1_0"
   ]
  },
  {
   "cell_type": "code",
   "execution_count": 35,
   "id": "76b48b55",
   "metadata": {},
   "outputs": [],
   "source": [
    "value_1_2 = list1[2]"
   ]
  },
  {
   "cell_type": "code",
   "execution_count": 36,
   "id": "c06abc92",
   "metadata": {},
   "outputs": [
    {
     "data": {
      "text/plain": [
       "14"
      ]
     },
     "execution_count": 36,
     "metadata": {},
     "output_type": "execute_result"
    }
   ],
   "source": [
    "value_1_2"
   ]
  },
  {
   "cell_type": "code",
   "execution_count": 37,
   "id": "e024f166",
   "metadata": {},
   "outputs": [],
   "source": [
    "list2 = lists[2]"
   ]
  },
  {
   "cell_type": "code",
   "execution_count": 38,
   "id": "e1af08d1",
   "metadata": {},
   "outputs": [
    {
     "data": {
      "text/plain": [
       "[10.1, 8.7, 2.3]"
      ]
     },
     "execution_count": 38,
     "metadata": {},
     "output_type": "execute_result"
    }
   ],
   "source": [
    "list2"
   ]
  },
  {
   "cell_type": "code",
   "execution_count": 39,
   "id": "ece074d3",
   "metadata": {},
   "outputs": [],
   "source": [
    "value2_0 = list2[0]"
   ]
  },
  {
   "cell_type": "code",
   "execution_count": 41,
   "id": "a4fe39f3",
   "metadata": {},
   "outputs": [
    {
     "data": {
      "text/plain": [
       "10.1"
      ]
     },
     "execution_count": 41,
     "metadata": {},
     "output_type": "execute_result"
    }
   ],
   "source": [
    "value2_0"
   ]
  },
  {
   "cell_type": "markdown",
   "id": "f29d3623",
   "metadata": {},
   "source": [
    "## Operations with lists"
   ]
  },
  {
   "cell_type": "code",
   "execution_count": 43,
   "id": "be196a7b",
   "metadata": {},
   "outputs": [],
   "source": [
    "# Creating a nested list (list of lists)\n",
    "lists = [[1,2,3], [10, 15, 14], [10.1, 8.7, 2.3]]"
   ]
  },
  {
   "cell_type": "code",
   "execution_count": 44,
   "id": "2715cc66",
   "metadata": {},
   "outputs": [
    {
     "name": "stdout",
     "output_type": "stream",
     "text": [
      "[[1, 2, 3], [10, 15, 14], [10.1, 8.7, 2.3]]\n"
     ]
    }
   ],
   "source": [
    "# Printing the list\n",
    "print(lists)"
   ]
  },
  {
   "cell_type": "code",
   "execution_count": 45,
   "id": "6746a014",
   "metadata": {},
   "outputs": [],
   "source": [
    "# Giving the variable to the first values of the first list\n",
    "a = lists[0][0]"
   ]
  },
  {
   "cell_type": "code",
   "execution_count": 46,
   "id": "8e10ca6a",
   "metadata": {},
   "outputs": [
    {
     "data": {
      "text/plain": [
       "1"
      ]
     },
     "execution_count": 46,
     "metadata": {},
     "output_type": "execute_result"
    }
   ],
   "source": [
    "a"
   ]
  },
  {
   "cell_type": "code",
   "execution_count": 47,
   "id": "468bf76b",
   "metadata": {},
   "outputs": [],
   "source": [
    "b = lists[1][1]"
   ]
  },
  {
   "cell_type": "code",
   "execution_count": 48,
   "id": "65e4f86f",
   "metadata": {},
   "outputs": [
    {
     "data": {
      "text/plain": [
       "15"
      ]
     },
     "execution_count": 48,
     "metadata": {},
     "output_type": "execute_result"
    }
   ],
   "source": [
    "b"
   ]
  },
  {
   "cell_type": "code",
   "execution_count": 49,
   "id": "50d6bc46",
   "metadata": {},
   "outputs": [],
   "source": [
    "c = lists[0][2] + 10"
   ]
  },
  {
   "cell_type": "code",
   "execution_count": 50,
   "id": "a8d2d632",
   "metadata": {},
   "outputs": [
    {
     "data": {
      "text/plain": [
       "13"
      ]
     },
     "execution_count": 50,
     "metadata": {},
     "output_type": "execute_result"
    }
   ],
   "source": [
    "c"
   ]
  },
  {
   "cell_type": "code",
   "execution_count": 51,
   "id": "37ce6cc0",
   "metadata": {},
   "outputs": [],
   "source": [
    "d = 10"
   ]
  },
  {
   "cell_type": "code",
   "execution_count": 52,
   "id": "da3434f1",
   "metadata": {},
   "outputs": [
    {
     "data": {
      "text/plain": [
       "10"
      ]
     },
     "execution_count": 52,
     "metadata": {},
     "output_type": "execute_result"
    }
   ],
   "source": [
    "d"
   ]
  },
  {
   "cell_type": "code",
   "execution_count": 53,
   "id": "f454297d",
   "metadata": {},
   "outputs": [],
   "source": [
    "e = d * lists[2][0]"
   ]
  },
  {
   "cell_type": "code",
   "execution_count": 54,
   "id": "c73ca53c",
   "metadata": {},
   "outputs": [
    {
     "data": {
      "text/plain": [
       "101.0"
      ]
     },
     "execution_count": 54,
     "metadata": {},
     "output_type": "execute_result"
    }
   ],
   "source": [
    "e"
   ]
  },
  {
   "cell_type": "markdown",
   "id": "5cda0b45",
   "metadata": {},
   "source": [
    "## Concatenating Lists"
   ]
  },
  {
   "cell_type": "code",
   "execution_count": 55,
   "id": "5d6ccdfe",
   "metadata": {},
   "outputs": [],
   "source": [
    "list_s1 = [34, 32, 56]"
   ]
  },
  {
   "cell_type": "code",
   "execution_count": 56,
   "id": "c661594b",
   "metadata": {},
   "outputs": [
    {
     "data": {
      "text/plain": [
       "[34, 32, 56]"
      ]
     },
     "execution_count": 56,
     "metadata": {},
     "output_type": "execute_result"
    }
   ],
   "source": [
    "list_s1"
   ]
  },
  {
   "cell_type": "code",
   "execution_count": 57,
   "id": "70668231",
   "metadata": {},
   "outputs": [],
   "source": [
    "list_s2 = [21, 90, 51]"
   ]
  },
  {
   "cell_type": "code",
   "execution_count": 58,
   "id": "f4d732d0",
   "metadata": {},
   "outputs": [
    {
     "data": {
      "text/plain": [
       "[21, 90, 51]"
      ]
     },
     "execution_count": 58,
     "metadata": {},
     "output_type": "execute_result"
    }
   ],
   "source": [
    "list_s2"
   ]
  },
  {
   "cell_type": "code",
   "execution_count": 59,
   "id": "dabb743e",
   "metadata": {},
   "outputs": [],
   "source": [
    "# Concatenating lists\n",
    "total_list = list_s1 + list_s2"
   ]
  },
  {
   "cell_type": "code",
   "execution_count": 60,
   "id": "09533308",
   "metadata": {},
   "outputs": [
    {
     "data": {
      "text/plain": [
       "[34, 32, 56, 21, 90, 51]"
      ]
     },
     "execution_count": 60,
     "metadata": {},
     "output_type": "execute_result"
    }
   ],
   "source": [
    "total_list"
   ]
  },
  {
   "cell_type": "markdown",
   "id": "64bde1e3",
   "metadata": {},
   "source": [
    "## Operator in"
   ]
  },
  {
   "cell_type": "code",
   "execution_count": 61,
   "id": "7461619f",
   "metadata": {},
   "outputs": [],
   "source": [
    "# Creating a list\n",
    "list_test_op = [100, 34, 32, 56]"
   ]
  },
  {
   "cell_type": "code",
   "execution_count": 62,
   "id": "9ab6b887",
   "metadata": {},
   "outputs": [
    {
     "name": "stdout",
     "output_type": "stream",
     "text": [
      "False\n"
     ]
    }
   ],
   "source": [
    "# Checking if the value 10 belongs to the list\n",
    "print(0 in list_test_op)"
   ]
  },
  {
   "cell_type": "code",
   "execution_count": 63,
   "id": "783047dc",
   "metadata": {},
   "outputs": [
    {
     "name": "stdout",
     "output_type": "stream",
     "text": [
      "True\n"
     ]
    }
   ],
   "source": [
    "# Checking if the value 100 belongs to the list\n",
    "print(100 in list_test_op)"
   ]
  },
  {
   "cell_type": "markdown",
   "id": "3d412e1d",
   "metadata": {},
   "source": [
    "## Functions Built-in"
   ]
  },
  {
   "cell_type": "code",
   "execution_count": 2,
   "id": "03f490f4",
   "metadata": {},
   "outputs": [],
   "source": [
    "# Creating a list\n",
    "numbers = [10, 20, 2034, 32, 56]"
   ]
  },
  {
   "cell_type": "code",
   "execution_count": 3,
   "id": "3352f3dc",
   "metadata": {},
   "outputs": [
    {
     "data": {
      "text/plain": [
       "5"
      ]
     },
     "execution_count": 3,
     "metadata": {},
     "output_type": "execute_result"
    }
   ],
   "source": [
    "# Function len() returns the lengh of the list\n",
    "len(numbers)"
   ]
  },
  {
   "cell_type": "code",
   "execution_count": 4,
   "id": "3c537da6",
   "metadata": {},
   "outputs": [
    {
     "data": {
      "text/plain": [
       "2034"
      ]
     },
     "execution_count": 4,
     "metadata": {},
     "output_type": "execute_result"
    }
   ],
   "source": [
    "# Function max() return the max value of the list\n",
    "max(numbers)"
   ]
  },
  {
   "cell_type": "code",
   "execution_count": 5,
   "id": "8326217a",
   "metadata": {},
   "outputs": [
    {
     "data": {
      "text/plain": [
       "10"
      ]
     },
     "execution_count": 5,
     "metadata": {},
     "output_type": "execute_result"
    }
   ],
   "source": [
    "# Function min() return the min value of the list\n",
    "min(numbers)"
   ]
  },
  {
   "cell_type": "code",
   "execution_count": 6,
   "id": "a44236eb",
   "metadata": {},
   "outputs": [],
   "source": [
    "# Creating a list\n",
    "dsa_courses_list = [\"Data Analist\", \"Data Scientist\", \"Data Engeenier\"]"
   ]
  },
  {
   "cell_type": "code",
   "execution_count": 8,
   "id": "0959e304",
   "metadata": {},
   "outputs": [],
   "source": [
    "# Adding an item to the list\n",
    "dsa_courses_list.append(\"IA Engeenier\")"
   ]
  },
  {
   "cell_type": "code",
   "execution_count": 9,
   "id": "1e713962",
   "metadata": {},
   "outputs": [
    {
     "data": {
      "text/plain": [
       "['Data Analist', 'Data Scientist', 'Data Engeenier', 'IA Engeenier']"
      ]
     },
     "execution_count": 9,
     "metadata": {},
     "output_type": "execute_result"
    }
   ],
   "source": [
    "dsa_courses_list"
   ]
  },
  {
   "cell_type": "code",
   "execution_count": 10,
   "id": "e075dc16",
   "metadata": {},
   "outputs": [
    {
     "data": {
      "text/plain": [
       "1"
      ]
     },
     "execution_count": 10,
     "metadata": {},
     "output_type": "execute_result"
    }
   ],
   "source": [
    "dsa_courses_list.count(\"IA Engeenier\")"
   ]
  },
  {
   "cell_type": "code",
   "execution_count": 11,
   "id": "3b0bd4b5",
   "metadata": {},
   "outputs": [],
   "source": [
    "# Creating an empty list\n",
    "a = []"
   ]
  },
  {
   "cell_type": "code",
   "execution_count": 12,
   "id": "b7574399",
   "metadata": {},
   "outputs": [
    {
     "data": {
      "text/plain": [
       "[]"
      ]
     },
     "execution_count": 12,
     "metadata": {},
     "output_type": "execute_result"
    }
   ],
   "source": [
    "a"
   ]
  },
  {
   "cell_type": "code",
   "execution_count": 13,
   "id": "bafc9e56",
   "metadata": {},
   "outputs": [
    {
     "data": {
      "text/plain": [
       "list"
      ]
     },
     "execution_count": 13,
     "metadata": {},
     "output_type": "execute_result"
    }
   ],
   "source": [
    "type(a)"
   ]
  },
  {
   "cell_type": "code",
   "execution_count": 14,
   "id": "263481cd",
   "metadata": {},
   "outputs": [],
   "source": [
    "a.append(10)"
   ]
  },
  {
   "cell_type": "code",
   "execution_count": 15,
   "id": "184dfb01",
   "metadata": {},
   "outputs": [
    {
     "data": {
      "text/plain": [
       "[10]"
      ]
     },
     "execution_count": 15,
     "metadata": {},
     "output_type": "execute_result"
    }
   ],
   "source": [
    "a"
   ]
  },
  {
   "cell_type": "code",
   "execution_count": 16,
   "id": "aed706e2",
   "metadata": {},
   "outputs": [],
   "source": [
    "old_list = [1, 2, 5, 10]"
   ]
  },
  {
   "cell_type": "code",
   "execution_count": 17,
   "id": "ac6dd54a",
   "metadata": {},
   "outputs": [],
   "source": [
    "new_list = []"
   ]
  },
  {
   "cell_type": "code",
   "execution_count": 18,
   "id": "0afcf00c",
   "metadata": {},
   "outputs": [],
   "source": [
    "# Copying the items of one list to another\n",
    "for item in old_list:\n",
    "    new_list.append(item)"
   ]
  },
  {
   "cell_type": "code",
   "execution_count": 19,
   "id": "2494b2e5",
   "metadata": {},
   "outputs": [
    {
     "data": {
      "text/plain": [
       "[1, 2, 5, 10]"
      ]
     },
     "execution_count": 19,
     "metadata": {},
     "output_type": "execute_result"
    }
   ],
   "source": [
    "new_list"
   ]
  },
  {
   "cell_type": "code",
   "execution_count": 20,
   "id": "38570de5",
   "metadata": {},
   "outputs": [
    {
     "name": "stdout",
     "output_type": "stream",
     "text": [
      "['Recife', 'Manaus', 'Salvador', 'Fortaleza', 'Palmas']\n"
     ]
    }
   ],
   "source": [
    "cities = ['Recife', 'Manaus', 'Salvador']\n",
    "cities.extend(['Fortaleza', 'Palmas'])\n",
    "print(cities)"
   ]
  },
  {
   "cell_type": "code",
   "execution_count": 21,
   "id": "5292c362",
   "metadata": {},
   "outputs": [
    {
     "data": {
      "text/plain": [
       "2"
      ]
     },
     "execution_count": 21,
     "metadata": {},
     "output_type": "execute_result"
    }
   ],
   "source": [
    "cities.index(\"Salvador\")"
   ]
  },
  {
   "cell_type": "code",
   "execution_count": 22,
   "id": "a6d21287",
   "metadata": {},
   "outputs": [
    {
     "ename": "ValueError",
     "evalue": "'Rio de Janeiro' is not in list",
     "output_type": "error",
     "traceback": [
      "\u001b[1;31m---------------------------------------------------------------------------\u001b[0m",
      "\u001b[1;31mValueError\u001b[0m                                Traceback (most recent call last)",
      "Cell \u001b[1;32mIn[22], line 1\u001b[0m\n\u001b[1;32m----> 1\u001b[0m cities\u001b[38;5;241m.\u001b[39mindex(\u001b[38;5;124m\"\u001b[39m\u001b[38;5;124mRio de Janeiro\u001b[39m\u001b[38;5;124m\"\u001b[39m)\n",
      "\u001b[1;31mValueError\u001b[0m: 'Rio de Janeiro' is not in list"
     ]
    }
   ],
   "source": [
    "cities.index(\"Rio de Janeiro\")"
   ]
  },
  {
   "cell_type": "code",
   "execution_count": 23,
   "id": "07c2bb90",
   "metadata": {},
   "outputs": [
    {
     "data": {
      "text/plain": [
       "['Recife', 'Manaus', 'Salvador', 'Fortaleza', 'Palmas']"
      ]
     },
     "execution_count": 23,
     "metadata": {},
     "output_type": "execute_result"
    }
   ],
   "source": [
    "cities"
   ]
  },
  {
   "cell_type": "code",
   "execution_count": 24,
   "id": "67bee902",
   "metadata": {},
   "outputs": [],
   "source": [
    "cities.insert(2, 110)"
   ]
  },
  {
   "cell_type": "code",
   "execution_count": 25,
   "id": "7c88603f",
   "metadata": {},
   "outputs": [
    {
     "data": {
      "text/plain": [
       "['Recife', 'Manaus', 110, 'Salvador', 'Fortaleza', 'Palmas']"
      ]
     },
     "execution_count": 25,
     "metadata": {},
     "output_type": "execute_result"
    }
   ],
   "source": [
    "cities"
   ]
  },
  {
   "cell_type": "code",
   "execution_count": 26,
   "id": "a637e02d",
   "metadata": {},
   "outputs": [],
   "source": [
    "# Remove an item from the list\n",
    "cities.remove(110)"
   ]
  },
  {
   "cell_type": "code",
   "execution_count": 27,
   "id": "57771e3c",
   "metadata": {},
   "outputs": [
    {
     "data": {
      "text/plain": [
       "['Recife', 'Manaus', 'Salvador', 'Fortaleza', 'Palmas']"
      ]
     },
     "execution_count": 27,
     "metadata": {},
     "output_type": "execute_result"
    }
   ],
   "source": [
    "cities"
   ]
  },
  {
   "cell_type": "code",
   "execution_count": 28,
   "id": "eff0b286",
   "metadata": {},
   "outputs": [],
   "source": [
    "# Revert the list\n",
    "cities.reverse()"
   ]
  },
  {
   "cell_type": "code",
   "execution_count": 29,
   "id": "4ddab2ee",
   "metadata": {},
   "outputs": [
    {
     "data": {
      "text/plain": [
       "['Palmas', 'Fortaleza', 'Salvador', 'Manaus', 'Recife']"
      ]
     },
     "execution_count": 29,
     "metadata": {},
     "output_type": "execute_result"
    }
   ],
   "source": [
    "cities"
   ]
  },
  {
   "cell_type": "code",
   "execution_count": 30,
   "id": "5cd1abeb",
   "metadata": {},
   "outputs": [],
   "source": [
    "x = [3, 4, 2, 1]"
   ]
  },
  {
   "cell_type": "code",
   "execution_count": 31,
   "id": "dc0f79a5",
   "metadata": {},
   "outputs": [
    {
     "data": {
      "text/plain": [
       "[3, 4, 2, 1]"
      ]
     },
     "execution_count": 31,
     "metadata": {},
     "output_type": "execute_result"
    }
   ],
   "source": [
    "x"
   ]
  },
  {
   "cell_type": "code",
   "execution_count": 32,
   "id": "15f252ab",
   "metadata": {},
   "outputs": [],
   "source": [
    "# Ordering the list\n",
    "x.sort()"
   ]
  },
  {
   "cell_type": "code",
   "execution_count": 33,
   "id": "d253cca8",
   "metadata": {},
   "outputs": [
    {
     "data": {
      "text/plain": [
       "[1, 2, 3, 4]"
      ]
     },
     "execution_count": 33,
     "metadata": {},
     "output_type": "execute_result"
    }
   ],
   "source": [
    "x"
   ]
  },
  {
   "cell_type": "code",
   "execution_count": null,
   "id": "bdf35b46",
   "metadata": {},
   "outputs": [],
   "source": []
  },
  {
   "cell_type": "markdown",
   "id": "f9a8e34c",
   "metadata": {},
   "source": [
    "## End"
   ]
  }
 ],
 "metadata": {
  "kernelspec": {
   "display_name": "Python 3 (ipykernel)",
   "language": "python",
   "name": "python3"
  },
  "language_info": {
   "codemirror_mode": {
    "name": "ipython",
    "version": 3
   },
   "file_extension": ".py",
   "mimetype": "text/x-python",
   "name": "python",
   "nbconvert_exporter": "python",
   "pygments_lexer": "ipython3",
   "version": "3.11.5"
  }
 },
 "nbformat": 4,
 "nbformat_minor": 5
}
