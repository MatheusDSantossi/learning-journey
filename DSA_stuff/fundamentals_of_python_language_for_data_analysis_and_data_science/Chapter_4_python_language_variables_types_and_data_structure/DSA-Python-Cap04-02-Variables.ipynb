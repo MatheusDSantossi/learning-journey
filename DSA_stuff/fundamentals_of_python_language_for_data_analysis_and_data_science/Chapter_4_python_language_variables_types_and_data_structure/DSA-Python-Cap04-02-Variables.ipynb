{
 "cells": [
  {
   "cell_type": "markdown",
   "id": "491ab013",
   "metadata": {},
   "source": [
    "# Data Scinece Academy\n",
    "\n",
    "## Fundamentos de Linguagem Python para Análise de Dados e Data Science\n",
    "\n",
    "### Capítulo 4 - Variáveis e Operadores"
   ]
  },
  {
   "cell_type": "markdown",
   "id": "f1bb073d",
   "metadata": {},
   "source": [
    "## Working with Variables"
   ]
  },
  {
   "cell_type": "code",
   "execution_count": 2,
   "id": "283ecb33",
   "metadata": {},
   "outputs": [],
   "source": [
    "# Atriabuindo the value 1 to the variable var_test\n",
    "var_teste = 1"
   ]
  },
  {
   "cell_type": "code",
   "execution_count": 3,
   "id": "4e415ee8",
   "metadata": {},
   "outputs": [
    {
     "data": {
      "text/plain": [
       "1"
      ]
     },
     "execution_count": 3,
     "metadata": {},
     "output_type": "execute_result"
    }
   ],
   "source": [
    "# Printing the value of the variable\n",
    "var_teste"
   ]
  },
  {
   "cell_type": "code",
   "execution_count": 4,
   "id": "047db865",
   "metadata": {},
   "outputs": [
    {
     "ename": "NameError",
     "evalue": "name 'my_var' is not defined",
     "output_type": "error",
     "traceback": [
      "\u001b[1;31m---------------------------------------------------------------------------\u001b[0m",
      "\u001b[1;31mNameError\u001b[0m                                 Traceback (most recent call last)",
      "Cell \u001b[1;32mIn[4], line 2\u001b[0m\n\u001b[0;32m      1\u001b[0m \u001b[38;5;66;03m# We can't utilizate a variable that wasn't defined. Read the error message\u001b[39;00m\n\u001b[1;32m----> 2\u001b[0m my_var\n",
      "\u001b[1;31mNameError\u001b[0m: name 'my_var' is not defined"
     ]
    }
   ],
   "source": [
    "# We can't utilizate a variable that wasn't defined. Read the error message\n",
    "my_var"
   ]
  },
  {
   "cell_type": "code",
   "execution_count": 5,
   "id": "f0acbdb8",
   "metadata": {},
   "outputs": [],
   "source": [
    "var_test = 2"
   ]
  },
  {
   "cell_type": "code",
   "execution_count": 6,
   "id": "0529fe90",
   "metadata": {},
   "outputs": [
    {
     "data": {
      "text/plain": [
       "1"
      ]
     },
     "execution_count": 6,
     "metadata": {},
     "output_type": "execute_result"
    }
   ],
   "source": [
    "var_teste"
   ]
  },
  {
   "cell_type": "code",
   "execution_count": 7,
   "id": "f171fabe",
   "metadata": {},
   "outputs": [
    {
     "data": {
      "text/plain": [
       "int"
      ]
     },
     "execution_count": 7,
     "metadata": {},
     "output_type": "execute_result"
    }
   ],
   "source": [
    "type(var_teste)"
   ]
  },
  {
   "cell_type": "code",
   "execution_count": 8,
   "id": "8097ab73",
   "metadata": {},
   "outputs": [],
   "source": [
    "var_teste = 9.5"
   ]
  },
  {
   "cell_type": "code",
   "execution_count": 9,
   "id": "ba8813d7",
   "metadata": {},
   "outputs": [
    {
     "data": {
      "text/plain": [
       "float"
      ]
     },
     "execution_count": 9,
     "metadata": {},
     "output_type": "execute_result"
    }
   ],
   "source": [
    "type(var_teste)"
   ]
  },
  {
   "cell_type": "code",
   "execution_count": 10,
   "id": "2377cba8",
   "metadata": {},
   "outputs": [],
   "source": [
    "x = 1"
   ]
  },
  {
   "cell_type": "code",
   "execution_count": 11,
   "id": "cd55894a",
   "metadata": {},
   "outputs": [
    {
     "data": {
      "text/plain": [
       "1"
      ]
     },
     "execution_count": 11,
     "metadata": {},
     "output_type": "execute_result"
    }
   ],
   "source": [
    "x"
   ]
  },
  {
   "cell_type": "markdown",
   "id": "a5b0dbbe",
   "metadata": {},
   "source": [
    "## Multiply Declaration"
   ]
  },
  {
   "cell_type": "code",
   "execution_count": 12,
   "id": "e0beb106",
   "metadata": {},
   "outputs": [],
   "source": [
    "people1, people2, people3 = \"Matheus\", \"Maria\", \"Erer\""
   ]
  },
  {
   "cell_type": "code",
   "execution_count": 13,
   "id": "d1d35288",
   "metadata": {},
   "outputs": [
    {
     "data": {
      "text/plain": [
       "'Matheus'"
      ]
     },
     "execution_count": 13,
     "metadata": {},
     "output_type": "execute_result"
    }
   ],
   "source": [
    "people1"
   ]
  },
  {
   "cell_type": "code",
   "execution_count": 14,
   "id": "ce680d2a",
   "metadata": {},
   "outputs": [
    {
     "data": {
      "text/plain": [
       "'Maria'"
      ]
     },
     "execution_count": 14,
     "metadata": {},
     "output_type": "execute_result"
    }
   ],
   "source": [
    "people2"
   ]
  },
  {
   "cell_type": "code",
   "execution_count": 15,
   "id": "f06a0dc3",
   "metadata": {},
   "outputs": [
    {
     "data": {
      "text/plain": [
       "'Erer'"
      ]
     },
     "execution_count": 15,
     "metadata": {},
     "output_type": "execute_result"
    }
   ],
   "source": [
    "people3"
   ]
  },
  {
   "cell_type": "code",
   "execution_count": 16,
   "id": "422c9279",
   "metadata": {},
   "outputs": [],
   "source": [
    "fruit1 = fruit2 = fruit3 = \"Watermellon\""
   ]
  },
  {
   "cell_type": "code",
   "execution_count": 18,
   "id": "f781ab4d",
   "metadata": {},
   "outputs": [
    {
     "data": {
      "text/plain": [
       "'Watermellon'"
      ]
     },
     "execution_count": 18,
     "metadata": {},
     "output_type": "execute_result"
    }
   ],
   "source": [
    "fruit1"
   ]
  },
  {
   "cell_type": "code",
   "execution_count": 19,
   "id": "686c18ac",
   "metadata": {},
   "outputs": [
    {
     "data": {
      "text/plain": [
       "'Watermellon'"
      ]
     },
     "execution_count": 19,
     "metadata": {},
     "output_type": "execute_result"
    }
   ],
   "source": [
    "fruit2"
   ]
  },
  {
   "cell_type": "code",
   "execution_count": 21,
   "id": "1b48718d",
   "metadata": {},
   "outputs": [
    {
     "ename": "NameError",
     "evalue": "name 'Fruit2' is not defined",
     "output_type": "error",
     "traceback": [
      "\u001b[1;31m---------------------------------------------------------------------------\u001b[0m",
      "\u001b[1;31mNameError\u001b[0m                                 Traceback (most recent call last)",
      "Cell \u001b[1;32mIn[21], line 3\u001b[0m\n\u001b[0;32m      1\u001b[0m \u001b[38;5;66;03m# Stay alert!! Python is case-sensitive. We create the variable fruit2, but not the\u001b[39;00m\n\u001b[0;32m      2\u001b[0m \u001b[38;5;66;03m# the variable Fruit2\u001b[39;00m\n\u001b[1;32m----> 3\u001b[0m Fruit2\n",
      "\u001b[1;31mNameError\u001b[0m: name 'Fruit2' is not defined"
     ]
    }
   ],
   "source": [
    "# Stay alert!! Python is case-sensitive. We create the variable fruit2, but not the\n",
    "# the variable Fruit2\n",
    "Fruit2"
   ]
  },
  {
   "cell_type": "code",
   "execution_count": 22,
   "id": "44c54acb",
   "metadata": {},
   "outputs": [],
   "source": [
    "x1 = 50"
   ]
  },
  {
   "cell_type": "code",
   "execution_count": 23,
   "id": "0d98089b",
   "metadata": {
    "scrolled": true
   },
   "outputs": [
    {
     "data": {
      "text/plain": [
       "50"
      ]
     },
     "execution_count": 23,
     "metadata": {},
     "output_type": "execute_result"
    }
   ],
   "source": [
    "x1"
   ]
  },
  {
   "cell_type": "code",
   "execution_count": 24,
   "id": "461ef31f",
   "metadata": {},
   "outputs": [
    {
     "ename": "SyntaxError",
     "evalue": "invalid decimal literal (2079796758.py, line 1)",
     "output_type": "error",
     "traceback": [
      "\u001b[1;36m  Cell \u001b[1;32mIn[24], line 1\u001b[1;36m\u001b[0m\n\u001b[1;33m    1x = 2\u001b[0m\n\u001b[1;37m    ^\u001b[0m\n\u001b[1;31mSyntaxError\u001b[0m\u001b[1;31m:\u001b[0m invalid decimal literal\n"
     ]
    }
   ],
   "source": [
    "1x = 2"
   ]
  },
  {
   "cell_type": "markdown",
   "id": "26eee2b2",
   "metadata": {},
   "source": [
    "### We can't use reserved words to name a variable"
   ]
  },
  {
   "cell_type": "markdown",
   "id": "30512588",
   "metadata": {},
   "source": [
    "* break\n",
    "* class\n",
    "* finally\n",
    "* return"
   ]
  },
  {
   "cell_type": "code",
   "execution_count": 27,
   "id": "b1c40239",
   "metadata": {},
   "outputs": [],
   "source": [
    "width = 2"
   ]
  },
  {
   "cell_type": "code",
   "execution_count": 28,
   "id": "c39b7339",
   "metadata": {},
   "outputs": [],
   "source": [
    "height = 4"
   ]
  },
  {
   "cell_type": "code",
   "execution_count": 29,
   "id": "4aef4671",
   "metadata": {},
   "outputs": [],
   "source": [
    "area = width * height"
   ]
  },
  {
   "cell_type": "code",
   "execution_count": 30,
   "id": "17e0c31f",
   "metadata": {},
   "outputs": [
    {
     "data": {
      "text/plain": [
       "8"
      ]
     },
     "execution_count": 30,
     "metadata": {},
     "output_type": "execute_result"
    }
   ],
   "source": [
    "area"
   ]
  },
  {
   "cell_type": "code",
   "execution_count": 31,
   "id": "ca885124",
   "metadata": {},
   "outputs": [],
   "source": [
    "perimeter = 2 * width + 2 * height"
   ]
  },
  {
   "cell_type": "code",
   "execution_count": 32,
   "id": "90c928c9",
   "metadata": {},
   "outputs": [
    {
     "data": {
      "text/plain": [
       "12"
      ]
     },
     "execution_count": 32,
     "metadata": {},
     "output_type": "execute_result"
    }
   ],
   "source": [
    "perimeter"
   ]
  },
  {
   "cell_type": "code",
   "execution_count": 33,
   "id": "a6270429",
   "metadata": {},
   "outputs": [],
   "source": [
    "perimeter = 2 * (width + 2) * height"
   ]
  },
  {
   "cell_type": "code",
   "execution_count": 34,
   "id": "87a2d175",
   "metadata": {},
   "outputs": [
    {
     "data": {
      "text/plain": [
       "32"
      ]
     },
     "execution_count": 34,
     "metadata": {},
     "output_type": "execute_result"
    }
   ],
   "source": [
    "perimeter"
   ]
  },
  {
   "cell_type": "markdown",
   "id": "2a602f35",
   "metadata": {},
   "source": [
    "### Operations with Variables"
   ]
  },
  {
   "cell_type": "code",
   "execution_count": 35,
   "id": "2300d3a9",
   "metadata": {},
   "outputs": [],
   "source": [
    "age1 = 25"
   ]
  },
  {
   "cell_type": "code",
   "execution_count": 36,
   "id": "85c4da94",
   "metadata": {},
   "outputs": [],
   "source": [
    "age2 = 35"
   ]
  },
  {
   "cell_type": "code",
   "execution_count": 37,
   "id": "358cb779",
   "metadata": {},
   "outputs": [
    {
     "data": {
      "text/plain": [
       "60"
      ]
     },
     "execution_count": 37,
     "metadata": {},
     "output_type": "execute_result"
    }
   ],
   "source": [
    "age1 + age2"
   ]
  },
  {
   "cell_type": "code",
   "execution_count": 38,
   "id": "30cf21f8",
   "metadata": {},
   "outputs": [
    {
     "data": {
      "text/plain": [
       "0.7142857142857143"
      ]
     },
     "execution_count": 38,
     "metadata": {},
     "output_type": "execute_result"
    }
   ],
   "source": [
    "age1 / age2"
   ]
  },
  {
   "cell_type": "markdown",
   "id": "496cb23e",
   "metadata": {},
   "source": [
    "## Variables concatenation"
   ]
  },
  {
   "cell_type": "code",
   "execution_count": 39,
   "id": "26f2fcbd",
   "metadata": {},
   "outputs": [],
   "source": [
    "name = \"Matheus\""
   ]
  },
  {
   "cell_type": "code",
   "execution_count": 40,
   "id": "6cee8682",
   "metadata": {},
   "outputs": [],
   "source": [
    "lastname = \"D. Santos\""
   ]
  },
  {
   "cell_type": "code",
   "execution_count": 41,
   "id": "6b3aed9d",
   "metadata": {},
   "outputs": [],
   "source": [
    "fullName = name + \" \" + lastname"
   ]
  },
  {
   "cell_type": "code",
   "execution_count": 42,
   "id": "67c6dadb",
   "metadata": {},
   "outputs": [
    {
     "data": {
      "text/plain": [
       "'Matheus D. Santos'"
      ]
     },
     "execution_count": 42,
     "metadata": {},
     "output_type": "execute_result"
    }
   ],
   "source": [
    "fullName"
   ]
  },
  {
   "cell_type": "markdown",
   "id": "ae908d5a",
   "metadata": {},
   "source": [
    "## End."
   ]
  }
 ],
 "metadata": {
  "kernelspec": {
   "display_name": "Python 3 (ipykernel)",
   "language": "python",
   "name": "python3"
  },
  "language_info": {
   "codemirror_mode": {
    "name": "ipython",
    "version": 3
   },
   "file_extension": ".py",
   "mimetype": "text/x-python",
   "name": "python",
   "nbconvert_exporter": "python",
   "pygments_lexer": "ipython3",
   "version": "3.11.5"
  }
 },
 "nbformat": 4,
 "nbformat_minor": 5
}
