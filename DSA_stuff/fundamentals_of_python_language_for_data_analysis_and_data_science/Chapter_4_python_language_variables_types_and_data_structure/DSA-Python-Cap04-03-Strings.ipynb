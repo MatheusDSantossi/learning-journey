{
 "cells": [
  {
   "cell_type": "markdown",
   "id": "95eca444",
   "metadata": {},
   "source": [
    "# Data Scinece Academy\n",
    "\n",
    "## Fundamentos de Linguagem Python para Análise de Dados e Data Science\n",
    "\n",
    "### Capítulo 4 - Strings and Indexing"
   ]
  },
  {
   "cell_type": "code",
   "execution_count": 1,
   "id": "96ec4fef",
   "metadata": {},
   "outputs": [
    {
     "data": {
      "text/plain": [
       "'Hello, world!'"
      ]
     },
     "execution_count": 1,
     "metadata": {},
     "output_type": "execute_result"
    }
   ],
   "source": [
    "# A single word\n",
    "'Hello, world!'"
   ]
  },
  {
   "cell_type": "code",
   "execution_count": 2,
   "id": "496302c9",
   "metadata": {},
   "outputs": [
    {
     "data": {
      "text/plain": [
       "'Creating a string in Python'"
      ]
     },
     "execution_count": 2,
     "metadata": {},
     "output_type": "execute_result"
    }
   ],
   "source": [
    "# A sentence\n",
    "'Creating a string in Python'"
   ]
  },
  {
   "cell_type": "code",
   "execution_count": 3,
   "id": "c697c3f3",
   "metadata": {},
   "outputs": [
    {
     "data": {
      "text/plain": [
       "'We can use '"
      ]
     },
     "execution_count": 3,
     "metadata": {},
     "output_type": "execute_result"
    }
   ],
   "source": [
    "# We can use aspas duplas\n",
    "\"We can use \""
   ]
  },
  {
   "cell_type": "code",
   "execution_count": 4,
   "id": "88646896",
   "metadata": {},
   "outputs": [
    {
     "data": {
      "text/plain": [
       "\"Testing string in 'Python'\""
      ]
     },
     "execution_count": 4,
     "metadata": {},
     "output_type": "execute_result"
    }
   ],
   "source": [
    "# You can combine both\n",
    "\"Testing string in 'Python'\""
   ]
  },
  {
   "cell_type": "code",
   "execution_count": 5,
   "id": "28204484",
   "metadata": {},
   "outputs": [
    {
     "name": "stdout",
     "output_type": "stream",
     "text": [
      "Testing\n"
     ]
    }
   ],
   "source": [
    "print('Testing')"
   ]
  },
  {
   "cell_type": "code",
   "execution_count": 6,
   "id": "294fedf5",
   "metadata": {},
   "outputs": [
    {
     "name": "stdout",
     "output_type": "stream",
     "text": [
      "Testing \n",
      " String \n",
      " in \n",
      " Python \n",
      " the space\n"
     ]
    }
   ],
   "source": [
    "print('Testing \\n String \\n in \\n Python \\n the space')"
   ]
  },
  {
   "cell_type": "markdown",
   "id": "6f0de001",
   "metadata": {},
   "source": [
    "### Indexing String"
   ]
  },
  {
   "cell_type": "code",
   "execution_count": 8,
   "id": "24ce1415",
   "metadata": {},
   "outputs": [],
   "source": [
    "# Atribuindo a string\n",
    "b = 'Matheus'"
   ]
  },
  {
   "cell_type": "code",
   "execution_count": 9,
   "id": "3712f95d",
   "metadata": {},
   "outputs": [
    {
     "name": "stdout",
     "output_type": "stream",
     "text": [
      "Matheus\n"
     ]
    }
   ],
   "source": [
    "print(b)"
   ]
  },
  {
   "cell_type": "markdown",
   "id": "4254ac4a",
   "metadata": {},
   "source": [
    "### Index in Python starts by 0"
   ]
  },
  {
   "cell_type": "code",
   "execution_count": 10,
   "id": "db21ed46",
   "metadata": {},
   "outputs": [
    {
     "data": {
      "text/plain": [
       "'M'"
      ]
     },
     "execution_count": 10,
     "metadata": {},
     "output_type": "execute_result"
    }
   ],
   "source": [
    "# First element of a String\n",
    "b[0]"
   ]
  },
  {
   "cell_type": "markdown",
   "id": "b4abe0e6",
   "metadata": {},
   "source": [
    "We can use a : to execute a slicing that makes all the read till a set point, For example:"
   ]
  },
  {
   "cell_type": "code",
   "execution_count": 12,
   "id": "0e90792b",
   "metadata": {},
   "outputs": [
    {
     "data": {
      "text/plain": [
       "'atheus'"
      ]
     },
     "execution_count": 12,
     "metadata": {},
     "output_type": "execute_result"
    }
   ],
   "source": [
    "# Return all the elements of a string, starting by the position\n",
    "# (remember that Python index starts by the position 0),\n",
    "# till the end of the string.\n",
    "b[1:]"
   ]
  },
  {
   "cell_type": "code",
   "execution_count": 13,
   "id": "87c1ee8c",
   "metadata": {},
   "outputs": [
    {
     "data": {
      "text/plain": [
       "'Matheus'"
      ]
     },
     "execution_count": 13,
     "metadata": {},
     "output_type": "execute_result"
    }
   ],
   "source": [
    "# The original string keeps untoched\n",
    "b"
   ]
  },
  {
   "cell_type": "code",
   "execution_count": 14,
   "id": "cfc51ae9",
   "metadata": {},
   "outputs": [
    {
     "data": {
      "text/plain": [
       "'Mat'"
      ]
     },
     "execution_count": 14,
     "metadata": {},
     "output_type": "execute_result"
    }
   ],
   "source": [
    "# Return everything till the position 3\n",
    "b[:3]"
   ]
  },
  {
   "cell_type": "code",
   "execution_count": 16,
   "id": "4d2cdaac",
   "metadata": {},
   "outputs": [
    {
     "data": {
      "text/plain": [
       "'s'"
      ]
     },
     "execution_count": 16,
     "metadata": {},
     "output_type": "execute_result"
    }
   ],
   "source": [
    "# We also can use a negative index and read up side down\n",
    "b[-1]"
   ]
  },
  {
   "cell_type": "code",
   "execution_count": 17,
   "id": "7a921f30",
   "metadata": {},
   "outputs": [
    {
     "data": {
      "text/plain": [
       "'Matheu'"
      ]
     },
     "execution_count": 17,
     "metadata": {},
     "output_type": "execute_result"
    }
   ],
   "source": [
    "# Retorn everythin except the last letter\n",
    "b[:-1]"
   ]
  },
  {
   "cell_type": "markdown",
   "id": "dbb41c9c",
   "metadata": {},
   "source": [
    "We also can use a index notation and slice in specific pieces (the default is 1).\n",
    "\n",
    "For example, we can use two points twice in a row, and after that, a specific the frequence to return elements."
   ]
  },
  {
   "cell_type": "code",
   "execution_count": 18,
   "id": "2d1e393e",
   "metadata": {},
   "outputs": [
    {
     "data": {
      "text/plain": [
       "'Matheus'"
      ]
     },
     "execution_count": 18,
     "metadata": {},
     "output_type": "execute_result"
    }
   ],
   "source": [
    "b[::1]"
   ]
  },
  {
   "cell_type": "code",
   "execution_count": 20,
   "id": "e906535e",
   "metadata": {},
   "outputs": [
    {
     "data": {
      "text/plain": [
       "'Mtes'"
      ]
     },
     "execution_count": 20,
     "metadata": {},
     "output_type": "execute_result"
    }
   ],
   "source": [
    "b[::2]"
   ]
  },
  {
   "cell_type": "code",
   "execution_count": 21,
   "id": "bc1f71b9",
   "metadata": {},
   "outputs": [
    {
     "data": {
      "text/plain": [
       "'suehtaM'"
      ]
     },
     "execution_count": 21,
     "metadata": {},
     "output_type": "execute_result"
    }
   ],
   "source": [
    "b[::-1]"
   ]
  },
  {
   "cell_type": "markdown",
   "id": "a95dd6be",
   "metadata": {},
   "source": [
    "### Strings proprieties"
   ]
  },
  {
   "cell_type": "code",
   "execution_count": 22,
   "id": "f1577628",
   "metadata": {},
   "outputs": [
    {
     "data": {
      "text/plain": [
       "'Matheus'"
      ]
     },
     "execution_count": 22,
     "metadata": {},
     "output_type": "execute_result"
    }
   ],
   "source": [
    "b"
   ]
  },
  {
   "cell_type": "code",
   "execution_count": 23,
   "id": "f030562c",
   "metadata": {},
   "outputs": [
    {
     "ename": "TypeError",
     "evalue": "'str' object does not support item assignment",
     "output_type": "error",
     "traceback": [
      "\u001b[1;31m---------------------------------------------------------------------------\u001b[0m",
      "\u001b[1;31mTypeError\u001b[0m                                 Traceback (most recent call last)",
      "Cell \u001b[1;32mIn[23], line 1\u001b[0m\n\u001b[1;32m----> 1\u001b[0m b[\u001b[38;5;241m0\u001b[39m] \u001b[38;5;241m=\u001b[39m \u001b[38;5;124m'\u001b[39m\u001b[38;5;124mZ\u001b[39m\u001b[38;5;124m'\u001b[39m\n",
      "\u001b[1;31mTypeError\u001b[0m: 'str' object does not support item assignment"
     ]
    }
   ],
   "source": [
    "# Alterning a caracter (isn't possible alter a string element)\n",
    "b[0] = 'Z'"
   ]
  },
  {
   "cell_type": "code",
   "execution_count": 24,
   "id": "58d36ae4",
   "metadata": {},
   "outputs": [
    {
     "data": {
      "text/plain": [
       "'Matheus is the best way to be prepared for the work market in Data science'"
      ]
     },
     "execution_count": 24,
     "metadata": {},
     "output_type": "execute_result"
    }
   ],
   "source": [
    "# Cocatenate Strings\n",
    "b + \" is the best way to be prepared for the work market in Data science\""
   ]
  },
  {
   "cell_type": "code",
   "execution_count": 25,
   "id": "02582463",
   "metadata": {},
   "outputs": [],
   "source": [
    "b = b + ' is the best way'"
   ]
  },
  {
   "cell_type": "code",
   "execution_count": 26,
   "id": "888713c6",
   "metadata": {},
   "outputs": [
    {
     "name": "stdout",
     "output_type": "stream",
     "text": [
      "Matheus is the best way\n"
     ]
    }
   ],
   "source": [
    "print(b)"
   ]
  },
  {
   "cell_type": "code",
   "execution_count": 27,
   "id": "38be4d9f",
   "metadata": {},
   "outputs": [],
   "source": [
    "# Wr can use the multiply symbol to create repetition!\n",
    "letter = 'w'"
   ]
  },
  {
   "cell_type": "code",
   "execution_count": 28,
   "id": "2ab42865",
   "metadata": {},
   "outputs": [
    {
     "data": {
      "text/plain": [
       "'www'"
      ]
     },
     "execution_count": 28,
     "metadata": {},
     "output_type": "execute_result"
    }
   ],
   "source": [
    "letter * 3"
   ]
  },
  {
   "cell_type": "markdown",
   "id": "dd52e181",
   "metadata": {},
   "source": [
    "### Built-in Functions of Strings"
   ]
  },
  {
   "cell_type": "code",
   "execution_count": 29,
   "id": "bbebe828",
   "metadata": {},
   "outputs": [
    {
     "data": {
      "text/plain": [
       "'Matheus is the best way'"
      ]
     },
     "execution_count": 29,
     "metadata": {},
     "output_type": "execute_result"
    }
   ],
   "source": [
    "b"
   ]
  },
  {
   "cell_type": "code",
   "execution_count": 30,
   "id": "09406ab8",
   "metadata": {},
   "outputs": [
    {
     "data": {
      "text/plain": [
       "'MATHEUS IS THE BEST WAY'"
      ]
     },
     "execution_count": 30,
     "metadata": {},
     "output_type": "execute_result"
    }
   ],
   "source": [
    "b.upper()"
   ]
  },
  {
   "cell_type": "code",
   "execution_count": 31,
   "id": "e7a8d7ff",
   "metadata": {},
   "outputs": [
    {
     "data": {
      "text/plain": [
       "'matheus is the best way'"
      ]
     },
     "execution_count": 31,
     "metadata": {},
     "output_type": "execute_result"
    }
   ],
   "source": [
    "b.lower()"
   ]
  },
  {
   "cell_type": "code",
   "execution_count": 34,
   "id": "41b87436",
   "metadata": {},
   "outputs": [
    {
     "data": {
      "text/plain": [
       "['Math', 'us is th', ' b', 'st way']"
      ]
     },
     "execution_count": 34,
     "metadata": {},
     "output_type": "execute_result"
    }
   ],
   "source": [
    "# Divide a string by one specific element\n",
    "b.split('e')"
   ]
  },
  {
   "cell_type": "markdown",
   "id": "8d817535",
   "metadata": {},
   "source": [
    "### String fuctions"
   ]
  },
  {
   "cell_type": "code",
   "execution_count": 35,
   "id": "207ace8b",
   "metadata": {},
   "outputs": [],
   "source": [
    "b = \"Welcome to tHE Python universe\""
   ]
  },
  {
   "cell_type": "code",
   "execution_count": 36,
   "id": "5250fc08",
   "metadata": {},
   "outputs": [
    {
     "data": {
      "text/plain": [
       "'Welcome to the python universe'"
      ]
     },
     "execution_count": 36,
     "metadata": {},
     "output_type": "execute_result"
    }
   ],
   "source": [
    "b.capitalize()"
   ]
  },
  {
   "cell_type": "code",
   "execution_count": 38,
   "id": "22befae2",
   "metadata": {},
   "outputs": [
    {
     "data": {
      "text/plain": [
       "4"
      ]
     },
     "execution_count": 38,
     "metadata": {},
     "output_type": "execute_result"
    }
   ],
   "source": [
    "b.count('e')"
   ]
  },
  {
   "cell_type": "code",
   "execution_count": 39,
   "id": "2454dba0",
   "metadata": {},
   "outputs": [
    {
     "data": {
      "text/plain": [
       "False"
      ]
     },
     "execution_count": 39,
     "metadata": {},
     "output_type": "execute_result"
    }
   ],
   "source": [
    "b.isalnum()"
   ]
  },
  {
   "cell_type": "code",
   "execution_count": 40,
   "id": "43f9e764",
   "metadata": {},
   "outputs": [
    {
     "data": {
      "text/plain": [
       "False"
      ]
     },
     "execution_count": 40,
     "metadata": {},
     "output_type": "execute_result"
    }
   ],
   "source": [
    "b.islower()"
   ]
  },
  {
   "cell_type": "code",
   "execution_count": 41,
   "id": "3bdbd2a7",
   "metadata": {},
   "outputs": [
    {
     "data": {
      "text/plain": [
       "False"
      ]
     },
     "execution_count": 41,
     "metadata": {},
     "output_type": "execute_result"
    }
   ],
   "source": [
    "b.isspace()"
   ]
  },
  {
   "cell_type": "code",
   "execution_count": 44,
   "id": "dcb8ae91",
   "metadata": {},
   "outputs": [
    {
     "data": {
      "text/plain": [
       "True"
      ]
     },
     "execution_count": 44,
     "metadata": {},
     "output_type": "execute_result"
    }
   ],
   "source": [
    "b.endswith('e')"
   ]
  },
  {
   "cell_type": "code",
   "execution_count": 45,
   "id": "487d83a6",
   "metadata": {},
   "outputs": [],
   "source": [
    "s = '1000'"
   ]
  },
  {
   "cell_type": "code",
   "execution_count": 46,
   "id": "7026ceb2",
   "metadata": {},
   "outputs": [
    {
     "data": {
      "text/plain": [
       "str"
      ]
     },
     "execution_count": 46,
     "metadata": {},
     "output_type": "execute_result"
    }
   ],
   "source": [
    "type(s)"
   ]
  },
  {
   "cell_type": "markdown",
   "id": "fde0577f",
   "metadata": {},
   "source": [
    "### Comparing String"
   ]
  },
  {
   "cell_type": "code",
   "execution_count": 47,
   "id": "b8f40029",
   "metadata": {},
   "outputs": [
    {
     "name": "stdout",
     "output_type": "stream",
     "text": [
      "False\n"
     ]
    }
   ],
   "source": [
    "print('Python' == 'p')"
   ]
  },
  {
   "cell_type": "code",
   "execution_count": 48,
   "id": "d4eeb569",
   "metadata": {},
   "outputs": [
    {
     "name": "stdout",
     "output_type": "stream",
     "text": [
      "False\n"
     ]
    }
   ],
   "source": [
    " print('Pyhton' == \"Python\")"
   ]
  },
  {
   "cell_type": "code",
   "execution_count": 49,
   "id": "c602f1ff",
   "metadata": {},
   "outputs": [
    {
     "name": "stdout",
     "output_type": "stream",
     "text": [
      "True\n"
     ]
    }
   ],
   "source": [
    "print('Python' == 'Python')"
   ]
  },
  {
   "cell_type": "markdown",
   "id": "6a7db791",
   "metadata": {},
   "source": [
    "## End"
   ]
  }
 ],
 "metadata": {
  "kernelspec": {
   "display_name": "Python 3 (ipykernel)",
   "language": "python",
   "name": "python3"
  },
  "language_info": {
   "codemirror_mode": {
    "name": "ipython",
    "version": 3
   },
   "file_extension": ".py",
   "mimetype": "text/x-python",
   "name": "python",
   "nbconvert_exporter": "python",
   "pygments_lexer": "ipython3",
   "version": "3.11.5"
  }
 },
 "nbformat": 4,
 "nbformat_minor": 5
}
