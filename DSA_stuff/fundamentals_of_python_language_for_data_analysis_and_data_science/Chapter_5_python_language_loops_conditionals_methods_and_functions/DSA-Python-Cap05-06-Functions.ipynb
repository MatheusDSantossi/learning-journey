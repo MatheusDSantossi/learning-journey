{
 "cells": [
  {
   "cell_type": "markdown",
   "id": "54c94548",
   "metadata": {},
   "source": [
    "# Data Science Academy\n",
    "\n",
    "### Fundamentals of Python Language for Data Analysis and Data Science\n",
    "\n",
    "### Chapter 5 - Functions"
   ]
  },
  {
   "cell_type": "code",
   "execution_count": 1,
   "id": "58974e57",
   "metadata": {},
   "outputs": [
    {
     "name": "stdout",
     "output_type": "stream",
     "text": [
      "Version of Python Language used in this Jupyer Notebook:  3.11.5\n"
     ]
    }
   ],
   "source": [
    "# Version of Python language\n",
    "from platform import python_version\n",
    "print(\"Version of Python Language used in this Jupyer Notebook: \", python_version())"
   ]
  },
  {
   "cell_type": "markdown",
   "id": "8d275b20",
   "metadata": {},
   "source": [
    "## Functions"
   ]
  },
  {
   "cell_type": "code",
   "execution_count": 1,
   "id": "8c1f1729",
   "metadata": {},
   "outputs": [
    {
     "name": "stdout",
     "output_type": "stream",
     "text": [
      "Hello World!\n"
     ]
    }
   ],
   "source": [
    "print(\"Hello World!\")"
   ]
  },
  {
   "cell_type": "code",
   "execution_count": 2,
   "id": "b5b99d12",
   "metadata": {},
   "outputs": [],
   "source": [
    "# Defining a List\n",
    "def firstFunction():\n",
    "    print(\"Hello World!\")"
   ]
  },
  {
   "cell_type": "code",
   "execution_count": 4,
   "id": "926838b3",
   "metadata": {},
   "outputs": [
    {
     "name": "stdout",
     "output_type": "stream",
     "text": [
      "Hello World!\n"
     ]
    }
   ],
   "source": [
    "firstFunction()"
   ]
  },
  {
   "cell_type": "code",
   "execution_count": 6,
   "id": "a70b9f64",
   "metadata": {},
   "outputs": [],
   "source": [
    "# Defining a function with parameter\n",
    "def secondFunction(name):\n",
    "    print(\"Hello %s\" %(name))"
   ]
  },
  {
   "cell_type": "code",
   "execution_count": 8,
   "id": "b19f4c74",
   "metadata": {},
   "outputs": [
    {
     "name": "stdout",
     "output_type": "stream",
     "text": [
      "Hello Matheus\n"
     ]
    }
   ],
   "source": [
    "secondFunction(\"Matheus\")"
   ]
  },
  {
   "cell_type": "code",
   "execution_count": 9,
   "id": "9f197b53",
   "metadata": {},
   "outputs": [],
   "source": [
    "# Function to print numbers\n",
    "def printNumbers():\n",
    "    # Loop\n",
    "    for i in range(0, 5):\n",
    "        print(\"Number: \" + str(i))"
   ]
  },
  {
   "cell_type": "code",
   "execution_count": 10,
   "id": "60c4bb8f",
   "metadata": {},
   "outputs": [
    {
     "name": "stdout",
     "output_type": "stream",
     "text": [
      "Number: 0\n",
      "Number: 1\n",
      "Number: 2\n",
      "Number: 3\n",
      "Number: 4\n"
     ]
    }
   ],
   "source": [
    "printNumbers()"
   ]
  },
  {
   "cell_type": "code",
   "execution_count": 13,
   "id": "f086d415",
   "metadata": {},
   "outputs": [],
   "source": [
    "# Function to sum numbers\n",
    "def addNum(firstNum, secondNum):\n",
    "    print(\"First number: \" + str(firstNum))\n",
    "    print(\"Second number: \" + str(secondNum))\n",
    "    print(\"Sum: \", firstNum + secondNum)"
   ]
  },
  {
   "cell_type": "code",
   "execution_count": 15,
   "id": "507bec16",
   "metadata": {},
   "outputs": [
    {
     "name": "stdout",
     "output_type": "stream",
     "text": [
      "First number: 10\n",
      "Second number: 20\n",
      "Sum:  30\n"
     ]
    }
   ],
   "source": [
    "# Calling the function with parameters\n",
    "addNum(10, 20)"
   ]
  },
  {
   "cell_type": "code",
   "execution_count": 16,
   "id": "fcc4757b",
   "metadata": {},
   "outputs": [],
   "source": [
    "# Functions with a variable number of arguments\n",
    "def printVarInfo(arg1, *vartuple):\n",
    "    # printing the value of the first argument\n",
    "    print(\"The parameter given was: \", arg1)\n",
    "    \n",
    "    # Printing the value of the second argument\n",
    "    for item in vartuple:\n",
    "        print(\"The parameter given was: \", item)\n",
    "    return;"
   ]
  },
  {
   "cell_type": "code",
   "execution_count": 17,
   "id": "64b21d65",
   "metadata": {},
   "outputs": [
    {
     "name": "stdout",
     "output_type": "stream",
     "text": [
      "The parameter given was:  10\n"
     ]
    }
   ],
   "source": [
    "# Calling the function using only 1 argument\n",
    "printVarInfo(10)"
   ]
  },
  {
   "cell_type": "code",
   "execution_count": 18,
   "id": "f864eeab",
   "metadata": {},
   "outputs": [
    {
     "name": "stdout",
     "output_type": "stream",
     "text": [
      "The parameter given was:  Chocolate\n",
      "The parameter given was:  Strawberry\n"
     ]
    }
   ],
   "source": [
    "printVarInfo(\"Chocolate\", \"Strawberry\")"
   ]
  },
  {
   "cell_type": "code",
   "execution_count": 19,
   "id": "770ec674",
   "metadata": {},
   "outputs": [
    {
     "name": "stdout",
     "output_type": "stream",
     "text": [
      "The parameter given was:  Data\n",
      "The parameter given was:  Science\n",
      "The parameter given was:  Matheus\n"
     ]
    }
   ],
   "source": [
    "printVarInfo(\"Data\", \"Science\", \"Matheus\")"
   ]
  },
  {
   "cell_type": "markdown",
   "id": "f9aa0d4b",
   "metadata": {},
   "source": [
    "## Variable scope - Local and Global"
   ]
  },
  {
   "cell_type": "code",
   "execution_count": 24,
   "id": "1c9da572",
   "metadata": {},
   "outputs": [],
   "source": [
    "# Global Variable\n",
    "var_global = 10 # This is a global variable\n",
    "\n",
    "def multiple_numbers(num1, num2):\n",
    "    var_global = num1 * num2 # This is a local variable\n",
    "    var_local = num1 * num2 # This is a local variable\n",
    "    print(var_global)\n",
    "    print(var_local)"
   ]
  },
  {
   "cell_type": "code",
   "execution_count": 25,
   "id": "ee5dcb55",
   "metadata": {},
   "outputs": [
    {
     "name": "stdout",
     "output_type": "stream",
     "text": [
      "125\n",
      "125\n"
     ]
    }
   ],
   "source": [
    "multiple_numbers(5, 25)"
   ]
  },
  {
   "cell_type": "code",
   "execution_count": 27,
   "id": "d0f5cf75",
   "metadata": {},
   "outputs": [
    {
     "name": "stdout",
     "output_type": "stream",
     "text": [
      "10\n"
     ]
    }
   ],
   "source": [
    "print(var_global)"
   ]
  },
  {
   "cell_type": "code",
   "execution_count": 30,
   "id": "777fbf8b",
   "metadata": {},
   "outputs": [],
   "source": [
    "# Global Variable\n",
    "var_global = 10 # This is a global variable\n",
    "# Function\n",
    "def multiple_number(num1, num2):\n",
    "    var_local = num1 * num2\n",
    "    print(var_local)"
   ]
  },
  {
   "cell_type": "code",
   "execution_count": 31,
   "id": "e72ea8c9",
   "metadata": {},
   "outputs": [
    {
     "name": "stdout",
     "output_type": "stream",
     "text": [
      "100\n"
     ]
    }
   ],
   "source": [
    "multiple_number(10, 10)"
   ]
  },
  {
   "cell_type": "code",
   "execution_count": 32,
   "id": "0ccd11a3",
   "metadata": {},
   "outputs": [
    {
     "ename": "NameError",
     "evalue": "name 'var_local' is not defined",
     "output_type": "error",
     "traceback": [
      "\u001b[1;31m---------------------------------------------------------------------------\u001b[0m",
      "\u001b[1;31mNameError\u001b[0m                                 Traceback (most recent call last)",
      "Cell \u001b[1;32mIn[32], line 1\u001b[0m\n\u001b[1;32m----> 1\u001b[0m \u001b[38;5;28mprint\u001b[39m(var_local)\n",
      "\u001b[1;31mNameError\u001b[0m: name 'var_local' is not defined"
     ]
    }
   ],
   "source": [
    "print(var_local)"
   ]
  },
  {
   "cell_type": "markdown",
   "id": "6942c2b0",
   "metadata": {},
   "source": [
    "### Functions Built-in"
   ]
  },
  {
   "cell_type": "code",
   "execution_count": 33,
   "id": "e7b83abb",
   "metadata": {},
   "outputs": [
    {
     "data": {
      "text/plain": [
       "56"
      ]
     },
     "execution_count": 33,
     "metadata": {},
     "output_type": "execute_result"
    }
   ],
   "source": [
    "abs(-56)"
   ]
  },
  {
   "cell_type": "code",
   "execution_count": 34,
   "id": "b393ca47",
   "metadata": {},
   "outputs": [
    {
     "data": {
      "text/plain": [
       "23"
      ]
     },
     "execution_count": 34,
     "metadata": {},
     "output_type": "execute_result"
    }
   ],
   "source": [
    "abs(23)"
   ]
  },
  {
   "cell_type": "code",
   "execution_count": 35,
   "id": "a7bc1b15",
   "metadata": {},
   "outputs": [
    {
     "data": {
      "text/plain": [
       "False"
      ]
     },
     "execution_count": 35,
     "metadata": {},
     "output_type": "execute_result"
    }
   ],
   "source": [
    "bool(0)"
   ]
  },
  {
   "cell_type": "code",
   "execution_count": 36,
   "id": "e4ea10de",
   "metadata": {},
   "outputs": [
    {
     "data": {
      "text/plain": [
       "True"
      ]
     },
     "execution_count": 36,
     "metadata": {},
     "output_type": "execute_result"
    }
   ],
   "source": [
    "bool(1)"
   ]
  },
  {
   "cell_type": "code",
   "execution_count": 37,
   "id": "5509907a",
   "metadata": {},
   "outputs": [
    {
     "data": {
      "text/plain": [
       "4"
      ]
     },
     "execution_count": 37,
     "metadata": {},
     "output_type": "execute_result"
    }
   ],
   "source": [
    "int(4.3)"
   ]
  },
  {
   "cell_type": "code",
   "execution_count": 38,
   "id": "f010de51",
   "metadata": {},
   "outputs": [
    {
     "data": {
      "text/plain": [
       "'13'"
      ]
     },
     "execution_count": 38,
     "metadata": {},
     "output_type": "execute_result"
    }
   ],
   "source": [
    "str(13)"
   ]
  },
  {
   "cell_type": "code",
   "execution_count": 39,
   "id": "5eec5d77",
   "metadata": {},
   "outputs": [
    {
     "data": {
      "text/plain": [
       "5.0"
      ]
     },
     "execution_count": 39,
     "metadata": {},
     "output_type": "execute_result"
    }
   ],
   "source": [
    "float(5)"
   ]
  },
  {
   "cell_type": "code",
   "execution_count": 40,
   "id": "3bc24133",
   "metadata": {},
   "outputs": [
    {
     "name": "stdout",
     "output_type": "stream",
     "text": [
      "Type your age: 20\n"
     ]
    },
    {
     "ename": "TypeError",
     "evalue": "'>' not supported between instances of 'str' and 'int'",
     "output_type": "error",
     "traceback": [
      "\u001b[1;31m---------------------------------------------------------------------------\u001b[0m",
      "\u001b[1;31mTypeError\u001b[0m                                 Traceback (most recent call last)",
      "Cell \u001b[1;32mIn[40], line 3\u001b[0m\n\u001b[0;32m      1\u001b[0m \u001b[38;5;66;03m# Error to execute because of the conversion\u001b[39;00m\n\u001b[0;32m      2\u001b[0m age \u001b[38;5;241m=\u001b[39m \u001b[38;5;28minput\u001b[39m(\u001b[38;5;124m\"\u001b[39m\u001b[38;5;124mType your age: \u001b[39m\u001b[38;5;124m\"\u001b[39m)\n\u001b[1;32m----> 3\u001b[0m \u001b[38;5;28;01mif\u001b[39;00m age \u001b[38;5;241m>\u001b[39m \u001b[38;5;241m16\u001b[39m:\n\u001b[0;32m      4\u001b[0m     \u001b[38;5;28mprint\u001b[39m(\u001b[38;5;124m\"\u001b[39m\u001b[38;5;124mYou can access Social media without supervision\u001b[39m\u001b[38;5;124m\"\u001b[39m)\n\u001b[0;32m      5\u001b[0m \u001b[38;5;28;01melse\u001b[39;00m:\n",
      "\u001b[1;31mTypeError\u001b[0m: '>' not supported between instances of 'str' and 'int'"
     ]
    }
   ],
   "source": [
    "# Error to execute because of the conversion\n",
    "age = input(\"Type your age: \")\n",
    "if age > 16:\n",
    "    print(\"You can access Social media without supervision\")\n",
    "else:\n",
    "    print(\"Your parents should't let you access Social Media without supervision!\")"
   ]
  },
  {
   "cell_type": "code",
   "execution_count": 42,
   "id": "83d863f1",
   "metadata": {},
   "outputs": [
    {
     "name": "stdout",
     "output_type": "stream",
     "text": [
      "Type your age: 20\n",
      "You can access Social media without supervision\n"
     ]
    }
   ],
   "source": [
    "# Using a function int to convert the typed value\n",
    "age = int(input(\"Type your age: \"))\n",
    "if age > 16:\n",
    "    print(\"You can access Social media without supervision\")\n",
    "else:\n",
    "    print(\"Your parents should't let you access Social Media without supervision!\")"
   ]
  },
  {
   "cell_type": "code",
   "execution_count": 43,
   "id": "d9f1b7d3",
   "metadata": {},
   "outputs": [
    {
     "data": {
      "text/plain": [
       "26"
      ]
     },
     "execution_count": 43,
     "metadata": {},
     "output_type": "execute_result"
    }
   ],
   "source": [
    "int(\"26\")"
   ]
  },
  {
   "cell_type": "code",
   "execution_count": 51,
   "id": "62b05f32",
   "metadata": {},
   "outputs": [
    {
     "ename": "ValueError",
     "evalue": "could not convert string to float: '123.3A45'",
     "output_type": "error",
     "traceback": [
      "\u001b[1;31m---------------------------------------------------------------------------\u001b[0m",
      "\u001b[1;31mValueError\u001b[0m                                Traceback (most recent call last)",
      "Cell \u001b[1;32mIn[51], line 1\u001b[0m\n\u001b[1;32m----> 1\u001b[0m \u001b[38;5;28mfloat\u001b[39m(\u001b[38;5;124m\"\u001b[39m\u001b[38;5;124m123.3A45\u001b[39m\u001b[38;5;124m\"\u001b[39m)\n",
      "\u001b[1;31mValueError\u001b[0m: could not convert string to float: '123.3A45'"
     ]
    }
   ],
   "source": [
    "float(\"123.3A45\")"
   ]
  },
  {
   "cell_type": "code",
   "execution_count": 45,
   "id": "5530233d",
   "metadata": {},
   "outputs": [
    {
     "data": {
      "text/plain": [
       "'14'"
      ]
     },
     "execution_count": 45,
     "metadata": {},
     "output_type": "execute_result"
    }
   ],
   "source": [
    "str(14)"
   ]
  },
  {
   "cell_type": "code",
   "execution_count": 46,
   "id": "5b98a44d",
   "metadata": {},
   "outputs": [
    {
     "data": {
      "text/plain": [
       "4"
      ]
     },
     "execution_count": 46,
     "metadata": {},
     "output_type": "execute_result"
    }
   ],
   "source": [
    "len([23, 24,34,2])"
   ]
  },
  {
   "cell_type": "code",
   "execution_count": 47,
   "id": "e0ce714b",
   "metadata": {},
   "outputs": [],
   "source": [
    "array = [1,2,3]"
   ]
  },
  {
   "cell_type": "code",
   "execution_count": 48,
   "id": "7147c12e",
   "metadata": {},
   "outputs": [
    {
     "data": {
      "text/plain": [
       "3"
      ]
     },
     "execution_count": 48,
     "metadata": {},
     "output_type": "execute_result"
    }
   ],
   "source": [
    "max(array)"
   ]
  },
  {
   "cell_type": "code",
   "execution_count": 49,
   "id": "9d3128aa",
   "metadata": {},
   "outputs": [
    {
     "data": {
      "text/plain": [
       "1"
      ]
     },
     "execution_count": 49,
     "metadata": {},
     "output_type": "execute_result"
    }
   ],
   "source": [
    "min(array)"
   ]
  },
  {
   "cell_type": "code",
   "execution_count": 50,
   "id": "12149463",
   "metadata": {},
   "outputs": [],
   "source": [
    "list1 = [16,23,254,2]"
   ]
  },
  {
   "cell_type": "code",
   "execution_count": 52,
   "id": "85f45320",
   "metadata": {},
   "outputs": [
    {
     "data": {
      "text/plain": [
       "295"
      ]
     },
     "execution_count": 52,
     "metadata": {},
     "output_type": "execute_result"
    }
   ],
   "source": [
    "sum(list1)"
   ]
  },
  {
   "cell_type": "markdown",
   "id": "0f23301c",
   "metadata": {},
   "source": [
    "### Creating Functions Using other Functions\n",
    "https://pypi.org"
   ]
  },
  {
   "cell_type": "code",
   "execution_count": 53,
   "id": "91c9b2d6",
   "metadata": {},
   "outputs": [],
   "source": [
    "import math\n",
    "\n",
    "# Checking if a number is prime\n",
    "def numPrime(num):\n",
    "    if (num % 2) == 0 and num > 2:\n",
    "        return \"This number isn't prime\"\n",
    "    for i in range(3, int(math.sqrt(num)) + 1, 2):\n",
    "        if (num % i) == 0:\n",
    "            return \"This number is prime!\"\n",
    "    return \"This number is prime\""
   ]
  },
  {
   "cell_type": "code",
   "execution_count": 54,
   "id": "faaa1a45",
   "metadata": {},
   "outputs": [
    {
     "data": {
      "text/plain": [
       "'This number is prime'"
      ]
     },
     "execution_count": 54,
     "metadata": {},
     "output_type": "execute_result"
    }
   ],
   "source": [
    "numPrime(541)"
   ]
  },
  {
   "cell_type": "code",
   "execution_count": 61,
   "id": "e6f2a7d0",
   "metadata": {},
   "outputs": [
    {
     "data": {
      "text/plain": [
       "\"This number isn't prime\""
      ]
     },
     "execution_count": 61,
     "metadata": {},
     "output_type": "execute_result"
    }
   ],
   "source": [
    "numPrime(4)"
   ]
  },
  {
   "cell_type": "code",
   "execution_count": 55,
   "id": "f2226159",
   "metadata": {},
   "outputs": [],
   "source": [
    "low_box = \"This Text Should Be All in LowerCase\""
   ]
  },
  {
   "cell_type": "code",
   "execution_count": 56,
   "id": "b5f90840",
   "metadata": {},
   "outputs": [],
   "source": [
    "def lowercase(text):\n",
    "    return text.lower()"
   ]
  },
  {
   "cell_type": "code",
   "execution_count": 57,
   "id": "8f397fa4",
   "metadata": {},
   "outputs": [],
   "source": [
    "lowercased_string = lowercase(low_box)"
   ]
  },
  {
   "cell_type": "code",
   "execution_count": 58,
   "id": "3991b464",
   "metadata": {},
   "outputs": [
    {
     "data": {
      "text/plain": [
       "'this text should be all in lowercase'"
      ]
     },
     "execution_count": 58,
     "metadata": {},
     "output_type": "execute_result"
    }
   ],
   "source": [
    "lowercased_string"
   ]
  },
  {
   "cell_type": "markdown",
   "id": "d0245980",
   "metadata": {},
   "source": [
    "### Spliting the Data"
   ]
  },
  {
   "cell_type": "code",
   "execution_count": 62,
   "id": "ff608b8b",
   "metadata": {},
   "outputs": [],
   "source": [
    "# Spliting the data\n",
    "def split_string_words(text):\n",
    "    return text.split(\" \")"
   ]
  },
  {
   "cell_type": "code",
   "execution_count": 63,
   "id": "e0ee07c5",
   "metadata": {},
   "outputs": [],
   "source": [
    "text = \"This funciton will be very useful to separate a big volume data\""
   ]
  },
  {
   "cell_type": "code",
   "execution_count": 64,
   "id": "405acb02",
   "metadata": {},
   "outputs": [
    {
     "name": "stdout",
     "output_type": "stream",
     "text": [
      "['This', 'funciton', 'will', 'be', 'very', 'useful', 'to', 'separate', 'a', 'big', 'volume', 'data']\n"
     ]
    }
   ],
   "source": [
    "print(split_string_words(text))"
   ]
  },
  {
   "cell_type": "code",
   "execution_count": 65,
   "id": "9fa113d0",
   "metadata": {},
   "outputs": [],
   "source": [
    "# We can attribuate the output of a function to a variable\n",
    "token = split_string_words(text)"
   ]
  },
  {
   "cell_type": "code",
   "execution_count": 66,
   "id": "5d7d05f1",
   "metadata": {},
   "outputs": [
    {
     "data": {
      "text/plain": [
       "['This',\n",
       " 'funciton',\n",
       " 'will',\n",
       " 'be',\n",
       " 'very',\n",
       " 'useful',\n",
       " 'to',\n",
       " 'separate',\n",
       " 'a',\n",
       " 'big',\n",
       " 'volume',\n",
       " 'data']"
      ]
     },
     "execution_count": 66,
     "metadata": {},
     "output_type": "execute_result"
    }
   ],
   "source": [
    "token"
   ]
  },
  {
   "cell_type": "code",
   "execution_count": 67,
   "id": "2d167ddd",
   "metadata": {},
   "outputs": [],
   "source": [
    "# Splitting the data\n",
    "def split_string_letters(text):\n",
    "    text = text.upper()\n",
    "    for letter in text:\n",
    "        print(letter)"
   ]
  },
  {
   "cell_type": "code",
   "execution_count": 68,
   "id": "9fb3b158",
   "metadata": {},
   "outputs": [
    {
     "name": "stdout",
     "output_type": "stream",
     "text": [
      "T\n",
      "H\n",
      "I\n",
      "S\n",
      " \n",
      "F\n",
      "U\n",
      "N\n",
      "C\n",
      "I\n",
      "T\n",
      "O\n",
      "N\n",
      " \n",
      "W\n",
      "I\n",
      "L\n",
      "L\n",
      " \n",
      "B\n",
      "E\n",
      " \n",
      "V\n",
      "E\n",
      "R\n",
      "Y\n",
      " \n",
      "U\n",
      "S\n",
      "E\n",
      "F\n",
      "U\n",
      "L\n",
      " \n",
      "T\n",
      "O\n",
      " \n",
      "S\n",
      "E\n",
      "P\n",
      "A\n",
      "R\n",
      "A\n",
      "T\n",
      "E\n",
      " \n",
      "A\n",
      " \n",
      "B\n",
      "I\n",
      "G\n",
      " \n",
      "V\n",
      "O\n",
      "L\n",
      "U\n",
      "M\n",
      "E\n",
      " \n",
      "D\n",
      "A\n",
      "T\n",
      "A\n"
     ]
    }
   ],
   "source": [
    "split_string_letters(text)"
   ]
  },
  {
   "cell_type": "markdown",
   "id": "16f94e65",
   "metadata": {},
   "source": [
    "## End\n",
    "\n",
    "### Thank you!"
   ]
  }
 ],
 "metadata": {
  "kernelspec": {
   "display_name": "Python 3 (ipykernel)",
   "language": "python",
   "name": "python3"
  },
  "language_info": {
   "codemirror_mode": {
    "name": "ipython",
    "version": 3
   },
   "file_extension": ".py",
   "mimetype": "text/x-python",
   "name": "python",
   "nbconvert_exporter": "python",
   "pygments_lexer": "ipython3",
   "version": "3.11.5"
  }
 },
 "nbformat": 4,
 "nbformat_minor": 5
}
