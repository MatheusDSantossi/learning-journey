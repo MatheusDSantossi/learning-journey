{
 "cells": [
  {
   "cell_type": "markdown",
   "id": "54c94548",
   "metadata": {},
   "source": [
    "# Data Science Academy\n",
    "\n",
    "### Fundamentals of Python Language for Data Analysis and Data Science\n",
    "\n",
    "### Chapter 5 - Methods"
   ]
  },
  {
   "cell_type": "code",
   "execution_count": 1,
   "id": "58974e57",
   "metadata": {},
   "outputs": [
    {
     "name": "stdout",
     "output_type": "stream",
     "text": [
      "Version of Python Language used in this Jupyer Notebook:  3.11.5\n"
     ]
    }
   ],
   "source": [
    "# Version of Python language\n",
    "from platform import python_version\n",
    "print(\"Version of Python Language used in this Jupyer Notebook: \", python_version())"
   ]
  },
  {
   "cell_type": "markdown",
   "id": "8d275b20",
   "metadata": {},
   "source": [
    "## Function Range"
   ]
  },
  {
   "cell_type": "markdown",
   "id": "e65247c3",
   "metadata": {},
   "source": [
    "### Methods\n",
    "\n",
    "Everything in Python is an object. And each object has methods and attributes.\n",
    "\n",
    "- Attributes are the objects's propieties, characteristics.\n",
    "- Methods are functions with actions that might be execute on objects"
   ]
  },
  {
   "cell_type": "code",
   "execution_count": 1,
   "id": "8c1f1729",
   "metadata": {},
   "outputs": [],
   "source": [
    "# Creating a list\n",
    "list_ = [10, 30, 26, -65, 0]"
   ]
  },
  {
   "cell_type": "code",
   "execution_count": 2,
   "id": "b5b99d12",
   "metadata": {},
   "outputs": [
    {
     "data": {
      "text/plain": [
       "list"
      ]
     },
     "execution_count": 2,
     "metadata": {},
     "output_type": "execute_result"
    }
   ],
   "source": [
    "type(list_)"
   ]
  },
  {
   "cell_type": "code",
   "execution_count": 10,
   "id": "926838b3",
   "metadata": {},
   "outputs": [
    {
     "data": {
      "text/plain": [
       "[10, 30, 26, -65, 0, 100]"
      ]
     },
     "execution_count": 10,
     "metadata": {},
     "output_type": "execute_result"
    }
   ],
   "source": [
    "# Checkign methods and attributes\n",
    "list_"
   ]
  },
  {
   "cell_type": "code",
   "execution_count": 4,
   "id": "a70b9f64",
   "metadata": {},
   "outputs": [],
   "source": [
    "# Using a method of the list object\n",
    "list_.append(100)"
   ]
  },
  {
   "cell_type": "code",
   "execution_count": 5,
   "id": "b19f4c74",
   "metadata": {},
   "outputs": [
    {
     "name": "stdout",
     "output_type": "stream",
     "text": [
      "[10, 30, 26, -65, 0, 100]\n"
     ]
    }
   ],
   "source": [
    "print(list_)"
   ]
  },
  {
   "cell_type": "code",
   "execution_count": 6,
   "id": "9f197b53",
   "metadata": {},
   "outputs": [
    {
     "data": {
      "text/plain": [
       "1"
      ]
     },
     "execution_count": 6,
     "metadata": {},
     "output_type": "execute_result"
    }
   ],
   "source": [
    "# Using a method of list object\n",
    "list_.count(100)"
   ]
  },
  {
   "cell_type": "code",
   "execution_count": 11,
   "id": "60c4bb8f",
   "metadata": {},
   "outputs": [
    {
     "name": "stdout",
     "output_type": "stream",
     "text": [
      "Help on built-in function count:\n",
      "\n",
      "count(value, /) method of builtins.list instance\n",
      "    Return number of occurrences of value.\n",
      "\n"
     ]
    }
   ],
   "source": [
    "# The function help() explains how to use each method of an object\n",
    "help(list_.count)"
   ]
  },
  {
   "cell_type": "code",
   "execution_count": 12,
   "id": "f086d415",
   "metadata": {},
   "outputs": [
    {
     "data": {
      "text/plain": [
       "['__add__',\n",
       " '__class__',\n",
       " '__class_getitem__',\n",
       " '__contains__',\n",
       " '__delattr__',\n",
       " '__delitem__',\n",
       " '__dir__',\n",
       " '__doc__',\n",
       " '__eq__',\n",
       " '__format__',\n",
       " '__ge__',\n",
       " '__getattribute__',\n",
       " '__getitem__',\n",
       " '__getstate__',\n",
       " '__gt__',\n",
       " '__hash__',\n",
       " '__iadd__',\n",
       " '__imul__',\n",
       " '__init__',\n",
       " '__init_subclass__',\n",
       " '__iter__',\n",
       " '__le__',\n",
       " '__len__',\n",
       " '__lt__',\n",
       " '__mul__',\n",
       " '__ne__',\n",
       " '__new__',\n",
       " '__reduce__',\n",
       " '__reduce_ex__',\n",
       " '__repr__',\n",
       " '__reversed__',\n",
       " '__rmul__',\n",
       " '__setattr__',\n",
       " '__setitem__',\n",
       " '__sizeof__',\n",
       " '__str__',\n",
       " '__subclasshook__',\n",
       " 'append',\n",
       " 'clear',\n",
       " 'copy',\n",
       " 'count',\n",
       " 'extend',\n",
       " 'index',\n",
       " 'insert',\n",
       " 'pop',\n",
       " 'remove',\n",
       " 'reverse',\n",
       " 'sort']"
      ]
     },
     "execution_count": 12,
     "metadata": {},
     "output_type": "execute_result"
    }
   ],
   "source": [
    "# The function dir() shows all of the methods and attributes of an object\n",
    "dir(list_)"
   ]
  },
  {
   "cell_type": "code",
   "execution_count": 13,
   "id": "507bec16",
   "metadata": {},
   "outputs": [],
   "source": [
    "sentence = \"This is a string\""
   ]
  },
  {
   "cell_type": "code",
   "execution_count": 14,
   "id": "fcc4757b",
   "metadata": {},
   "outputs": [
    {
     "data": {
      "text/plain": [
       "str"
      ]
     },
     "execution_count": 14,
     "metadata": {},
     "output_type": "execute_result"
    }
   ],
   "source": [
    "type(sentence)"
   ]
  },
  {
   "cell_type": "code",
   "execution_count": 15,
   "id": "64b21d65",
   "metadata": {},
   "outputs": [
    {
     "data": {
      "text/plain": [
       "'This is a string'"
      ]
     },
     "execution_count": 15,
     "metadata": {},
     "output_type": "execute_result"
    }
   ],
   "source": [
    "# Checking the methods and attributes\n",
    "sentence"
   ]
  },
  {
   "cell_type": "code",
   "execution_count": 16,
   "id": "f864eeab",
   "metadata": {},
   "outputs": [
    {
     "name": "stdout",
     "output_type": "stream",
     "text": [
      "['This', 'is', 'a', 'string']\n"
     ]
    }
   ],
   "source": [
    "# The method of an object might be called inside a funtion, as print()\n",
    "print (sentence.split())"
   ]
  },
  {
   "cell_type": "markdown",
   "id": "afbfa672",
   "metadata": {},
   "source": [
    "## End\n",
    "\n",
    "### Thank you"
   ]
  }
 ],
 "metadata": {
  "kernelspec": {
   "display_name": "Python 3 (ipykernel)",
   "language": "python",
   "name": "python3"
  },
  "language_info": {
   "codemirror_mode": {
    "name": "ipython",
    "version": 3
   },
   "file_extension": ".py",
   "mimetype": "text/x-python",
   "name": "python",
   "nbconvert_exporter": "python",
   "pygments_lexer": "ipython3",
   "version": "3.11.5"
  }
 },
 "nbformat": 4,
 "nbformat_minor": 5
}
