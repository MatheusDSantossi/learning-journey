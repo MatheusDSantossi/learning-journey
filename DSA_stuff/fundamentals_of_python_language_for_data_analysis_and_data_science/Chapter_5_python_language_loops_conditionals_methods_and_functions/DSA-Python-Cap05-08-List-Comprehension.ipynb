{
 "cells": [
  {
   "cell_type": "markdown",
   "id": "54c94548",
   "metadata": {},
   "source": [
    "# Data Science Academy\n",
    "\n",
    "### Fundamentals of Python Language for Data Analysis and Data Science\n",
    "\n",
    "### Chapter 5 - List Comprehension"
   ]
  },
  {
   "cell_type": "code",
   "execution_count": 1,
   "id": "58974e57",
   "metadata": {},
   "outputs": [
    {
     "name": "stdout",
     "output_type": "stream",
     "text": [
      "Version of Python Language used in this Jupyer Notebook:  3.11.5\n"
     ]
    }
   ],
   "source": [
    "# Version of Python language\n",
    "from platform import python_version\n",
    "print(\"Version of Python Language used in this Jupyer Notebook: \", python_version())"
   ]
  },
  {
   "cell_type": "markdown",
   "id": "8d275b20",
   "metadata": {},
   "source": [
    "## List Comprehension\n",
    "[expression for item in iterable if condition == True]"
   ]
  },
  {
   "cell_type": "code",
   "execution_count": 1,
   "id": "8c1f1729",
   "metadata": {},
   "outputs": [
    {
     "data": {
      "text/plain": [
       "[0, 1, 2, 3, 4, 5, 6, 7, 8, 9]"
      ]
     },
     "execution_count": 1,
     "metadata": {},
     "output_type": "execute_result"
    }
   ],
   "source": [
    "# List comprehension that print numbers to 10\n",
    "[x for x in range(10)]"
   ]
  },
  {
   "cell_type": "code",
   "execution_count": 2,
   "id": "b5b99d12",
   "metadata": {},
   "outputs": [],
   "source": [
    "# List comprehension that prints the numbers to and storage in a Python list\n",
    "list_nums = [x for x in range(10)]"
   ]
  },
  {
   "cell_type": "code",
   "execution_count": 3,
   "id": "926838b3",
   "metadata": {},
   "outputs": [
    {
     "data": {
      "text/plain": [
       "[0, 1, 2, 3, 4, 5, 6, 7, 8, 9]"
      ]
     },
     "execution_count": 3,
     "metadata": {},
     "output_type": "execute_result"
    }
   ],
   "source": [
    "list_nums"
   ]
  },
  {
   "cell_type": "code",
   "execution_count": 4,
   "id": "a70b9f64",
   "metadata": {},
   "outputs": [
    {
     "name": "stdout",
     "output_type": "stream",
     "text": [
      "[0, 1, 2, 3, 4]\n"
     ]
    }
   ],
   "source": [
    "# List comprehension that prints numbers less than 5 in a inteval between 1 and 10\n",
    "list_nums = [x for x in range(0, 10) if x < 5]\n",
    "print(list_nums)"
   ]
  },
  {
   "cell_type": "code",
   "execution_count": 5,
   "id": "b19f4c74",
   "metadata": {},
   "outputs": [],
   "source": [
    "# List of fruits\n",
    "fruits_list = [\"Banana\", \"avocado\", \"strawberry\"]\n",
    "\n",
    "# New list\n",
    "new_list = []"
   ]
  },
  {
   "cell_type": "code",
   "execution_count": 6,
   "id": "9f197b53",
   "metadata": {},
   "outputs": [
    {
     "name": "stdout",
     "output_type": "stream",
     "text": [
      "['strawberry']\n"
     ]
    }
   ],
   "source": [
    "# Traditional loop to search for words with letter 's'\n",
    "for x in fruits_list:\n",
    "    if \"s\" in x:\n",
    "        new_list.append(x)\n",
    "        \n",
    "print(new_list)"
   ]
  },
  {
   "cell_type": "code",
   "execution_count": 7,
   "id": "60c4bb8f",
   "metadata": {},
   "outputs": [
    {
     "name": "stdout",
     "output_type": "stream",
     "text": [
      "['strawberry']\n"
     ]
    }
   ],
   "source": [
    "# Same result but with list comprehension\n",
    "new_list = [x for x in fruits_list if \"s\" in x]\n",
    "print(new_list)"
   ]
  },
  {
   "cell_type": "code",
   "execution_count": 10,
   "id": "f086d415",
   "metadata": {},
   "outputs": [
    {
     "name": "stdout",
     "output_type": "stream",
     "text": [
      "{'Bob': 68, 'Michel': 84, 'Zico': 100, 'Anne': 98}\n"
     ]
    }
   ],
   "source": [
    "# Dict comprehension\n",
    "# Students and grades dict\n",
    "students_dict = {\"Bob\": 68, \"Michel\": 84, \"Zico\": 100, \"Anne\": 98}\n",
    "\n",
    "# Let's create a new dictionary printing the key:value\n",
    "students_dict_status = {k:v for (k, v) in students_dict.items()}\n",
    "print(students_dict_status)"
   ]
  },
  {
   "cell_type": "code",
   "execution_count": 11,
   "id": "c15377ee",
   "metadata": {},
   "outputs": [
    {
     "name": "stdout",
     "output_type": "stream",
     "text": [
      "{'Bob': 'Reproved', 'Michel': 'Approved', 'Zico': 'Approved', 'Anne': 'Approved'}\n"
     ]
    }
   ],
   "source": [
    "# Dict comprehension\n",
    "# Students and grades dict\n",
    "students_dict = {\"Bob\": 68, \"Michel\": 84, \"Zico\": 100, \"Anne\": 98}\n",
    "\n",
    "# Let's create a new dictionary with status: grade bigger than 70, approved, else, reproved\n",
    "students_dict_status = {k: (\"Approved\" if v > 70 else \"Reproved\") for (k, v) in students_dict.items()}\n",
    "print(students_dict_status)"
   ]
  },
  {
   "cell_type": "markdown",
   "id": "3bfaeae8",
   "metadata": {},
   "source": [
    "## End\n",
    "\n",
    "### Thank you!"
   ]
  }
 ],
 "metadata": {
  "kernelspec": {
   "display_name": "Python 3 (ipykernel)",
   "language": "python",
   "name": "python3"
  },
  "language_info": {
   "codemirror_mode": {
    "name": "ipython",
    "version": 3
   },
   "file_extension": ".py",
   "mimetype": "text/x-python",
   "name": "python",
   "nbconvert_exporter": "python",
   "pygments_lexer": "ipython3",
   "version": "3.11.5"
  }
 },
 "nbformat": 4,
 "nbformat_minor": 5
}
