{
 "cells": [
  {
   "cell_type": "markdown",
   "id": "54c94548",
   "metadata": {},
   "source": [
    "# Data Science Academy\n",
    "\n",
    "### Fundamentals of Python Language for Data Analysis and Data Science\n",
    "\n",
    "### Chapter 5 - Loop for"
   ]
  },
  {
   "cell_type": "code",
   "execution_count": 1,
   "id": "58974e57",
   "metadata": {},
   "outputs": [
    {
     "name": "stdout",
     "output_type": "stream",
     "text": [
      "Version of Python Language used in this Jupyer Notebook:  3.11.5\n"
     ]
    }
   ],
   "source": [
    "# Version of Python language\n",
    "from platform import python_version\n",
    "print(\"Version of Python Language used in this Jupyer Notebook: \", python_version())"
   ]
  },
  {
   "cell_type": "markdown",
   "id": "8d275b20",
   "metadata": {},
   "source": [
    "## Loop for"
   ]
  },
  {
   "cell_type": "code",
   "execution_count": 2,
   "id": "446fcd6f",
   "metadata": {},
   "outputs": [
    {
     "name": "stdout",
     "output_type": "stream",
     "text": [
      "2\n",
      "3\n",
      "4\n"
     ]
    }
   ],
   "source": [
    "# Creating a tuple and printing each of the values\n",
    "tp = (2,3,4)\n",
    "for i in tp:\n",
    "    print(i)"
   ]
  },
  {
   "cell_type": "code",
   "execution_count": 3,
   "id": "8c1f1729",
   "metadata": {},
   "outputs": [
    {
     "name": "stdout",
     "output_type": "stream",
     "text": [
      "Data\n",
      "Science\n",
      "Academy\n"
     ]
    }
   ],
   "source": [
    "# Creating a list and print each one of the values\n",
    "ListOfStrings = [\"Data\", \"Science\", \"Academy\"]\n",
    "for i in ListOfStrings:\n",
    "    print(i)"
   ]
  },
  {
   "cell_type": "code",
   "execution_count": 4,
   "id": "b5b99d12",
   "metadata": {},
   "outputs": [
    {
     "name": "stdout",
     "output_type": "stream",
     "text": [
      "2\n",
      "4\n",
      "6\n",
      "8\n",
      "10\n"
     ]
    }
   ],
   "source": [
    "# Printing the even numbers of the list numbers\n",
    "list_1 = [1,2,3,4,5,6,7,8,9,10]\n",
    "for num in list_1:\n",
    "    if num % 2 == 0:\n",
    "        print(num)"
   ]
  },
  {
   "cell_type": "code",
   "execution_count": 5,
   "id": "1c4dafb2",
   "metadata": {},
   "outputs": [
    {
     "name": "stdout",
     "output_type": "stream",
     "text": [
      "0\n",
      "2\n",
      "4\n",
      "6\n",
      "8\n",
      "10\n",
      "12\n",
      "14\n",
      "16\n",
      "18\n",
      "20\n",
      "22\n",
      "24\n",
      "26\n",
      "28\n",
      "30\n",
      "32\n",
      "34\n",
      "36\n",
      "38\n",
      "40\n",
      "42\n",
      "44\n",
      "46\n",
      "48\n",
      "50\n",
      "52\n",
      "54\n",
      "56\n",
      "58\n",
      "60\n",
      "62\n",
      "64\n",
      "66\n",
      "68\n",
      "70\n",
      "72\n",
      "74\n",
      "76\n",
      "78\n",
      "80\n",
      "82\n",
      "84\n",
      "86\n",
      "88\n",
      "90\n",
      "92\n",
      "94\n",
      "96\n",
      "98\n",
      "100\n"
     ]
    }
   ],
   "source": [
    "# Listing the numbers in the interval between 0 and 101, adding 2\n",
    "for i in range(0, 101, 2):\n",
    "    print(i)"
   ]
  },
  {
   "cell_type": "code",
   "execution_count": 6,
   "id": "5c94d68c",
   "metadata": {},
   "outputs": [
    {
     "name": "stdout",
     "output_type": "stream",
     "text": [
      "P\n",
      "y\n",
      "t\n",
      "h\n",
      "o\n",
      "n\n",
      " \n",
      "i\n",
      "s\n",
      " \n",
      "a\n",
      " \n",
      "f\n",
      "u\n",
      "n\n",
      " \n",
      "p\n",
      "r\n",
      "o\n",
      "g\n",
      "r\n",
      "a\n",
      "m\n",
      "m\n",
      "a\n",
      "t\n",
      "i\n",
      "o\n",
      "n\n",
      " \n",
      "l\n",
      "a\n",
      "n\n",
      "g\n",
      "u\n",
      "a\n",
      "g\n",
      "e\n"
     ]
    }
   ],
   "source": [
    "# Strings are also sequencies\n",
    "for character in \"Python is a fun programmation language\":\n",
    "    print(character)"
   ]
  },
  {
   "cell_type": "markdown",
   "id": "4bdcab37",
   "metadata": {},
   "source": [
    "### Nested Loop"
   ]
  },
  {
   "cell_type": "code",
   "execution_count": 7,
   "id": "e700af33",
   "metadata": {},
   "outputs": [
    {
     "name": "stdout",
     "output_type": "stream",
     "text": [
      "\n",
      " 0\n",
      "\n",
      " 0\n",
      "\n",
      " 0\n",
      "\n",
      " 0\n",
      "\n",
      " 0\n",
      "----------\n",
      "\n",
      " 0\n",
      "\n",
      " 1\n",
      "\n",
      " 2\n",
      "\n",
      " 3\n",
      "\n",
      " 4\n",
      "----------\n",
      "\n",
      " 0\n",
      "\n",
      " 2\n",
      "\n",
      " 4\n",
      "\n",
      " 6\n",
      "\n",
      " 8\n",
      "----------\n",
      "\n",
      " 0\n",
      "\n",
      " 3\n",
      "\n",
      " 6\n",
      "\n",
      " 9\n",
      "\n",
      " 12\n",
      "----------\n",
      "\n",
      " 0\n",
      "\n",
      " 4\n",
      "\n",
      " 8\n",
      "\n",
      " 12\n",
      "\n",
      " 16\n",
      "----------\n"
     ]
    }
   ],
   "source": [
    "# Nested loops\n",
    "\n",
    "# External loop\n",
    "for i in range(0, 5):\n",
    "    # Internal loop\n",
    "    for a in range(0, 5):\n",
    "        print(\"\\n\", a * i)\n",
    "    print('----------')"
   ]
  },
  {
   "cell_type": "code",
   "execution_count": 8,
   "id": "d53bd507",
   "metadata": {},
   "outputs": [
    {
     "name": "stdout",
     "output_type": "stream",
     "text": [
      "\n",
      " 200\n",
      "\n",
      " 60\n",
      "\n",
      " 250\n",
      "\n",
      " 340\n",
      "\n",
      " 70\n",
      "---------------\n",
      "\n",
      " 320\n",
      "\n",
      " 96\n",
      "\n",
      " 400\n",
      "\n",
      " 544\n",
      "\n",
      " 112\n",
      "---------------\n",
      "\n",
      " 500\n",
      "\n",
      " 150\n",
      "\n",
      " 625\n",
      "\n",
      " 850\n",
      "\n",
      " 175\n",
      "---------------\n",
      "\n",
      " 680\n",
      "\n",
      " 204\n",
      "\n",
      " 850\n",
      "\n",
      " 1156\n",
      "\n",
      " 238\n",
      "---------------\n",
      "\n",
      " 940\n",
      "\n",
      " 282\n",
      "\n",
      " 1175\n",
      "\n",
      " 1598\n",
      "\n",
      " 329\n",
      "---------------\n"
     ]
    }
   ],
   "source": [
    "# Nested loop\n",
    "\n",
    "list1 = [10, 16,25,34,47]\n",
    "list2 = [0,6,2,3]\n",
    "\n",
    "# External loop\n",
    "for element_of_list1 in list1:\n",
    "    \n",
    "    # Internal loop\n",
    "    for element_of_list2 in list2:\n",
    "        print(\"\\n\", element_of_list1 * element_of_list2)\n",
    "        \n",
    "    print('---------------')"
   ]
  },
  {
   "cell_type": "code",
   "execution_count": 11,
   "id": "c8885f7f",
   "metadata": {},
   "outputs": [
    {
     "name": "stdout",
     "output_type": "stream",
     "text": [
      "No, the number is not in both lists\n"
     ]
    }
   ],
   "source": [
    "# Does the number 47 appear in both lists?\n",
    "\n",
    "list1 = [10, 16,25,34,47]\n",
    "list2 = [0,6,2,3]\n",
    "\n",
    "# External loop\n",
    "for element_of_list1 in list1:\n",
    "    \n",
    "    # Internal loop\n",
    "    for element_of_list2 in list2:\n",
    "        # Conditional\n",
    "        if element_of_list1 == 47 and element_of_list2 == 47:\n",
    "            print(\"Yes the number was found in both lists\")\n",
    "        \n",
    "print('No, the number is not in both lists')"
   ]
  },
  {
   "cell_type": "code",
   "execution_count": 12,
   "id": "87e0890a",
   "metadata": {},
   "outputs": [
    {
     "name": "stdout",
     "output_type": "stream",
     "text": [
      "The sum of the even numbers of the two lists is equal to:  68\n"
     ]
    }
   ],
   "source": [
    "# Sum the even numbers of the first list with the even numbers of the second list\n",
    "\n",
    "list1 = [10, 16,25,34,47]\n",
    "list2 = [0,6,2,3]\n",
    "sum_ex = 0\n",
    "\n",
    "# External loop\n",
    "for list_ex in [list1, list2]:\n",
    "    \n",
    "    # Internal loop\n",
    "    for num in list_ex:\n",
    "        if num % 2 == 0:\n",
    "            sum_ex += num \n",
    "        \n",
    "print('The sum of the even numbers of the two lists is equal to: ', sum_ex)"
   ]
  },
  {
   "cell_type": "code",
   "execution_count": 13,
   "id": "1e3adfbd",
   "metadata": {},
   "outputs": [
    {
     "data": {
      "text/plain": [
       "[10, 16, 25, 34, 47, 0, 6, 2, 3]"
      ]
     },
     "execution_count": 13,
     "metadata": {},
     "output_type": "execute_result"
    }
   ],
   "source": [
    "# Lists can be concateneted in Python\n",
    "list1 + list2"
   ]
  },
  {
   "cell_type": "code",
   "execution_count": 14,
   "id": "37b2848f",
   "metadata": {},
   "outputs": [
    {
     "name": "stdout",
     "output_type": "stream",
     "text": [
      "Biggest number:  215\n"
     ]
    }
   ],
   "source": [
    "# Loop in lists of lists (matrix) to find the biggest number\n",
    "\n",
    "matrix = [[42, 23, 34], [100, 215, 114], [10.1, 98.7, 12.3]]\n",
    "biggest_number = 0\n",
    "\n",
    "# External loop\n",
    "for line in matrix:\n",
    "    # Internal loop\n",
    "    for num in line:\n",
    "        # Conditional\n",
    "        if num > biggest_number:\n",
    "            biggest_number = num\n",
    "            \n",
    "print(\"Biggest number: \", biggest_number)"
   ]
  },
  {
   "cell_type": "code",
   "execution_count": 17,
   "id": "e9278a04",
   "metadata": {},
   "outputs": [
    {
     "name": "stdout",
     "output_type": "stream",
     "text": [
      "Key: k1 and item: Python\n",
      "Key: k2 and item: R\n",
      "Key: k3 and item: Scala\n"
     ]
    }
   ],
   "source": [
    "# Listing the keys of a dictionary\n",
    "dict = {'k1': \"Python\", 'k2': 'R', 'k3': 'Scala'}\n",
    "for key, item in dict.items():\n",
    "    print(f\"Key: {key} and item: {item}\")"
   ]
  },
  {
   "cell_type": "markdown",
   "id": "afbfa672",
   "metadata": {},
   "source": [
    "## End\n",
    "\n",
    "### Thank you"
   ]
  }
 ],
 "metadata": {
  "kernelspec": {
   "display_name": "Python 3 (ipykernel)",
   "language": "python",
   "name": "python3"
  },
  "language_info": {
   "codemirror_mode": {
    "name": "ipython",
    "version": 3
   },
   "file_extension": ".py",
   "mimetype": "text/x-python",
   "name": "python",
   "nbconvert_exporter": "python",
   "pygments_lexer": "ipython3",
   "version": "3.11.5"
  }
 },
 "nbformat": 4,
 "nbformat_minor": 5
}
