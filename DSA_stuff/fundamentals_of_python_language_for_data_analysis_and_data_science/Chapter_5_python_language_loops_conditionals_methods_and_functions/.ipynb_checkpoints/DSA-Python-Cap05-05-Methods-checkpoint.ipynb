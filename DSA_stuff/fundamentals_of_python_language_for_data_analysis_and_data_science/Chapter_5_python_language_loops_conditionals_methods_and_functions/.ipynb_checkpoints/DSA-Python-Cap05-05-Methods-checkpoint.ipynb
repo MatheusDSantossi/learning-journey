{
 "cells": [
  {
   "cell_type": "markdown",
   "id": "54c94548",
   "metadata": {},
   "source": [
    "# Data Science Academy\n",
    "\n",
    "### Fundamentals of Python Language for Data Analysis and Data Science\n",
    "\n",
    "### Chapter 5 - Range"
   ]
  },
  {
   "cell_type": "code",
   "execution_count": 1,
   "id": "58974e57",
   "metadata": {},
   "outputs": [
    {
     "name": "stdout",
     "output_type": "stream",
     "text": [
      "Version of Python Language used in this Jupyer Notebook:  3.11.5\n"
     ]
    }
   ],
   "source": [
    "# Version of Python language\n",
    "from platform import python_version\n",
    "print(\"Version of Python Language used in this Jupyer Notebook: \", python_version())"
   ]
  },
  {
   "cell_type": "markdown",
   "id": "8d275b20",
   "metadata": {},
   "source": [
    "## Function Range"
   ]
  },
  {
   "cell_type": "code",
   "execution_count": 1,
   "id": "446fcd6f",
   "metadata": {},
   "outputs": [
    {
     "name": "stdout",
     "output_type": "stream",
     "text": [
      "1\n",
      "2\n",
      "3\n",
      "4\n",
      "5\n",
      "6\n",
      "7\n",
      "8\n",
      "9\n",
      "10\n"
     ]
    }
   ],
   "source": [
    "# Print the numbers from 1 to 10\n",
    "\n",
    "for i in range(1, 11):\n",
    "    print(i)"
   ]
  },
  {
   "cell_type": "code",
   "execution_count": 2,
   "id": "8c1f1729",
   "metadata": {},
   "outputs": [
    {
     "name": "stdout",
     "output_type": "stream",
     "text": [
      "50\n",
      "52\n",
      "54\n",
      "56\n",
      "58\n",
      "60\n",
      "62\n",
      "64\n",
      "66\n",
      "68\n",
      "70\n",
      "72\n",
      "74\n",
      "76\n",
      "78\n",
      "80\n",
      "82\n",
      "84\n",
      "86\n",
      "88\n",
      "90\n",
      "92\n",
      "94\n",
      "96\n",
      "98\n",
      "100\n"
     ]
    }
   ],
   "source": [
    "# Printing the number even between 50 and 101\n",
    "for i in range(50, 101, 2):\n",
    "    print(i)"
   ]
  },
  {
   "cell_type": "code",
   "execution_count": 3,
   "id": "b5b99d12",
   "metadata": {},
   "outputs": [
    {
     "name": "stdout",
     "output_type": "stream",
     "text": [
      "0\n",
      "-2\n",
      "-4\n",
      "-6\n",
      "-8\n",
      "-10\n",
      "-12\n",
      "-14\n",
      "-16\n",
      "-18\n"
     ]
    }
   ],
   "source": [
    "# Printing the negative even numbers between 0 and -20\n",
    "for i in range(0, -20, -2):\n",
    "    print(i)"
   ]
  },
  {
   "cell_type": "code",
   "execution_count": 5,
   "id": "926838b3",
   "metadata": {},
   "outputs": [
    {
     "name": "stdout",
     "output_type": "stream",
     "text": [
      "Pienapple\n",
      "Banana\n",
      "Strawberry\n",
      "Grape\n"
     ]
    }
   ],
   "source": [
    "# Using the size of a list in the funciton range()\n",
    "list_ = [\"Pienapple\", \"Banana\", \"Strawberry\", \"Grape\"]\n",
    "list_size = len(list_)\n",
    "\n",
    "for i in range(0, list_size):\n",
    "    print(list_[i])"
   ]
  },
  {
   "cell_type": "markdown",
   "id": "afbfa672",
   "metadata": {},
   "source": [
    "## End\n",
    "\n",
    "### Thank you"
   ]
  }
 ],
 "metadata": {
  "kernelspec": {
   "display_name": "Python 3 (ipykernel)",
   "language": "python",
   "name": "python3"
  },
  "language_info": {
   "codemirror_mode": {
    "name": "ipython",
    "version": 3
   },
   "file_extension": ".py",
   "mimetype": "text/x-python",
   "name": "python",
   "nbconvert_exporter": "python",
   "pygments_lexer": "ipython3",
   "version": "3.11.5"
  }
 },
 "nbformat": 4,
 "nbformat_minor": 5
}
