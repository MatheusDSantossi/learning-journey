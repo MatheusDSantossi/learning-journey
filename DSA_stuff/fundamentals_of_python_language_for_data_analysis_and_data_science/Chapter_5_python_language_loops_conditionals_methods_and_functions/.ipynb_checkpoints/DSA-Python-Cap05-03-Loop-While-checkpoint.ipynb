{
 "cells": [
  {
   "cell_type": "markdown",
   "id": "54c94548",
   "metadata": {},
   "source": [
    "# Data Science Academy\n",
    "\n",
    "### Fundamentals of Python Language for Data Analysis and Data Science\n",
    "\n",
    "### Chapter 5 - Loop while"
   ]
  },
  {
   "cell_type": "code",
   "execution_count": 1,
   "id": "58974e57",
   "metadata": {},
   "outputs": [
    {
     "name": "stdout",
     "output_type": "stream",
     "text": [
      "Version of Python Language used in this Jupyer Notebook:  3.11.5\n"
     ]
    }
   ],
   "source": [
    "# Version of Python language\n",
    "from platform import python_version\n",
    "print(\"Version of Python Language used in this Jupyer Notebook: \", python_version())"
   ]
  },
  {
   "cell_type": "markdown",
   "id": "8d275b20",
   "metadata": {},
   "source": [
    "## Loop for"
   ]
  },
  {
   "cell_type": "code",
   "execution_count": 2,
   "id": "446fcd6f",
   "metadata": {},
   "outputs": [
    {
     "name": "stdout",
     "output_type": "stream",
     "text": [
      "0\n",
      "1\n",
      "2\n",
      "3\n",
      "4\n",
      "5\n",
      "6\n",
      "7\n",
      "8\n",
      "9\n"
     ]
    }
   ],
   "source": [
    "# Using the loop while to print the values of 0 to 9\n",
    "# The condition has to be true inside the loop, otherwise it can break\n",
    "# The browser/system\n",
    "\n",
    "value = 0\n",
    "while value < 10:\n",
    "    print(value)\n",
    "    value += 1"
   ]
  },
  {
   "cell_type": "code",
   "execution_count": 3,
   "id": "8c1f1729",
   "metadata": {},
   "outputs": [],
   "source": [
    "# Enter the loop only if the condition is true\n",
    "value = 11\n",
    "\n",
    "while value < 10:\n",
    "    print(v)\n",
    "    value-=1"
   ]
  },
  {
   "cell_type": "code",
   "execution_count": 4,
   "id": "b5b99d12",
   "metadata": {},
   "outputs": [
    {
     "name": "stdout",
     "output_type": "stream",
     "text": [
      "The value of x in this iteration is:  0\n",
      "x is still low than 10, summing 1 to x\n",
      "The value of x in this iteration is:  1\n",
      "x is still low than 10, summing 1 to x\n",
      "The value of x in this iteration is:  2\n",
      "x is still low than 10, summing 1 to x\n",
      "The value of x in this iteration is:  3\n",
      "x is still low than 10, summing 1 to x\n",
      "The value of x in this iteration is:  4\n",
      "x is still low than 10, summing 1 to x\n",
      "The value of x in this iteration is:  5\n",
      "x is still low than 10, summing 1 to x\n",
      "The value of x in this iteration is:  6\n",
      "x is still low than 10, summing 1 to x\n",
      "The value of x in this iteration is:  7\n",
      "x is still low than 10, summing 1 to x\n",
      "The value of x in this iteration is:  8\n",
      "x is still low than 10, summing 1 to x\n",
      "The value of x in this iteration is:  9\n",
      "x is still low than 10, summing 1 to x\n",
      "Loop finished!\n",
      "10\n"
     ]
    }
   ],
   "source": [
    "# It also possible to use the clause else to end the loop while\n",
    "x = 0\n",
    "\n",
    "while x < 10:\n",
    "    print(\"The value of x in this iteration is: \", x)\n",
    "    print(\"x is still low than 10, summing 1 to x\")\n",
    "    x+=1\n",
    "else:\n",
    "    print(\"Loop finished!\")\n",
    "print(x)"
   ]
  },
  {
   "cell_type": "markdown",
   "id": "309cde54",
   "metadata": {},
   "source": [
    "### Pass, Break, Continue"
   ]
  },
  {
   "cell_type": "code",
   "execution_count": 5,
   "id": "5c94d68c",
   "metadata": {},
   "outputs": [
    {
     "name": "stdout",
     "output_type": "stream",
     "text": [
      "0\n",
      "1\n",
      "2\n",
      "3\n"
     ]
    }
   ],
   "source": [
    "# If we find the number 4 we'll interrupt the loop\n",
    "value = 0\n",
    "\n",
    "while value < 10:\n",
    "    if value == 4:\n",
    "        break\n",
    "    else:\n",
    "        pass\n",
    "    print(value)\n",
    "    value += 1"
   ]
  },
  {
   "cell_type": "code",
   "execution_count": 6,
   "id": "3045c7cb",
   "metadata": {},
   "outputs": [
    {
     "name": "stdout",
     "output_type": "stream",
     "text": [
      "P\n",
      "y\n",
      "t\n",
      "h\n",
      "o\n",
      "n\n",
      " \n",
      "i\n",
      "s\n",
      " \n",
      " \n",
      "i\n",
      "n\n",
      "c\n",
      "r\n",
      "e\n",
      "d\n",
      "i\n",
      "b\n",
      "l\n",
      "e\n"
     ]
    }
   ],
   "source": [
    "# We desconsider the letter z to print the characters of the sentencec\n",
    "for letter in \"Python is zzz incredible\":\n",
    "    if letter == \"z\":\n",
    "        continue\n",
    "    print(letter)"
   ]
  },
  {
   "cell_type": "markdown",
   "id": "f509d639",
   "metadata": {},
   "source": [
    "### While and For together\n",
    "\n",
    "We'll find the prime numbers in a collection of numbers using loop While and For together.\n",
    "\n",
    "A number prime is a natural number bigger than 1 and divisible for only one and for itself. This means that any other integer number can divide a prime number without rest. For example, the number two is prime, because it's divisible only for 1 and 2. The number 4 isn't, because it can be divided for 2.\n",
    "\n",
    "Here's a code example"
   ]
  },
  {
   "cell_type": "code",
   "execution_count": 14,
   "id": "d53bd507",
   "metadata": {},
   "outputs": [
    {
     "name": "stdout",
     "output_type": "stream",
     "text": [
      "2 is a prime number!\n",
      "3 is a prime number!\n",
      "5 is a prime number!\n",
      "7 is a prime number!\n",
      "9 is a prime number!\n",
      "11 is a prime number!\n",
      "13 is a prime number!\n",
      "15 is a prime number!\n",
      "17 is a prime number!\n",
      "19 is a prime number!\n",
      "21 is a prime number!\n",
      "23 is a prime number!\n",
      "25 is a prime number!\n",
      "27 is a prime number!\n",
      "29 is a prime number!\n",
      "[2, 3, 5, 7, 9, 11, 13, 15, 17, 19, 21, 23, 25, 27, 29]\n",
      "CPU times: total: 0 ns\n",
      "Wall time: 1.01 ms\n"
     ]
    }
   ],
   "source": [
    "%%time\n",
    "\n",
    "# Finding the prime numbers between 2 and 30 using loop for and while\n",
    "\n",
    "\n",
    "# Loop for to go through numbers of 2 to 30\n",
    "for num in range(2, 31):\n",
    "    # Variable to control\n",
    "    j = 2\n",
    "    \n",
    "    # Count\n",
    "    value = 0\n",
    "    \n",
    "    # Loop while to check if the number is prime\n",
    "    while j < num:\n",
    "        if num % i == 0:\n",
    "            value = 1\n",
    "            j += 1\n",
    "        else:\n",
    "            j += 1\n",
    "            \n",
    "    if value == 0:\n",
    "        print(str(num) + \" is a prime number!\")\n",
    "        value = 0\n",
    "        \n",
    "    else:\n",
    "        value = 0\n",
    "    "
   ]
  },
  {
   "cell_type": "code",
   "execution_count": 13,
   "id": "c8885f7f",
   "metadata": {},
   "outputs": [
    {
     "name": "stdout",
     "output_type": "stream",
     "text": [
      "[2, 3, 5, 7, 9, 11, 13, 15, 17, 19, 21, 23, 25, 27, 29]\n",
      "CPU times: total: 0 ns\n",
      "Wall time: 0 ns\n"
     ]
    }
   ],
   "source": [
    "%%time\n",
    "\n",
    "# Finding the prime numbers between 2 and 30 using loop for and while\n",
    "\n",
    "# Variable to storage the prime numbers\n",
    "primes = []\n",
    "\n",
    "# Loop for to go through numbers of 2 to 30\n",
    "for num in range(2, 31):\n",
    "    # Variable to control\n",
    "    is_prime = True\n",
    "    \n",
    "    # Loop while to check if the number is prime\n",
    "    i = 2\n",
    "    while i <= num // 2:\n",
    "        if num % i == 0:\n",
    "            is_prime = False\n",
    "            break\n",
    "        i += i\n",
    "    \n",
    "    # Adding the number prime in the list\n",
    "    if is_prime:\n",
    "        primes.append(num)\n",
    "        \n",
    "# Printing the list of prime nubmers\n",
    "print(primes)"
   ]
  },
  {
   "cell_type": "code",
   "execution_count": 9,
   "id": "87e0890a",
   "metadata": {},
   "outputs": [
    {
     "name": "stdout",
     "output_type": "stream",
     "text": [
      "The sum of the even numbers of the two lists is equal to:  68\n"
     ]
    }
   ],
   "source": [
    "# Sum the even numbers of the first list with the even numbers of the second list\n",
    "\n",
    "list1 = [10, 16,25,34,47]\n",
    "list2 = [0,6,2,3]\n",
    "sum_ex = 0\n",
    "\n",
    "# External loop\n",
    "for list_ex in [list1, list2]:\n",
    "    \n",
    "    # Internal loop\n",
    "    for num in list_ex:\n",
    "        if num % 2 == 0:\n",
    "            sum_ex += num \n",
    "        \n",
    "print('The sum of the even numbers of the two lists is equal to: ', sum_ex)"
   ]
  },
  {
   "cell_type": "code",
   "execution_count": 10,
   "id": "1e3adfbd",
   "metadata": {},
   "outputs": [
    {
     "data": {
      "text/plain": [
       "[10, 16, 25, 34, 47, 0, 6, 2, 3]"
      ]
     },
     "execution_count": 10,
     "metadata": {},
     "output_type": "execute_result"
    }
   ],
   "source": [
    "# Lists can be concateneted in Python\n",
    "list1 + list2"
   ]
  },
  {
   "cell_type": "code",
   "execution_count": 11,
   "id": "37b2848f",
   "metadata": {},
   "outputs": [
    {
     "name": "stdout",
     "output_type": "stream",
     "text": [
      "Biggest number:  215\n"
     ]
    }
   ],
   "source": [
    "# Loop in lists of lists (matrix) to find the biggest number\n",
    "\n",
    "matrix = [[42, 23, 34], [100, 215, 114], [10.1, 98.7, 12.3]]\n",
    "biggest_number = 0\n",
    "\n",
    "# External loop\n",
    "for line in matrix:\n",
    "    # Internal loop\n",
    "    for num in line:\n",
    "        # Conditional\n",
    "        if num > biggest_number:\n",
    "            biggest_number = num\n",
    "            \n",
    "print(\"Biggest number: \", biggest_number)"
   ]
  },
  {
   "cell_type": "code",
   "execution_count": 12,
   "id": "e9278a04",
   "metadata": {},
   "outputs": [
    {
     "name": "stdout",
     "output_type": "stream",
     "text": [
      "Key: k1 and item: Python\n",
      "Key: k2 and item: R\n",
      "Key: k3 and item: Scala\n"
     ]
    }
   ],
   "source": [
    "# Listing the keys of a dictionary\n",
    "dict = {'k1': \"Python\", 'k2': 'R', 'k3': 'Scala'}\n",
    "for key, item in dict.items():\n",
    "    print(f\"Key: {key} and item: {item}\")"
   ]
  },
  {
   "cell_type": "markdown",
   "id": "afbfa672",
   "metadata": {},
   "source": [
    "## End\n",
    "\n",
    "### Thank you"
   ]
  }
 ],
 "metadata": {
  "kernelspec": {
   "display_name": "Python 3 (ipykernel)",
   "language": "python",
   "name": "python3"
  },
  "language_info": {
   "codemirror_mode": {
    "name": "ipython",
    "version": 3
   },
   "file_extension": ".py",
   "mimetype": "text/x-python",
   "name": "python",
   "nbconvert_exporter": "python",
   "pygments_lexer": "ipython3",
   "version": "3.11.5"
  }
 },
 "nbformat": 4,
 "nbformat_minor": 5
}
