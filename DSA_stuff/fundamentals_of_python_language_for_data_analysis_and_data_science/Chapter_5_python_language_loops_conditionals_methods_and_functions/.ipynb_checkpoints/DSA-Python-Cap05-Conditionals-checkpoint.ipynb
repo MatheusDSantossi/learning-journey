{
 "cells": [
  {
   "cell_type": "markdown",
   "id": "a9b7bb9f",
   "metadata": {},
   "source": [
    "# Data Science Academy\n",
    "\n",
    "### Fundamentals of Python Language for Data Analysis and Data Science\n",
    "\n",
    "### Chapter 5 - Conditionals"
   ]
  },
  {
   "cell_type": "code",
   "execution_count": 2,
   "id": "956fd62b",
   "metadata": {},
   "outputs": [
    {
     "name": "stdout",
     "output_type": "stream",
     "text": [
      "Python version used in this Jupyer Notebook is:  3.11.5\n"
     ]
    }
   ],
   "source": [
    "# Verson of the Python language\n",
    "from platform import python_version\n",
    "print(\"Python version used in this Jupyer Notebook is: \", python_version())"
   ]
  },
  {
   "cell_type": "markdown",
   "id": "89d9f00b",
   "metadata": {},
   "source": [
    "### Conditional if"
   ]
  },
  {
   "cell_type": "code",
   "execution_count": 3,
   "id": "22f9a953",
   "metadata": {},
   "outputs": [
    {
     "name": "stdout",
     "output_type": "stream",
     "text": [
      "The sentence is true!\n"
     ]
    }
   ],
   "source": [
    "# Conditional if\n",
    "if 5 > 2:\n",
    "    print(\"The sentence is true!\")"
   ]
  },
  {
   "cell_type": "code",
   "execution_count": 4,
   "id": "364a876b",
   "metadata": {},
   "outputs": [
    {
     "name": "stdout",
     "output_type": "stream",
     "text": [
      "The sentence is false!\n"
     ]
    }
   ],
   "source": [
    "# Conditional if and else\n",
    "if 5 < 2:\n",
    "    print(\"A sentence is true!\")\n",
    "else:\n",
    "    print(\"The sentence is false!\")"
   ]
  },
  {
   "cell_type": "code",
   "execution_count": 5,
   "id": "f70d9467",
   "metadata": {},
   "outputs": [
    {
     "name": "stdout",
     "output_type": "stream",
     "text": [
      "Today will rain\n"
     ]
    }
   ],
   "source": [
    "# Conditional if... else with variable\n",
    "day = \"Tuesday\"\n",
    "if day == \"Monday\":\n",
    "    print(\"Today will be sunny\")\n",
    "else:\n",
    "    print(\"Today will rain\")"
   ]
  },
  {
   "cell_type": "code",
   "execution_count": 6,
   "id": "355fde02",
   "metadata": {},
   "outputs": [
    {
     "name": "stdout",
     "output_type": "stream",
     "text": [
      "Today will rain\n"
     ]
    }
   ],
   "source": [
    "# We can use the operator elif to validate more than one condition\n",
    "if day == \"Monday\":\n",
    "    print(\"Today will be sunny\")\n",
    "elif day == \"Tuesday\":\n",
    "    print(\"Today will rain\")\n",
    "else:\n",
    "    print(\"We don't have a forecast for today\")"
   ]
  },
  {
   "cell_type": "markdown",
   "id": "47948e0c",
   "metadata": {},
   "source": [
    "### Relational operators\n",
    "\n",
    "Return a boolean value"
   ]
  },
  {
   "cell_type": "code",
   "execution_count": 7,
   "id": "597353a5",
   "metadata": {},
   "outputs": [
    {
     "data": {
      "text/plain": [
       "True"
      ]
     },
     "execution_count": 7,
     "metadata": {},
     "output_type": "execute_result"
    }
   ],
   "source": [
    "6 > 3"
   ]
  },
  {
   "cell_type": "code",
   "execution_count": 8,
   "id": "19cad479",
   "metadata": {},
   "outputs": [
    {
     "data": {
      "text/plain": [
       "False"
      ]
     },
     "execution_count": 8,
     "metadata": {},
     "output_type": "execute_result"
    }
   ],
   "source": [
    "3 > 7"
   ]
  },
  {
   "cell_type": "code",
   "execution_count": 9,
   "id": "2f0da688",
   "metadata": {},
   "outputs": [
    {
     "data": {
      "text/plain": [
       "True"
      ]
     },
     "execution_count": 9,
     "metadata": {},
     "output_type": "execute_result"
    }
   ],
   "source": [
    "4 < 8"
   ]
  },
  {
   "cell_type": "code",
   "execution_count": 10,
   "id": "acdbe6d8",
   "metadata": {},
   "outputs": [
    {
     "data": {
      "text/plain": [
       "True"
      ]
     },
     "execution_count": 10,
     "metadata": {},
     "output_type": "execute_result"
    }
   ],
   "source": [
    "4 >= 4"
   ]
  },
  {
   "cell_type": "code",
   "execution_count": 11,
   "id": "b2404a39",
   "metadata": {},
   "outputs": [
    {
     "name": "stdout",
     "output_type": "stream",
     "text": [
      "Testing Pyhton\n"
     ]
    }
   ],
   "source": [
    "if 5 == 5:\n",
    "    print(\"Testing Pyhton\")"
   ]
  },
  {
   "cell_type": "code",
   "execution_count": 12,
   "id": "6bab4af6",
   "metadata": {},
   "outputs": [
    {
     "name": "stdout",
     "output_type": "stream",
     "text": [
      "It looks like Python works!\n"
     ]
    }
   ],
   "source": [
    "if True:\n",
    "    print(\"It looks like Python works!\")"
   ]
  },
  {
   "cell_type": "code",
   "execution_count": 13,
   "id": "d6e2b4bd",
   "metadata": {},
   "outputs": [
    {
     "ename": "SyntaxError",
     "evalue": "expected ':' (2963760787.py, line 2)",
     "output_type": "error",
     "traceback": [
      "\u001b[1;36m  Cell \u001b[1;32mIn[13], line 2\u001b[1;36m\u001b[0m\n\u001b[1;33m    if 4 > 4\u001b[0m\n\u001b[1;37m            ^\u001b[0m\n\u001b[1;31mSyntaxError\u001b[0m\u001b[1;31m:\u001b[0m expected ':'\n"
     ]
    }
   ],
   "source": [
    "# Attention with the sintaxe\n",
    "if 4 > 4\n",
    "    print(\"Everything works\")"
   ]
  },
  {
   "cell_type": "code",
   "execution_count": 14,
   "id": "b262ac40",
   "metadata": {},
   "outputs": [
    {
     "ename": "IndentationError",
     "evalue": "expected an indented block after 'if' statement on line 2 (3744386469.py, line 3)",
     "output_type": "error",
     "traceback": [
      "\u001b[1;36m  Cell \u001b[1;32mIn[14], line 3\u001b[1;36m\u001b[0m\n\u001b[1;33m    print(\"Everything is working\")\u001b[0m\n\u001b[1;37m    ^\u001b[0m\n\u001b[1;31mIndentationError\u001b[0m\u001b[1;31m:\u001b[0m expected an indented block after 'if' statement on line 2\n"
     ]
    }
   ],
   "source": [
    "# Attention with the sintaxe\n",
    "if 4 > 3:\n",
    "print(\"Everything is working\")"
   ]
  },
  {
   "cell_type": "markdown",
   "id": "65efdaa7",
   "metadata": {},
   "source": [
    "### --> Look out for the spaces between the margins in  each of your commands. We'll talk more about indentation  during the course. The indentation is within the Python language\n",
    "\n",
    "----------------------------\n",
    "\n",
    "### Nested conditionals"
   ]
  },
  {
   "cell_type": "code",
   "execution_count": 15,
   "id": "8dd19618",
   "metadata": {},
   "outputs": [
    {
     "name": "stdout",
     "output_type": "stream",
     "text": [
      "You can drive\n"
     ]
    }
   ],
   "source": [
    "age = 18\n",
    "if age > 17:\n",
    "    print(\"You can drive\")"
   ]
  },
  {
   "cell_type": "code",
   "execution_count": 18,
   "id": "a95a591c",
   "metadata": {},
   "outputs": [
    {
     "name": "stdout",
     "output_type": "stream",
     "text": [
      "OK, Bob, you're allowed to enter\n"
     ]
    }
   ],
   "source": [
    "Name = \"Bob\"\n",
    "if age > 13:\n",
    "    if Name == \"Bob\":\n",
    "        print(f\"OK, {Name}, you're allowed to enter\")\n",
    "    else:\n",
    "        print(\"Sorry, but you can't enter!\")"
   ]
  },
  {
   "cell_type": "code",
   "execution_count": 19,
   "id": "487f8bd1",
   "metadata": {},
   "outputs": [
    {
     "name": "stdout",
     "output_type": "stream",
     "text": [
      "OK, Bob, you're allowed to enter\n"
     ]
    }
   ],
   "source": [
    "age = 13\n",
    "Name = \"Bob\"\n",
    "if age >= 13 and Name == \"Bob\":\n",
    "    print(f\"OK, {Name}, you're allowed to enter\")"
   ]
  },
  {
   "cell_type": "code",
   "execution_count": 20,
   "id": "1885413c",
   "metadata": {},
   "outputs": [
    {
     "name": "stdout",
     "output_type": "stream",
     "text": [
      "OK, Bob, you're allowed to enter\n"
     ]
    }
   ],
   "source": [
    "age = 12\n",
    "Name = \"Bob\"\n",
    "if (age >= 13) or (Name == \"Bob\"):\n",
    "    print(f\"OK, {Name}, you're allowed to enter\")"
   ]
  },
  {
   "cell_type": "markdown",
   "id": "0123e6ef",
   "metadata": {},
   "source": [
    "### Logical Operators"
   ]
  },
  {
   "cell_type": "code",
   "execution_count": 21,
   "id": "f5044750",
   "metadata": {},
   "outputs": [
    {
     "name": "stdout",
     "output_type": "stream",
     "text": [
      "You can drive!\n"
     ]
    }
   ],
   "source": [
    "age = 18\n",
    "name = \"Bob\"\n",
    "\n",
    "if age > 17:\n",
    "    print(\"You can drive!\")"
   ]
  },
  {
   "cell_type": "code",
   "execution_count": null,
   "id": "cc7f7a3a",
   "metadata": {},
   "outputs": [],
   "source": []
  }
 ],
 "metadata": {
  "kernelspec": {
   "display_name": "Python 3 (ipykernel)",
   "language": "python",
   "name": "python3"
  },
  "language_info": {
   "codemirror_mode": {
    "name": "ipython",
    "version": 3
   },
   "file_extension": ".py",
   "mimetype": "text/x-python",
   "name": "python",
   "nbconvert_exporter": "python",
   "pygments_lexer": "ipython3",
   "version": "3.11.5"
  }
 },
 "nbformat": 4,
 "nbformat_minor": 5
}
