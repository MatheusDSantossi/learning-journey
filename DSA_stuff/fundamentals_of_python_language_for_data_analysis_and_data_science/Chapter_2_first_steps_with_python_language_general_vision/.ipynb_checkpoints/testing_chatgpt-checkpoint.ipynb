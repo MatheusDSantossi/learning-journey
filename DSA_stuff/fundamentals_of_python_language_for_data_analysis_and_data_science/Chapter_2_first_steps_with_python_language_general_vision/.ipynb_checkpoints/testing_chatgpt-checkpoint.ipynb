{
 "cells": [
  {
   "cell_type": "code",
   "execution_count": null,
   "id": "d4eb803c",
   "metadata": {},
   "outputs": [],
   "source": [
    "# Create a list of numbers between 1 and 100\n",
    "numbers = list(range(1, 101))\n",
    "\n",
    "# Go through the list and check if the number is eve and divisible for 4\n",
    "for number in numbers:\n",
    "    if number % 2 == 0 and number % 4 == 0:\n",
    "        print(number)"
   ]
  }
 ],
 "metadata": {
  "kernelspec": {
   "display_name": "Python 3 (ipykernel)",
   "language": "python",
   "name": "python3"
  },
  "language_info": {
   "codemirror_mode": {
    "name": "ipython",
    "version": 3
   },
   "file_extension": ".py",
   "mimetype": "text/x-python",
   "name": "python",
   "nbconvert_exporter": "python",
   "pygments_lexer": "ipython3",
   "version": "3.11.5"
  }
 },
 "nbformat": 4,
 "nbformat_minor": 5
}
