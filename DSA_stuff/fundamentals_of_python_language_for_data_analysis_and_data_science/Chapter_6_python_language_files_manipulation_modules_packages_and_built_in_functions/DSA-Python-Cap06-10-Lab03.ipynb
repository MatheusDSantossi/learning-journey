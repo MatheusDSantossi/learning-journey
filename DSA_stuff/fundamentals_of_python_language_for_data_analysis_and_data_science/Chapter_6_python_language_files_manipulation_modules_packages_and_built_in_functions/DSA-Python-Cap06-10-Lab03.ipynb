{
 "cells": [
  {
   "cell_type": "markdown",
   "id": "f14048e6",
   "metadata": {},
   "source": [
    "# Data Science Academy\n",
    "\n",
    "## Fundamentals of Python Language for Data Analysis and Data Science\n",
    "\n",
    "### Chapter 6 - Lab 03"
   ]
  },
  {
   "cell_type": "code",
   "execution_count": 1,
   "id": "cd94ed15",
   "metadata": {},
   "outputs": [
    {
     "name": "stdout",
     "output_type": "stream",
     "text": [
      "Python Version used in this Jupyter notebook is:  3.11.5\n"
     ]
    }
   ],
   "source": [
    "# Version of Python Language\n",
    "from platform import python_version\n",
    "print(\"Python Version used in this Jupyter notebook is: \", python_version())"
   ]
  },
  {
   "cell_type": "markdown",
   "id": "aab51936",
   "metadata": {},
   "source": [
    "## Regular expressions\n",
    "\n",
    "Regular expressions are patterns used to match or find sequel of characters in a string. In Python, regular expressions are genarally used to manipulate strings and do tasks like data entrance validation, strings information extraction and text replacement."
   ]
  },
  {
   "cell_type": "code",
   "execution_count": 2,
   "id": "83ebec3e",
   "metadata": {},
   "outputs": [],
   "source": [
    "import re"
   ]
  },
  {
   "cell_type": "code",
   "execution_count": 14,
   "id": "825a6ae8",
   "metadata": {},
   "outputs": [],
   "source": [
    "text = \"My email is exemple@gmail.com and you can contact me in other_email@yahoo.com\""
   ]
  },
  {
   "cell_type": "code",
   "execution_count": 15,
   "id": "37ee701f",
   "metadata": {},
   "outputs": [
    {
     "data": {
      "text/plain": [
       "2"
      ]
     },
     "execution_count": 15,
     "metadata": {},
     "output_type": "execute_result"
    }
   ],
   "source": [
    "# Regular expression to count howw many times the charachter @ appears in the text\n",
    "result = len(re.findall(\"@\", text))\n",
    "result"
   ]
  },
  {
   "cell_type": "code",
   "execution_count": 16,
   "id": "2b43239c",
   "metadata": {},
   "outputs": [
    {
     "name": "stdout",
     "output_type": "stream",
     "text": [
      "The character '@' appears 2 times on the text\n"
     ]
    }
   ],
   "source": [
    "print(\"The character '@' appears\", result, \"times on the text\")"
   ]
  },
  {
   "cell_type": "code",
   "execution_count": 20,
   "id": "06adb061",
   "metadata": {},
   "outputs": [],
   "source": [
    "# Regular expression to extract the word that appears after \"you\" in a text\n",
    "result = re.findall(r\"you (\\w+)\", text)"
   ]
  },
  {
   "cell_type": "code",
   "execution_count": 21,
   "id": "3f03eed2",
   "metadata": {},
   "outputs": [
    {
     "name": "stdout",
     "output_type": "stream",
     "text": [
      "The word after 'you' is:  ['can']\n"
     ]
    }
   ],
   "source": [
    "print(\"The word after 'you' is: \", result)"
   ]
  },
  {
   "cell_type": "markdown",
   "id": "a2153bda",
   "metadata": {},
   "source": [
    "Note: The r before the string represents the regular expression in Python is used to indicate that the string is a raw literal string. That menas that the invert bars (\\) aren't interpretaded as a scape character, but they're included in the regular expression as part of the pattern."
   ]
  },
  {
   "cell_type": "code",
   "execution_count": 22,
   "id": "b14e34ae",
   "metadata": {},
   "outputs": [],
   "source": [
    "# Regular expression to extract email address of a string\n",
    "emails = re.findall(r'\\b[A-Za-z0-9._%+-]+@[A-Za-z0-9.-]+\\.[A-Z|a-z]{2,}\\b', text)"
   ]
  },
  {
   "cell_type": "code",
   "execution_count": 23,
   "id": "47ea1eea",
   "metadata": {},
   "outputs": [
    {
     "name": "stdout",
     "output_type": "stream",
     "text": [
      "['exemple@gmail.com', 'other_email@yahoo.com']\n"
     ]
    }
   ],
   "source": [
    "print(emails)"
   ]
  },
  {
   "cell_type": "markdown",
   "id": "eaeb9f48",
   "metadata": {},
   "source": [
    "Visite sua amiga, a documentação\n",
    "\n",
    "https://docs.python.org/3/library/re.html"
   ]
  },
  {
   "cell_type": "code",
   "execution_count": 25,
   "id": "3d848790",
   "metadata": {},
   "outputs": [],
   "source": [
    "text = \"The student was incredibly lost, but he found the DSA and quickly started to learn\""
   ]
  },
  {
   "cell_type": "code",
   "execution_count": 26,
   "id": "ba345cef",
   "metadata": {},
   "outputs": [
    {
     "name": "stdout",
     "output_type": "stream",
     "text": [
      "16-26: incredibly\n",
      "58-65: quickly\n"
     ]
    }
   ],
   "source": [
    "# Extracting the adverb of the sentence\n",
    "for m in re.finditer(r\"\\w+ly\\b\", text):\n",
    "    print(\"%02d-%02d: %s\" % (m.start(), m.end(), m.group(0)))"
   ]
  },
  {
   "cell_type": "markdown",
   "id": "6cf2fa00",
   "metadata": {},
   "source": [
    "### REGEX with ChatGPT\n",
    "\n",
    "Music: Tempo Perdido\n",
    "Legião Urbana"
   ]
  },
  {
   "cell_type": "code",
   "execution_count": 28,
   "id": "0073d537",
   "metadata": {},
   "outputs": [],
   "source": [
    "# String type variable\n",
    "music = '''\n",
    "Todos os dias quando acordo\n",
    "Não tenho mais o tempo que passou\n",
    "Mas tenho muito tempo\n",
    "Temos todo o tempo do mundo\n",
    "Todos os dias\n",
    "Antes de dormir\n",
    "Lembro e esqueço como foi o dia\n",
    "Sempre em frente\n",
    "Não temos tempo a perder\n",
    "Nosso suor sagrado\n",
    "É bem mais belo que esse sangue amargo\n",
    "E tão sério\n",
    "E selvagem\n",
    "Selvagem!\n",
    "Selvagem!\n",
    "Veja o sol dessa manhã tão cinza\n",
    "A tempestade que chega é da cor dos teus olhos\n",
    "Castanhos\n",
    "Então me abraça forte\n",
    "Me diz mais uma vez que já estamos\n",
    "Distantes de tudo\n",
    "Temos nosso próprio tempo\n",
    "Temos nosso próprio tempo\n",
    "Temos nosso próprio tempo\n",
    "Não tenho medo do escuro\n",
    "Mas deixe as luzes\n",
    "Acesas\n",
    "Agora\n",
    "O que foi escondido é o que se escondeu\n",
    "E o que foi prometido, ninguém prometeu\n",
    "Nem foi tempo perdido\n",
    "Somos tão jovens\n",
    "Tão jovens\n",
    "Tão jovens\n",
    "'''"
   ]
  },
  {
   "cell_type": "code",
   "execution_count": 29,
   "id": "9f089f73",
   "metadata": {},
   "outputs": [
    {
     "name": "stdout",
     "output_type": "stream",
     "text": [
      "\n",
      "Todos os dias quando acordo\n",
      "Não tenho mais o tempo que passou\n",
      "Mas tenho muito tempo\n",
      "Temos todo o tempo do mundo\n",
      "Todos os dias\n",
      "Antes de dormir\n",
      "Lembro e esqueço como foi o dia\n",
      "Sempre em frente\n",
      "Não temos tempo a perder\n",
      "Nosso suor sagrado\n",
      "É bem mais belo que esse sangue amargo\n",
      "E tão sério\n",
      "E selvagem\n",
      "Selvagem!\n",
      "Selvagem!\n",
      "Veja o sol dessa manhã tão cinza\n",
      "A tempestade que chega é da cor dos teus olhos\n",
      "Castanhos\n",
      "Então me abraça forte\n",
      "Me diz mais uma vez que já estamos\n",
      "Distantes de tudo\n",
      "Temos nosso próprio tempo\n",
      "Temos nosso próprio tempo\n",
      "Temos nosso próprio tempo\n",
      "Não tenho medo do escuro\n",
      "Mas deixe as luzes\n",
      "Acesas\n",
      "Agora\n",
      "O que foi escondido é o que se escondeu\n",
      "E o que foi prometido, ninguém prometeu\n",
      "Nem foi tempo perdido\n",
      "Somos tão jovens\n",
      "Tão jovens\n",
      "Tão jovens\n",
      "\n"
     ]
    }
   ],
   "source": [
    "print(music)"
   ]
  },
  {
   "cell_type": "code",
   "execution_count": 30,
   "id": "5b9168d2",
   "metadata": {},
   "outputs": [],
   "source": [
    "# 1- Create a REGEX to count how many times the caracter \"a\" appears in all\n",
    "# the text\n",
    "# 2- Create a REGEX in Python to count how many times the word \"tempo\" appears in\n",
    "# the music\n",
    "# 3- Create a REGEX in Python to extract the words followed by exclamation (!)\n",
    "# 4- Create a REGEX that extracts the word which predecessor is the word \"esse\"\n",
    "# and the sucessor is the word \"amargo\"\n",
    "# 5- Create a REGEX that returns the words with accent, but only the character \n",
    "# in the word that are predecessors to the character with accent. E.g:\n",
    "# \"música\" => mú (that's the return)"
   ]
  },
  {
   "cell_type": "markdown",
   "id": "8e3af846",
   "metadata": {},
   "source": [
    "here's the solution!!"
   ]
  },
  {
   "cell_type": "code",
   "execution_count": 31,
   "id": "5dbd6961",
   "metadata": {},
   "outputs": [
    {
     "name": "stdout",
     "output_type": "stream",
     "text": [
      "In the music there are  38  letters 'a'\n"
     ]
    }
   ],
   "source": [
    "# 1- Create a REGEX to count how many times the caracter \"a\" appears in all\n",
    "# the text\n",
    "count_a = re.findall('a', music).count('a')\n",
    "match = re.findall('a', music)\n",
    "count_a = len(match)\n",
    "print(\"In the music there are \", count_a, \" letters 'a'\")"
   ]
  },
  {
   "cell_type": "code",
   "execution_count": 32,
   "id": "a7aaf17b",
   "metadata": {},
   "outputs": [
    {
     "name": "stdout",
     "output_type": "stream",
     "text": [
      "In the music the word 'tempo' appears  8  times.\n"
     ]
    }
   ],
   "source": [
    "# 2- Create a REGEX in Python to count how many times the word \"tempo\" appears in\n",
    "# the music\n",
    "count_tempo = re.findall(r'\\btempo\\b', music) # Using \\b makes the search\n",
    "# more precise.\n",
    "print(\"In the music the word 'tempo' appears \", len(count_tempo), \" times.\")"
   ]
  },
  {
   "cell_type": "code",
   "execution_count": 33,
   "id": "fdbcdb5f",
   "metadata": {},
   "outputs": [
    {
     "name": "stdout",
     "output_type": "stream",
     "text": [
      "The words followed by exclamation are:  ['Selvagem!', 'Selvagem!']\n"
     ]
    }
   ],
   "source": [
    "# 3- Create a REGEX in Python to extract the words followed by \n",
    "# exclamation (!)\n",
    "match = re.findall(r\"\\b\\w+!\", music)\n",
    "print(\"The words followed by exclamation are: \", match)"
   ]
  },
  {
   "cell_type": "code",
   "execution_count": 35,
   "id": "0b8528e8",
   "metadata": {},
   "outputs": [
    {
     "name": "stdout",
     "output_type": "stream",
     "text": [
      "Words between 'esse' and 'amargo':  ['sangue']\n"
     ]
    }
   ],
   "source": [
    "# 4- Create a REGEX that extracts the word which predecessor is the \n",
    "# word \"esse\" and the sucessor is the word \"amargo\"\n",
    "match = re.findall(r\"\\besse\\s(\\w+)\\samargo\\b\", music)\n",
    "print(\"Words between 'esse' and 'amargo': \", match)"
   ]
  },
  {
   "cell_type": "code",
   "execution_count": 44,
   "id": "e92d2795",
   "metadata": {},
   "outputs": [
    {
     "name": "stdout",
     "output_type": "stream",
     "text": [
      "Parts of the words with accents:  ['Nã', 'esqueç', 'Nã', 'É', 'tã', 'sé', 'manhã', 'tã', 'é', 'Entã', 'abraç', 'já', 'pró', 'pró', 'pró', 'Nã', 'é', 'ningué', 'tã', 'Tã', 'Tã']\n"
     ]
    }
   ],
   "source": [
    "# 5- Create a REGEX that returns the words with accent, but only the character \n",
    "# in the word that are predecessors to the character with accent. E.g:\n",
    "# \"música\" => mú (that's the return)\n",
    "match = re.findall(r\"(\\w+)\\b[áéíóóãõúâêîôû]\", music)\n",
    "match = re.findall(r\"\\b[wÀ-ÿ]+[áéíóúãõç]\", music)\n",
    "pattern = r\"\\b(\\w*?[áéíóúãõâêîôûàèìòùäëïöüçÁÉÍÓÚÃÕÂÊÎÔÛÀÈÌÒÙÄËÏÖÜÇ])\"\n",
    "matches = re.findall(pattern, music, re.IGNORECASE)\n",
    "print(\"Parts of the words with accents: \", matches)"
   ]
  },
  {
   "cell_type": "markdown",
   "id": "3a028ae2",
   "metadata": {},
   "source": [
    "## End\n",
    "\n",
    "### Thank you"
   ]
  }
 ],
 "metadata": {
  "kernelspec": {
   "display_name": "Python 3 (ipykernel)",
   "language": "python",
   "name": "python3"
  },
  "language_info": {
   "codemirror_mode": {
    "name": "ipython",
    "version": 3
   },
   "file_extension": ".py",
   "mimetype": "text/x-python",
   "name": "python",
   "nbconvert_exporter": "python",
   "pygments_lexer": "ipython3",
   "version": "3.11.5"
  }
 },
 "nbformat": 4,
 "nbformat_minor": 5
}
