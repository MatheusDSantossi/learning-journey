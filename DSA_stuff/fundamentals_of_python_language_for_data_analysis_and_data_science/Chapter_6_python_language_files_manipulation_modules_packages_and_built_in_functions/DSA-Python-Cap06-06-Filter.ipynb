{
 "cells": [
  {
   "cell_type": "markdown",
   "id": "f14048e6",
   "metadata": {},
   "source": [
    "# Data Science Academy\n",
    "\n",
    "## Fundamentals of Python Language for Data Analysis and Data Science\n",
    "\n",
    "### Chapter 6 - Filter Function"
   ]
  },
  {
   "cell_type": "code",
   "execution_count": 1,
   "id": "cd94ed15",
   "metadata": {},
   "outputs": [
    {
     "name": "stdout",
     "output_type": "stream",
     "text": [
      "Python Version used in this Jupyter notebook is:  3.11.5\n"
     ]
    }
   ],
   "source": [
    "# Version of Python Language\n",
    "from platform import python_version\n",
    "print(\"Python Version used in this Jupyter notebook is: \", python_version())"
   ]
  },
  {
   "cell_type": "markdown",
   "id": "aab51936",
   "metadata": {},
   "source": [
    "## Filter Function\n",
    "\n",
    "The filter() function in Python is a function that filter elements of a iterable data structure (like a list, tuple or other iterable object) based in a determined condition. The filter() function returns a filtered object, that might be converted in another data structure, like a list, if necessary."
   ]
  },
  {
   "cell_type": "code",
   "execution_count": 2,
   "id": "83ebec3e",
   "metadata": {},
   "outputs": [],
   "source": [
    "# Creating a function\n",
    "def checkEven(num):\n",
    "    if num % 2 == 0:\n",
    "        return True\n",
    "    return False"
   ]
  },
  {
   "cell_type": "code",
   "execution_count": 4,
   "id": "825a6ae8",
   "metadata": {},
   "outputs": [
    {
     "data": {
      "text/plain": [
       "False"
      ]
     },
     "execution_count": 4,
     "metadata": {},
     "output_type": "execute_result"
    }
   ],
   "source": [
    "# Calling the function and giving a number as parameter.\n",
    "# It'll return False if it's odd and True if it's even\n",
    "checkEven(35)"
   ]
  },
  {
   "cell_type": "code",
   "execution_count": 5,
   "id": "37ee701f",
   "metadata": {},
   "outputs": [
    {
     "data": {
      "text/plain": [
       "True"
      ]
     },
     "execution_count": 5,
     "metadata": {},
     "output_type": "execute_result"
    }
   ],
   "source": [
    "checkEven(10)"
   ]
  },
  {
   "cell_type": "code",
   "execution_count": 6,
   "id": "2b43239c",
   "metadata": {},
   "outputs": [],
   "source": [
    "lst = [0,1,2,3,4,5,6,7,8,9,10,11,12,13,14,15,16,17,18]"
   ]
  },
  {
   "cell_type": "code",
   "execution_count": 7,
   "id": "06adb061",
   "metadata": {},
   "outputs": [
    {
     "data": {
      "text/plain": [
       "[0, 1, 2, 3, 4, 5, 6, 7, 8, 9, 10, 11, 12, 13, 14, 15, 16, 17, 18]"
      ]
     },
     "execution_count": 7,
     "metadata": {},
     "output_type": "execute_result"
    }
   ],
   "source": [
    "lst"
   ]
  },
  {
   "cell_type": "code",
   "execution_count": 8,
   "id": "45f8c4df",
   "metadata": {},
   "outputs": [
    {
     "data": {
      "text/plain": [
       "<filter at 0x1fcd9593fd0>"
      ]
     },
     "execution_count": 8,
     "metadata": {},
     "output_type": "execute_result"
    }
   ],
   "source": [
    "# The function filter() returns a iterator\n",
    "filter(checkEven, lst)"
   ]
  },
  {
   "cell_type": "code",
   "execution_count": 9,
   "id": "b9440cd3",
   "metadata": {
    "scrolled": true
   },
   "outputs": [
    {
     "data": {
      "text/plain": [
       "[0, 2, 4, 6, 8, 10, 12, 14, 16, 18]"
      ]
     },
     "execution_count": 9,
     "metadata": {},
     "output_type": "execute_result"
    }
   ],
   "source": [
    "list(filter(checkEven, lst))"
   ]
  },
  {
   "cell_type": "code",
   "execution_count": 10,
   "id": "b14e34ae",
   "metadata": {},
   "outputs": [
    {
     "data": {
      "text/plain": [
       "[0, 2, 4, 6, 8, 10, 12, 14, 16, 18]"
      ]
     },
     "execution_count": 10,
     "metadata": {},
     "output_type": "execute_result"
    }
   ],
   "source": [
    "list(filter(lambda x: x% 2 == 0, lst))"
   ]
  },
  {
   "cell_type": "code",
   "execution_count": 11,
   "id": "47ea1eea",
   "metadata": {},
   "outputs": [
    {
     "data": {
      "text/plain": [
       "[9, 10, 11, 12, 13, 14, 15, 16, 17, 18]"
      ]
     },
     "execution_count": 11,
     "metadata": {},
     "output_type": "execute_result"
    }
   ],
   "source": [
    "list(filter(lambda num: num > 8, lst))"
   ]
  },
  {
   "cell_type": "markdown",
   "id": "e610f9b8",
   "metadata": {},
   "source": [
    "## End\n",
    "\n",
    "### Thank you!"
   ]
  }
 ],
 "metadata": {
  "kernelspec": {
   "display_name": "Python 3 (ipykernel)",
   "language": "python",
   "name": "python3"
  },
  "language_info": {
   "codemirror_mode": {
    "name": "ipython",
    "version": 3
   },
   "file_extension": ".py",
   "mimetype": "text/x-python",
   "name": "python",
   "nbconvert_exporter": "python",
   "pygments_lexer": "ipython3",
   "version": "3.11.5"
  }
 },
 "nbformat": 4,
 "nbformat_minor": 5
}
