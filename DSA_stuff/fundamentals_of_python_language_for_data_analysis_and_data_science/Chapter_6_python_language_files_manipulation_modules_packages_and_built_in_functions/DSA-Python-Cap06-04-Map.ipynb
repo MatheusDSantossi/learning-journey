{
 "cells": [
  {
   "cell_type": "markdown",
   "id": "f14048e6",
   "metadata": {},
   "source": [
    "# Data Science Academy\n",
    "\n",
    "## Fundamentals of Python Language for Data Analysis and Data Science\n",
    "\n",
    "### Chapter 6 - Map Function"
   ]
  },
  {
   "cell_type": "code",
   "execution_count": 1,
   "id": "cd94ed15",
   "metadata": {},
   "outputs": [
    {
     "name": "stdout",
     "output_type": "stream",
     "text": [
      "Python Version used in this Jupyter notebook is:  3.11.5\n"
     ]
    }
   ],
   "source": [
    "# Version of Python Language\n",
    "from platform import python_version\n",
    "print(\"Python Version used in this Jupyter notebook is: \", python_version())"
   ]
  },
  {
   "cell_type": "markdown",
   "id": "aab51936",
   "metadata": {},
   "source": [
    "## Map Function\n",
    "\n",
    "The map() function in Python is a function that applies a determined function to each element of a iterable data structure (like a list, tuple or other iterable object). The map() function returns a object that might be converted in another data structure, as a list, if necessary."
   ]
  },
  {
   "cell_type": "code",
   "execution_count": 2,
   "id": "83ebec3e",
   "metadata": {},
   "outputs": [],
   "source": [
    "# Python Function, that returns a square number\n",
    "def power(x):\n",
    "    return x**2"
   ]
  },
  {
   "cell_type": "code",
   "execution_count": 3,
   "id": "825a6ae8",
   "metadata": {},
   "outputs": [],
   "source": [
    "numbers = [1, 2, 3, 4, 5]"
   ]
  },
  {
   "cell_type": "code",
   "execution_count": 4,
   "id": "37ee701f",
   "metadata": {},
   "outputs": [],
   "source": [
    "square_numbers = list(map(power, numbers))"
   ]
  },
  {
   "cell_type": "code",
   "execution_count": 5,
   "id": "2b43239c",
   "metadata": {},
   "outputs": [
    {
     "name": "stdout",
     "output_type": "stream",
     "text": [
      "[1, 4, 9, 16, 25]\n"
     ]
    }
   ],
   "source": [
    "print(square_numbers)"
   ]
  },
  {
   "cell_type": "code",
   "execution_count": 6,
   "id": "06adb061",
   "metadata": {},
   "outputs": [],
   "source": [
    "# Creating two functions\n",
    "\n",
    "# Function 1 - Receive a temperature as parameter and returns\n",
    "# the temperature in Fahrenheit\n",
    "def fahrenheit(T):\n",
    "    return ((float(9)/5)*T + 32)\n",
    "\n",
    "# Function 2 - Receive a temperature as parameter and returns\n",
    "# The temperature in Celsius\n",
    "def celsius(T):\n",
    "    return ((float(5) / 9) * (T - 32))"
   ]
  },
  {
   "cell_type": "code",
   "execution_count": 7,
   "id": "45f8c4df",
   "metadata": {},
   "outputs": [],
   "source": [
    "# Creating a list\n",
    "temperatures = [0, 22.5, 40, 100]"
   ]
  },
  {
   "cell_type": "code",
   "execution_count": 8,
   "id": "b9440cd3",
   "metadata": {},
   "outputs": [
    {
     "data": {
      "text/plain": [
       "<map at 0x1d775131e70>"
      ]
     },
     "execution_count": 8,
     "metadata": {},
     "output_type": "execute_result"
    }
   ],
   "source": [
    "# Applying the function map() to each element of the\n",
    "# temperature list\n",
    "map(fahrenheit, temperatures)"
   ]
  },
  {
   "cell_type": "code",
   "execution_count": 9,
   "id": "b14e34ae",
   "metadata": {},
   "outputs": [
    {
     "data": {
      "text/plain": [
       "[32.0, 72.5, 104.0, 212.0]"
      ]
     },
     "execution_count": 9,
     "metadata": {},
     "output_type": "execute_result"
    }
   ],
   "source": [
    "# Function map() returning the list of temperature converted\n",
    "# to Fahrenheit\n",
    "list(map(fahrenheit, temperatures))"
   ]
  },
  {
   "cell_type": "code",
   "execution_count": 11,
   "id": "47ea1eea",
   "metadata": {},
   "outputs": [
    {
     "name": "stdout",
     "output_type": "stream",
     "text": [
      "32.0\n",
      "72.5\n",
      "104.0\n",
      "212.0\n"
     ]
    }
   ],
   "source": [
    "# Using a loop for to print the result of the map() function\n",
    "for temp in map(fahrenheit, temperatures):\n",
    "    print(temp)"
   ]
  },
  {
   "cell_type": "code",
   "execution_count": 12,
   "id": "c926032e",
   "metadata": {},
   "outputs": [
    {
     "data": {
      "text/plain": [
       "<map at 0x1d775676470>"
      ]
     },
     "execution_count": 12,
     "metadata": {},
     "output_type": "execute_result"
    }
   ],
   "source": [
    "# Converting to Celsius\n",
    "map(celsius, temperatures)"
   ]
  },
  {
   "cell_type": "code",
   "execution_count": 13,
   "id": "7eceb3c1",
   "metadata": {},
   "outputs": [
    {
     "data": {
      "text/plain": [
       "[-17.77777777777778, -5.277777777777778, 4.444444444444445, 37.77777777777778]"
      ]
     },
     "execution_count": 13,
     "metadata": {},
     "output_type": "execute_result"
    }
   ],
   "source": [
    "list(map(celsius, temperatures))"
   ]
  },
  {
   "cell_type": "code",
   "execution_count": 14,
   "id": "b09a14b8",
   "metadata": {},
   "outputs": [
    {
     "data": {
      "text/plain": [
       "<map at 0x1d775133760>"
      ]
     },
     "execution_count": 14,
     "metadata": {},
     "output_type": "execute_result"
    }
   ],
   "source": [
    "# Using lambda expression\n",
    "map(lambda x: (5.0/9) * (x - 32), temperatures)"
   ]
  },
  {
   "cell_type": "code",
   "execution_count": 17,
   "id": "10f873d4",
   "metadata": {},
   "outputs": [
    {
     "data": {
      "text/plain": [
       "[-17.77777777777778, -5.277777777777778, 4.444444444444445, 37.77777777777778]"
      ]
     },
     "execution_count": 17,
     "metadata": {},
     "output_type": "execute_result"
    }
   ],
   "source": [
    "list(map(lambda x: (5.0/9) * (x - 32), temperatures))"
   ]
  },
  {
   "cell_type": "code",
   "execution_count": 18,
   "id": "e6641e73",
   "metadata": {},
   "outputs": [],
   "source": [
    "# Summing the elements of 2 lists\n",
    "a = [1, 2, 3, 10]\n",
    "b = [3, 5, 7, 30]"
   ]
  },
  {
   "cell_type": "code",
   "execution_count": 19,
   "id": "11fcc7ca",
   "metadata": {},
   "outputs": [
    {
     "data": {
      "text/plain": [
       "[4, 7, 10, 40]"
      ]
     },
     "execution_count": 19,
     "metadata": {},
     "output_type": "execute_result"
    }
   ],
   "source": [
    "list(map(lambda x,y: x+y, a, b))"
   ]
  },
  {
   "cell_type": "code",
   "execution_count": 20,
   "id": "7451a131",
   "metadata": {},
   "outputs": [],
   "source": [
    "# Summing the elements of 3 lists\n",
    "a = [1, 2, 3, 10]\n",
    "b = [3, 5, 7, 30]\n",
    "c = [30, 25, 73, 0]"
   ]
  },
  {
   "cell_type": "code",
   "execution_count": 21,
   "id": "241d16cb",
   "metadata": {},
   "outputs": [
    {
     "data": {
      "text/plain": [
       "[34, 32, 83, 40]"
      ]
     },
     "execution_count": 21,
     "metadata": {},
     "output_type": "execute_result"
    }
   ],
   "source": [
    "list(map(lambda x, y, z: x + y + z, a, b, c))"
   ]
  },
  {
   "cell_type": "markdown",
   "id": "e610f9b8",
   "metadata": {},
   "source": [
    "## End\n",
    "\n",
    "### Thank you!"
   ]
  }
 ],
 "metadata": {
  "kernelspec": {
   "display_name": "Python 3 (ipykernel)",
   "language": "python",
   "name": "python3"
  },
  "language_info": {
   "codemirror_mode": {
    "name": "ipython",
    "version": 3
   },
   "file_extension": ".py",
   "mimetype": "text/x-python",
   "name": "python",
   "nbconvert_exporter": "python",
   "pygments_lexer": "ipython3",
   "version": "3.11.5"
  }
 },
 "nbformat": 4,
 "nbformat_minor": 5
}
