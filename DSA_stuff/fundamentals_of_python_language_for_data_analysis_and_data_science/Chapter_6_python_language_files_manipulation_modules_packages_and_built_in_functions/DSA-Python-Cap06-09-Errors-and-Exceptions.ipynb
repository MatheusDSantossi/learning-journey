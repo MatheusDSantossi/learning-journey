{
 "cells": [
  {
   "cell_type": "markdown",
   "id": "f14048e6",
   "metadata": {},
   "source": [
    "# Data Science Academy\n",
    "\n",
    "## Fundamentals of Python Language for Data Analysis and Data Science\n",
    "\n",
    "### Chapter 6 - Errors and Exceptions Handling"
   ]
  },
  {
   "cell_type": "code",
   "execution_count": 1,
   "id": "cd94ed15",
   "metadata": {},
   "outputs": [
    {
     "name": "stdout",
     "output_type": "stream",
     "text": [
      "Python Version used in this Jupyter notebook is:  3.11.5\n"
     ]
    }
   ],
   "source": [
    "# Version of Python Language\n",
    "from platform import python_version\n",
    "print(\"Python Version used in this Jupyter notebook is: \", python_version())"
   ]
  },
  {
   "cell_type": "markdown",
   "id": "aab51936",
   "metadata": {},
   "source": [
    "## Error and Exceptions\n",
    "\n",
    "Always read the error messages. Errors make part of the process of learning and they will follow you in your programming journey, in any languange."
   ]
  },
  {
   "cell_type": "code",
   "execution_count": 2,
   "id": "83ebec3e",
   "metadata": {},
   "outputs": [
    {
     "ename": "SyntaxError",
     "evalue": "unterminated string literal (detected at line 2) (3260507054.py, line 2)",
     "output_type": "error",
     "traceback": [
      "\u001b[1;36m  Cell \u001b[1;32mIn[2], line 2\u001b[1;36m\u001b[0m\n\u001b[1;33m    print(\"Hello)\u001b[0m\n\u001b[1;37m          ^\u001b[0m\n\u001b[1;31mSyntaxError\u001b[0m\u001b[1;31m:\u001b[0m unterminated string literal (detected at line 2)\n"
     ]
    }
   ],
   "source": [
    "# Error (read the error message)\n",
    "print(\"Hello)"
   ]
  },
  {
   "cell_type": "code",
   "execution_count": 3,
   "id": "825a6ae8",
   "metadata": {},
   "outputs": [
    {
     "ename": "NameError",
     "evalue": "name 'B' is not defined",
     "output_type": "error",
     "traceback": [
      "\u001b[1;31m---------------------------------------------------------------------------\u001b[0m",
      "\u001b[1;31mNameError\u001b[0m                                 Traceback (most recent call last)",
      "Cell \u001b[1;32mIn[3], line 2\u001b[0m\n\u001b[0;32m      1\u001b[0m \u001b[38;5;66;03m# Erro (read the error message)\u001b[39;00m\n\u001b[1;32m----> 2\u001b[0m B \u001b[38;5;241m+\u001b[39m \u001b[38;5;124m'\u001b[39m\u001b[38;5;124ms\u001b[39m\u001b[38;5;124m'\u001b[39m\n",
      "\u001b[1;31mNameError\u001b[0m: name 'B' is not defined"
     ]
    }
   ],
   "source": [
    "# Error (read the error message)\n",
    "B + 's'"
   ]
  },
  {
   "cell_type": "code",
   "execution_count": 4,
   "id": "37ee701f",
   "metadata": {},
   "outputs": [],
   "source": [
    "# Creating a function\n",
    "def numDiv (num1, num2):\n",
    "    result = num1 / num2\n",
    "    print(result)"
   ]
  },
  {
   "cell_type": "code",
   "execution_count": 5,
   "id": "2b43239c",
   "metadata": {},
   "outputs": [
    {
     "name": "stdout",
     "output_type": "stream",
     "text": [
      "2.0\n"
     ]
    }
   ],
   "source": [
    "# Execution doesn't return an error\n",
    "numDiv(4,2)"
   ]
  },
  {
   "cell_type": "code",
   "execution_count": 6,
   "id": "06adb061",
   "metadata": {},
   "outputs": [
    {
     "ename": "ZeroDivisionError",
     "evalue": "division by zero",
     "output_type": "error",
     "traceback": [
      "\u001b[1;31m---------------------------------------------------------------------------\u001b[0m",
      "\u001b[1;31mZeroDivisionError\u001b[0m                         Traceback (most recent call last)",
      "Cell \u001b[1;32mIn[6], line 2\u001b[0m\n\u001b[0;32m      1\u001b[0m \u001b[38;5;66;03m# Execution returning an error (read the error message)\u001b[39;00m\n\u001b[1;32m----> 2\u001b[0m numDiv(\u001b[38;5;241m4\u001b[39m,\u001b[38;5;241m0\u001b[39m)\n",
      "Cell \u001b[1;32mIn[4], line 3\u001b[0m, in \u001b[0;36mnumDiv\u001b[1;34m(num1, num2)\u001b[0m\n\u001b[0;32m      2\u001b[0m \u001b[38;5;28;01mdef\u001b[39;00m \u001b[38;5;21mnumDiv\u001b[39m (num1, num2):\n\u001b[1;32m----> 3\u001b[0m     result \u001b[38;5;241m=\u001b[39m num1 \u001b[38;5;241m/\u001b[39m num2\n\u001b[0;32m      4\u001b[0m     \u001b[38;5;28mprint\u001b[39m(result)\n",
      "\u001b[1;31mZeroDivisionError\u001b[0m: division by zero"
     ]
    }
   ],
   "source": [
    "# Execution returning an error (read the error message)\n",
    "numDiv(4,0)"
   ]
  },
  {
   "cell_type": "markdown",
   "id": "81910857",
   "metadata": {},
   "source": [
    "### Try, Except & Finally"
   ]
  },
  {
   "cell_type": "code",
   "execution_count": 7,
   "id": "b9440cd3",
   "metadata": {},
   "outputs": [
    {
     "ename": "TypeError",
     "evalue": "unsupported operand type(s) for +: 'int' and 'str'",
     "output_type": "error",
     "traceback": [
      "\u001b[1;31m---------------------------------------------------------------------------\u001b[0m",
      "\u001b[1;31mTypeError\u001b[0m                                 Traceback (most recent call last)",
      "Cell \u001b[1;32mIn[7], line 1\u001b[0m\n\u001b[1;32m----> 1\u001b[0m \u001b[38;5;241m8\u001b[39m \u001b[38;5;241m+\u001b[39m \u001b[38;5;124m'\u001b[39m\u001b[38;5;124ms\u001b[39m\u001b[38;5;124m'\u001b[39m\n",
      "\u001b[1;31mTypeError\u001b[0m: unsupported operand type(s) for +: 'int' and 'str'"
     ]
    }
   ],
   "source": [
    "8 + 's'"
   ]
  },
  {
   "cell_type": "code",
   "execution_count": 9,
   "id": "b14e34ae",
   "metadata": {},
   "outputs": [
    {
     "name": "stdout",
     "output_type": "stream",
     "text": [
      "THe operation isn't allowed!\n"
     ]
    }
   ],
   "source": [
    "# Using try and except\n",
    "try:\n",
    "    8 + 's'\n",
    "except TypeError:\n",
    "    print(\"THe operation isn't allowed!\")"
   ]
  },
  {
   "cell_type": "code",
   "execution_count": 10,
   "id": "47ea1eea",
   "metadata": {},
   "outputs": [
    {
     "name": "stdout",
     "output_type": "stream",
     "text": [
      "Written content successfuly\n"
     ]
    }
   ],
   "source": [
    "# Using try, except and else\n",
    "try:\n",
    "    f = open('files/testingerrors.txt', 'w')\n",
    "    f.write(\"Writting in the file\")\n",
    "except IOError:\n",
    "    print(\"Error: File didn't find or it can't be saved\")\n",
    "else:\n",
    "    print(\"Written content successfuly\")\n",
    "    f.close()"
   ]
  },
  {
   "cell_type": "code",
   "execution_count": 11,
   "id": "6347d228",
   "metadata": {},
   "outputs": [
    {
     "name": "stdout",
     "output_type": "stream",
     "text": [
      "Error: File didn't find or it can't be saved\n"
     ]
    }
   ],
   "source": [
    "# Using try, except and else\n",
    "try:\n",
    "    f = open('files/testingerrors', 'r')\n",
    "except IOError:\n",
    "    print(\"Error: File didn't find or it can't be saved\")\n",
    "else:\n",
    "    print(\"Content read with success\")\n",
    "    f.close()"
   ]
  },
  {
   "cell_type": "code",
   "execution_count": 12,
   "id": "0073d537",
   "metadata": {},
   "outputs": [
    {
     "name": "stdout",
     "output_type": "stream",
     "text": [
      "Written content successfuly\n",
      "Commands in finally blokc are always executed!\n"
     ]
    }
   ],
   "source": [
    "# Using try, except and else\n",
    "try:\n",
    "    f = open('files/testingerrors.txt', 'w')\n",
    "    f.write(\"Writting in the file\")\n",
    "except IOError:\n",
    "    print(\"Error: File didn't find or it can't be saved\")\n",
    "else:\n",
    "    print(\"Written content successfuly\")\n",
    "    f.close()\n",
    "finally:\n",
    "    print(\"Commands in finally blokc are always executed!\")"
   ]
  },
  {
   "cell_type": "markdown",
   "id": "3acadc1b",
   "metadata": {},
   "source": [
    "- Each error possibility must be handle in your program"
   ]
  },
  {
   "cell_type": "code",
   "execution_count": 14,
   "id": "9f089f73",
   "metadata": {},
   "outputs": [],
   "source": [
    "def askint():\n",
    "    try:\n",
    "        val = int((input(\"Type a number: \")))\n",
    "    except:\n",
    "        print(\"You didn't type any number!\")\n",
    "    finally:\n",
    "        (\"Thank you!!\")"
   ]
  },
  {
   "cell_type": "code",
   "execution_count": 16,
   "id": "5b9168d2",
   "metadata": {},
   "outputs": [
    {
     "name": "stdout",
     "output_type": "stream",
     "text": [
      "Type a number: a\n",
      "You didn't type any number!\n"
     ]
    }
   ],
   "source": [
    "askint()"
   ]
  },
  {
   "cell_type": "code",
   "execution_count": 19,
   "id": "d9d65df6",
   "metadata": {},
   "outputs": [],
   "source": [
    "def askint():\n",
    "    try:\n",
    "        val = int(input(\"Type a number: \"))\n",
    "    except:\n",
    "        print(\"You didn't type an number!\")\n",
    "        val = int(input(\"Type a number: \"))\n",
    "    finally:\n",
    "        print(\"Thank you!\")\n",
    "    print(val)"
   ]
  },
  {
   "cell_type": "code",
   "execution_count": 20,
   "id": "ee73ee3a",
   "metadata": {},
   "outputs": [
    {
     "name": "stdout",
     "output_type": "stream",
     "text": [
      "Type a number: a\n",
      "You didn't type an number!\n",
      "Type a number: a\n",
      "Thank you!\n"
     ]
    },
    {
     "ename": "ValueError",
     "evalue": "invalid literal for int() with base 10: 'a'",
     "output_type": "error",
     "traceback": [
      "\u001b[1;31m---------------------------------------------------------------------------\u001b[0m",
      "\u001b[1;31mValueError\u001b[0m                                Traceback (most recent call last)",
      "Cell \u001b[1;32mIn[19], line 3\u001b[0m, in \u001b[0;36maskint\u001b[1;34m()\u001b[0m\n\u001b[0;32m      2\u001b[0m \u001b[38;5;28;01mtry\u001b[39;00m:\n\u001b[1;32m----> 3\u001b[0m     val \u001b[38;5;241m=\u001b[39m \u001b[38;5;28mint\u001b[39m(\u001b[38;5;28minput\u001b[39m(\u001b[38;5;124m\"\u001b[39m\u001b[38;5;124mType a number: \u001b[39m\u001b[38;5;124m\"\u001b[39m))\n\u001b[0;32m      4\u001b[0m \u001b[38;5;28;01mexcept\u001b[39;00m:\n",
      "\u001b[1;31mValueError\u001b[0m: invalid literal for int() with base 10: 'a'",
      "\nDuring handling of the above exception, another exception occurred:\n",
      "\u001b[1;31mValueError\u001b[0m                                Traceback (most recent call last)",
      "Cell \u001b[1;32mIn[20], line 1\u001b[0m\n\u001b[1;32m----> 1\u001b[0m askint()\n",
      "Cell \u001b[1;32mIn[19], line 6\u001b[0m, in \u001b[0;36maskint\u001b[1;34m()\u001b[0m\n\u001b[0;32m      4\u001b[0m \u001b[38;5;28;01mexcept\u001b[39;00m:\n\u001b[0;32m      5\u001b[0m     \u001b[38;5;28mprint\u001b[39m(\u001b[38;5;124m\"\u001b[39m\u001b[38;5;124mYou didn\u001b[39m\u001b[38;5;124m'\u001b[39m\u001b[38;5;124mt type an number!\u001b[39m\u001b[38;5;124m\"\u001b[39m)\n\u001b[1;32m----> 6\u001b[0m     val \u001b[38;5;241m=\u001b[39m \u001b[38;5;28mint\u001b[39m(\u001b[38;5;28minput\u001b[39m(\u001b[38;5;124m\"\u001b[39m\u001b[38;5;124mType a number: \u001b[39m\u001b[38;5;124m\"\u001b[39m))\n\u001b[0;32m      7\u001b[0m \u001b[38;5;28;01mfinally\u001b[39;00m:\n\u001b[0;32m      8\u001b[0m     \u001b[38;5;28mprint\u001b[39m(\u001b[38;5;124m\"\u001b[39m\u001b[38;5;124mThank you!\u001b[39m\u001b[38;5;124m\"\u001b[39m)\n",
      "\u001b[1;31mValueError\u001b[0m: invalid literal for int() with base 10: 'a'"
     ]
    }
   ],
   "source": [
    "askint()"
   ]
  },
  {
   "cell_type": "code",
   "execution_count": 24,
   "id": "797080a2",
   "metadata": {},
   "outputs": [],
   "source": [
    "def askint():\n",
    "    while True:\n",
    "        try:\n",
    "            val = int(input(\"Type a number: \"))\n",
    "        except:\n",
    "            print(\"You didn't type a number!\")\n",
    "            continue\n",
    "        else:\n",
    "            print(\"Thank you for typing a number!\")\n",
    "            break\n",
    "        finally:\n",
    "            (\"Finalized the execution!\")\n",
    "    print(val)"
   ]
  },
  {
   "cell_type": "code",
   "execution_count": 25,
   "id": "c82b464f",
   "metadata": {},
   "outputs": [
    {
     "name": "stdout",
     "output_type": "stream",
     "text": [
      "Type a numbera\n",
      "You didn't type a number!\n",
      "Type a numbera\n",
      "You didn't type a number!\n",
      "Type a number2\n",
      "Thank you for typing a number!\n",
      "2\n"
     ]
    }
   ],
   "source": [
    "askint()"
   ]
  },
  {
   "cell_type": "markdown",
   "id": "bdce4681",
   "metadata": {},
   "source": [
    "You can find a complete list here:\n",
    "\n",
    "https://docs.python.org/3.11/library/exceptions.html"
   ]
  },
  {
   "cell_type": "markdown",
   "id": "32b7c1c1",
   "metadata": {},
   "source": []
  },
  {
   "cell_type": "markdown",
   "id": "3a028ae2",
   "metadata": {},
   "source": [
    "## End\n",
    "\n",
    "### Thank you"
   ]
  }
 ],
 "metadata": {
  "kernelspec": {
   "display_name": "Python 3 (ipykernel)",
   "language": "python",
   "name": "python3"
  },
  "language_info": {
   "codemirror_mode": {
    "name": "ipython",
    "version": 3
   },
   "file_extension": ".py",
   "mimetype": "text/x-python",
   "name": "python",
   "nbconvert_exporter": "python",
   "pygments_lexer": "ipython3",
   "version": "3.11.5"
  }
 },
 "nbformat": 4,
 "nbformat_minor": 5
}
