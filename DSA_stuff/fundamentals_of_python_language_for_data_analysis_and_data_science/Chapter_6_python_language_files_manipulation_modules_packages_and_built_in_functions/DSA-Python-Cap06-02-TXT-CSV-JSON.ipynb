{
 "cells": [
  {
   "cell_type": "markdown",
   "id": "f14048e6",
   "metadata": {},
   "source": [
    "# Data Science Academy\n",
    "\n",
    "## Fundamentals of Python Language for Data Analysis and Data Science\n",
    "\n",
    "### Chapter 6 - Files Manipulation - Part 2"
   ]
  },
  {
   "cell_type": "code",
   "execution_count": 1,
   "id": "cd94ed15",
   "metadata": {},
   "outputs": [
    {
     "name": "stdout",
     "output_type": "stream",
     "text": [
      "Python Version used in this Jupyter notebook is:  3.11.5\n"
     ]
    }
   ],
   "source": [
    "# Version of Python Language\n",
    "from platform import python_version\n",
    "print(\"Python Version used in this Jupyter notebook is: \", python_version())"
   ]
  },
  {
   "cell_type": "markdown",
   "id": "aab51936",
   "metadata": {},
   "source": [
    "## Manipulation of TXT Files\n",
    "\n",
    "TXT is the extension for simple file text. A simple TXT file is without any text format, like bold, italic or different fonts. It can be open and edit with multi different softwares, including some text editors, text running and IDEs. TXT files are widely used to storage simple text data, like, lists, notes and text documetns. They are universal and can be read in almost every device or operational system."
   ]
  },
  {
   "cell_type": "code",
   "execution_count": 3,
   "id": "83ebec3e",
   "metadata": {},
   "outputs": [],
   "source": [
    "text = \"Data Scientist might be an excelent carrer alternative.\\n\"\n",
    "text = text + \"These professionals need to know how to program in Python.\\n\"\n",
    "text += \"And, of course, they must be proficients in Data Science!\""
   ]
  },
  {
   "cell_type": "code",
   "execution_count": 4,
   "id": "825a6ae8",
   "metadata": {},
   "outputs": [
    {
     "name": "stdout",
     "output_type": "stream",
     "text": [
      "Data Scientist might be an excelent carrer alternative.\n",
      "These professionals need to know how to program in Python.\n",
      "And, of course, they must be proficients in Data Science!\n"
     ]
    }
   ],
   "source": [
    "print(text)"
   ]
  },
  {
   "cell_type": "code",
   "execution_count": 5,
   "id": "37ee701f",
   "metadata": {},
   "outputs": [],
   "source": [
    "# Important the module os\n",
    "import os"
   ]
  },
  {
   "cell_type": "code",
   "execution_count": 6,
   "id": "2b43239c",
   "metadata": {},
   "outputs": [],
   "source": [
    "# Creating a file\n",
    "file = open(os.path.join(\"files/scientist.txt\"), \"w\")"
   ]
  },
  {
   "cell_type": "code",
   "execution_count": 8,
   "id": "06adb061",
   "metadata": {},
   "outputs": [],
   "source": [
    "for word in text.split():\n",
    "    file.write(word + \" \")"
   ]
  },
  {
   "cell_type": "code",
   "execution_count": 9,
   "id": "45f8c4df",
   "metadata": {},
   "outputs": [],
   "source": [
    "# Closing the file\n",
    "file.close()"
   ]
  },
  {
   "cell_type": "code",
   "execution_count": 10,
   "id": "b9440cd3",
   "metadata": {},
   "outputs": [
    {
     "name": "stdout",
     "output_type": "stream",
     "text": [
      "Data Scientist might be an excelent carrer alternative. These professionals need to know how to program in Python. And, of course, they must be proficients in Data Science! \n"
     ]
    }
   ],
   "source": [
    "# Reading the file\n",
    "file = open(\"files/scientist.txt\", \"r\")\n",
    "content = file.read()\n",
    "file.close()\n",
    "print(content)"
   ]
  },
  {
   "cell_type": "markdown",
   "id": "c36cfa46",
   "metadata": {},
   "source": [
    "### Using the expression `with`\n",
    "\n",
    "the method close() is executed automatically"
   ]
  },
  {
   "cell_type": "code",
   "execution_count": 11,
   "id": "b14e34ae",
   "metadata": {},
   "outputs": [],
   "source": [
    "with open(\"files/scientist.txt\", \"r\") as file:\n",
    "    content = file.read()"
   ]
  },
  {
   "cell_type": "code",
   "execution_count": 12,
   "id": "47ea1eea",
   "metadata": {},
   "outputs": [
    {
     "name": "stdout",
     "output_type": "stream",
     "text": [
      "173\n"
     ]
    }
   ],
   "source": [
    "print(len(content))"
   ]
  },
  {
   "cell_type": "code",
   "execution_count": 13,
   "id": "c926032e",
   "metadata": {},
   "outputs": [
    {
     "name": "stdout",
     "output_type": "stream",
     "text": [
      "Data Scientist might be an excelent carrer alternative. These professionals need to know how to program in Python. And, of course, they must be proficients in Data Science! \n"
     ]
    }
   ],
   "source": [
    "print(content)"
   ]
  },
  {
   "cell_type": "code",
   "execution_count": 19,
   "id": "7eceb3c1",
   "metadata": {},
   "outputs": [],
   "source": [
    "with open('files/scientist.txt', 'w') as file:\n",
    "    file.write(text[:14])\n",
    "    file.write('\\n')\n",
    "    file.write(text[24:54])"
   ]
  },
  {
   "cell_type": "code",
   "execution_count": 20,
   "id": "b09a14b8",
   "metadata": {},
   "outputs": [
    {
     "name": "stdout",
     "output_type": "stream",
     "text": [
      "Data Scientist\n",
      "an excelent carrer alternative\n"
     ]
    }
   ],
   "source": [
    "# Reading the file\n",
    "file = open(\"files/scientist.txt\", \"r\")\n",
    "content = file.read()\n",
    "file.close()\n",
    "print(content)"
   ]
  },
  {
   "cell_type": "markdown",
   "id": "d8d42987",
   "metadata": {},
   "source": [
    "### Manipulating CSV Files\n",
    "\n",
    "CSV (Comma-Separated Values) is a file format that storage tabled data in a plain text format. Each line of CSV file represents sheets and databases. CSV Is a simples a universal option to share data, because it can be open and edit in multiple different softwares, including sheet programs and text editors."
   ]
  },
  {
   "cell_type": "code",
   "execution_count": 21,
   "id": "10f873d4",
   "metadata": {},
   "outputs": [],
   "source": [
    "# Importing module csv\n",
    "import csv"
   ]
  },
  {
   "cell_type": "code",
   "execution_count": 23,
   "id": "e6641e73",
   "metadata": {},
   "outputs": [],
   "source": [
    "with open(\"files/numbers.csv\", \"w\") as file:\n",
    "    # Create a writer object\n",
    "    writer = csv.writer(file)\n",
    "    \n",
    "    # Write in the file line by line\n",
    "    writer.writerow((\"grade1\", \"grade2\", \"grade3\"))\n",
    "    writer.writerow((63, 87, 92))\n",
    "    writer.writerow((61, 77, 76))\n",
    "    writer.writerow((32, 67, 91))\n",
    "    "
   ]
  },
  {
   "cell_type": "code",
   "execution_count": 25,
   "id": "11fcc7ca",
   "metadata": {},
   "outputs": [
    {
     "name": "stdout",
     "output_type": "stream",
     "text": [
      "['grade1', 'grade2', 'grade3']\n",
      "['63', '87', '92']\n",
      "['61', '77', '76']\n",
      "['32', '67', '91']\n"
     ]
    }
   ],
   "source": [
    "# Reading a csv file\n",
    "with open(\"files/numbers.csv\", \"r\", encoding=\"utf8\", newline=\"\\r\\n\") as file:\n",
    "        # Create reader object\n",
    "        reader = csv.reader(file)\n",
    "        \n",
    "        # Loop to read each data\n",
    "        for x in reader:\n",
    "            print(x)"
   ]
  },
  {
   "cell_type": "code",
   "execution_count": 26,
   "id": "7451a131",
   "metadata": {},
   "outputs": [],
   "source": [
    "# Generating a list with data from a csv file\n",
    "with open(\"files/numbers.csv\", \"r\") as file:\n",
    "    reader = csv.reader(file)\n",
    "    data = list(reader)\n",
    "    "
   ]
  },
  {
   "cell_type": "code",
   "execution_count": 27,
   "id": "241d16cb",
   "metadata": {},
   "outputs": [
    {
     "name": "stdout",
     "output_type": "stream",
     "text": [
      "[['grade1', 'grade2', 'grade3'], [], ['63', '87', '92'], [], ['61', '77', '76'], [], ['32', '67', '91'], []]\n"
     ]
    }
   ],
   "source": [
    "print(data)"
   ]
  },
  {
   "cell_type": "code",
   "execution_count": 28,
   "id": "a61c6378",
   "metadata": {},
   "outputs": [
    {
     "name": "stdout",
     "output_type": "stream",
     "text": [
      "[]\n",
      "['63', '87', '92']\n",
      "[]\n",
      "['61', '77', '76']\n",
      "[]\n",
      "['32', '67', '91']\n",
      "[]\n"
     ]
    }
   ],
   "source": [
    "# Priting info following the second line\n",
    "for line in data[1:]:\n",
    "    print(line)"
   ]
  },
  {
   "cell_type": "markdown",
   "id": "45f7ea6c",
   "metadata": {},
   "source": [
    "### Manipulating JSON files (Java Script Object Notation)\n",
    "\n",
    "JSON (Java Script Object Notation) is a light and simple text data format that is used to transmit information in web applications. It's based on a JavaScript object structure and uses key-value pair to represents data. JSON is easily read and write by machines and it's widely used as an interligate format in modern web applications."
   ]
  },
  {
   "cell_type": "code",
   "execution_count": 33,
   "id": "a3ac4e55",
   "metadata": {},
   "outputs": [],
   "source": [
    "# Creating a dictionary\n",
    "dict_guido = {\"name\": \"Guido van Rossum\",\n",
    "       \"language\": \"Python\",\n",
    "       \"similar\": [\"c\", \"Modula-3\", \"lisp\"],\n",
    "       \"users\": 10000000}"
   ]
  },
  {
   "cell_type": "code",
   "execution_count": 34,
   "id": "3563b0e5",
   "metadata": {},
   "outputs": [
    {
     "name": "stdout",
     "output_type": "stream",
     "text": [
      "name Guido van Rossum\n",
      "language Python\n",
      "similar ['c', 'Modula-3', 'lisp']\n",
      "users 10000000\n"
     ]
    }
   ],
   "source": [
    "for k,y in dict_guido.items():\n",
    "    print(k, y)"
   ]
  },
  {
   "cell_type": "code",
   "execution_count": 31,
   "id": "12324fab",
   "metadata": {},
   "outputs": [],
   "source": [
    "# Importing the Json module\n",
    "import json"
   ]
  },
  {
   "cell_type": "code",
   "execution_count": 35,
   "id": "369cc181",
   "metadata": {},
   "outputs": [
    {
     "data": {
      "text/plain": [
       "'{\"name\": \"Guido van Rossum\", \"language\": \"Python\", \"similar\": [\"c\", \"Modula-3\", \"lisp\"], \"users\": 10000000}'"
      ]
     },
     "execution_count": 35,
     "metadata": {},
     "output_type": "execute_result"
    }
   ],
   "source": [
    "# Converting a dictionary to a json object\n",
    "json.dumps(dict_guido)"
   ]
  },
  {
   "cell_type": "code",
   "execution_count": 36,
   "id": "b8624df8",
   "metadata": {},
   "outputs": [],
   "source": [
    "# Creating a Json file\n",
    "with open(\"files/data.json\", \"w\") as file:\n",
    "    file.write(json.dumps(dict_guido))"
   ]
  },
  {
   "cell_type": "code",
   "execution_count": 37,
   "id": "afa0ec03",
   "metadata": {},
   "outputs": [],
   "source": [
    "# Read the Json file\n",
    "with open(\"files/data.json\", \"r\") as file:\n",
    "    text = file.read()\n",
    "    data = json.loads(text)"
   ]
  },
  {
   "cell_type": "code",
   "execution_count": 38,
   "id": "4a62d97b",
   "metadata": {},
   "outputs": [
    {
     "data": {
      "text/plain": [
       "{'name': 'Guido van Rossum',\n",
       " 'language': 'Python',\n",
       " 'similar': ['c', 'Modula-3', 'lisp'],\n",
       " 'users': 10000000}"
      ]
     },
     "execution_count": 38,
     "metadata": {},
     "output_type": "execute_result"
    }
   ],
   "source": [
    "data"
   ]
  },
  {
   "cell_type": "code",
   "execution_count": 39,
   "id": "beda050a",
   "metadata": {},
   "outputs": [
    {
     "name": "stdout",
     "output_type": "stream",
     "text": [
      "Guido van Rossum\n"
     ]
    }
   ],
   "source": [
    "print(data[\"name\"])"
   ]
  },
  {
   "cell_type": "markdown",
   "id": "9c331f1d",
   "metadata": {},
   "source": [
    "### Extraction of a Web File"
   ]
  },
  {
   "cell_type": "code",
   "execution_count": 43,
   "id": "e0eae175",
   "metadata": {},
   "outputs": [],
   "source": [
    "# Printing a file JSON copied from the internet\n",
    "from urllib.request import urlopen\n",
    "\n",
    "response = urlopen(\"http://vimeo.com/api/v2/video/57733101.json\").read().decode(\"utf8\")\n",
    "data = json.loads(response)[0]"
   ]
  },
  {
   "cell_type": "code",
   "execution_count": 44,
   "id": "3b945345",
   "metadata": {},
   "outputs": [
    {
     "data": {
      "text/plain": [
       "{'id': 57733101,\n",
       " 'title': 'The Good Man trailer',\n",
       " 'description': 'Trailer for the Manifesto Films production, The Good Man, now available in UK/Ireland/US/Canada/Australia/New Zealand on iTunes (https://itunes.apple.com/us/movie/the-good-man/id873130906) and DVD (http://www.amazon.co.uk/The-Good-Man-Aiden-Gillen/dp/B00IIK6CGU/). Co-production with Jet Black Entertainment (South Africa). Starring Aidan Gillen, Thabang Sidloyi, Kelly Campbell, Lunathi Mampofu. Written & directed by Phil Harrison. More info at www.thegoodmanfilm.com<br />\\r\\n<br />\\r\\nCheck out the Variety Magazine review here: http://www.variety.com/review/VE1117947909/',\n",
       " 'url': 'https://vimeo.com/57733101',\n",
       " 'upload_date': '2013-01-19 04:01:15',\n",
       " 'thumbnail_small': 'https://i.vimeocdn.com/video/436057121-e828a1f5478ec0136e957753d107f2a1268c64def9b82faac37c8e30c031cff2-d_100x75?region=us',\n",
       " 'thumbnail_medium': 'https://i.vimeocdn.com/video/436057121-e828a1f5478ec0136e957753d107f2a1268c64def9b82faac37c8e30c031cff2-d_200x150?region=us',\n",
       " 'thumbnail_large': 'https://i.vimeocdn.com/video/436057121-e828a1f5478ec0136e957753d107f2a1268c64def9b82faac37c8e30c031cff2-d_640?region=us',\n",
       " 'user_id': 1334563,\n",
       " 'user_name': 'Manifesto Films',\n",
       " 'user_url': 'https://vimeo.com/manifestofilms',\n",
       " 'user_portrait_small': 'https://i.vimeocdn.com/portrait/4778306_30x30?sig=dce4bd41e32adf3305ffd0a161ae27a5c919bba5773cf2f2c3ca5be075726518&v=1&region=us',\n",
       " 'user_portrait_medium': 'https://i.vimeocdn.com/portrait/4778306_75x75?sig=dce4bd41e32adf3305ffd0a161ae27a5c919bba5773cf2f2c3ca5be075726518&v=1&region=us',\n",
       " 'user_portrait_large': 'https://i.vimeocdn.com/portrait/4778306_100x100?sig=dce4bd41e32adf3305ffd0a161ae27a5c919bba5773cf2f2c3ca5be075726518&v=1&region=us',\n",
       " 'user_portrait_huge': 'https://i.vimeocdn.com/portrait/4778306_300x300?sig=dce4bd41e32adf3305ffd0a161ae27a5c919bba5773cf2f2c3ca5be075726518&v=1&region=us',\n",
       " 'stats_number_of_likes': 19,\n",
       " 'stats_number_of_plays': 6883,\n",
       " 'stats_number_of_comments': 2,\n",
       " 'duration': 143,\n",
       " 'width': 1024,\n",
       " 'height': 576,\n",
       " 'tags': 'belfast, cape town, africa, ireland, film',\n",
       " 'embed_privacy': 'anywhere'}"
      ]
     },
     "execution_count": 44,
     "metadata": {},
     "output_type": "execute_result"
    }
   ],
   "source": [
    "data"
   ]
  },
  {
   "cell_type": "code",
   "execution_count": 45,
   "id": "81ed76bb",
   "metadata": {},
   "outputs": [
    {
     "name": "stdout",
     "output_type": "stream",
     "text": [
      "Title:  The Good Man trailer\n",
      "URL:  https://vimeo.com/57733101\n",
      "Duration:  143\n",
      "Number of views:  6883\n"
     ]
    }
   ],
   "source": [
    "print(\"Title: \", data[\"title\"])\n",
    "print(\"URL: \", data[\"url\"])\n",
    "print(\"Duration: \", data[\"duration\"])\n",
    "print(\"Number of views: \", data[\"stats_number_of_plays\"])"
   ]
  },
  {
   "cell_type": "markdown",
   "id": "08b4517e",
   "metadata": {},
   "source": [
    "Copying the content of a file to another"
   ]
  },
  {
   "cell_type": "code",
   "execution_count": 46,
   "id": "03d3bc16",
   "metadata": {},
   "outputs": [],
   "source": [
    "# Files's names\n",
    "font_file = \"files/data.json\"\n",
    "destination_file = \"files/data.txt\""
   ]
  },
  {
   "cell_type": "code",
   "execution_count": 47,
   "id": "0d252b8c",
   "metadata": {},
   "outputs": [],
   "source": [
    "# Method 1\n",
    "with open(font_file, \"r\") as infile:\n",
    "    text = infile.read()\n",
    "    with open(destination_file, \"w\") as outfile:\n",
    "        outfile.write(text)"
   ]
  },
  {
   "cell_type": "code",
   "execution_count": 49,
   "id": "cdeccaa4",
   "metadata": {},
   "outputs": [
    {
     "data": {
      "text/plain": [
       "107"
      ]
     },
     "execution_count": 49,
     "metadata": {},
     "output_type": "execute_result"
    }
   ],
   "source": [
    "# Method 2\n",
    "open(destination_file, \"w\").write(open(font_file, \"r\").read())"
   ]
  },
  {
   "cell_type": "code",
   "execution_count": 50,
   "id": "e7b3c3d1",
   "metadata": {},
   "outputs": [],
   "source": [
    "# Reading the txt file\n",
    "with open(\"files/data.txt\", \"r\") as file:\n",
    "    text = file.read()\n",
    "    data = json.loads(text)"
   ]
  },
  {
   "cell_type": "code",
   "execution_count": 51,
   "id": "04b0048e",
   "metadata": {},
   "outputs": [
    {
     "name": "stdout",
     "output_type": "stream",
     "text": [
      "{'name': 'Guido van Rossum', 'language': 'Python', 'similar': ['c', 'Modula-3', 'lisp'], 'users': 10000000}\n"
     ]
    }
   ],
   "source": [
    "print(data)"
   ]
  },
  {
   "cell_type": "markdown",
   "id": "e610f9b8",
   "metadata": {},
   "source": [
    "## End\n",
    "\n",
    "### Thank you!"
   ]
  }
 ],
 "metadata": {
  "kernelspec": {
   "display_name": "Python 3 (ipykernel)",
   "language": "python",
   "name": "python3"
  },
  "language_info": {
   "codemirror_mode": {
    "name": "ipython",
    "version": 3
   },
   "file_extension": ".py",
   "mimetype": "text/x-python",
   "name": "python",
   "nbconvert_exporter": "python",
   "pygments_lexer": "ipython3",
   "version": "3.11.5"
  }
 },
 "nbformat": 4,
 "nbformat_minor": 5
}
