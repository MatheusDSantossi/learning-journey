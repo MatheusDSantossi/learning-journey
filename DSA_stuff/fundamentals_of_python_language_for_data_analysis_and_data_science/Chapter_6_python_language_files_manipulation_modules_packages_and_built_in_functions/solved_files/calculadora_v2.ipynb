{
 "cells": [
  {
   "cell_type": "code",
   "execution_count": 1,
   "id": "ab63ccf2",
   "metadata": {},
   "outputs": [
    {
     "name": "stdout",
     "output_type": "stream",
     "text": [
      "\n",
      " ******************* Python Calculator *******************\n"
     ]
    }
   ],
   "source": [
    "print(\"\\n ******************* Python Calculator *******************\")"
   ]
  },
  {
   "cell_type": "code",
   "execution_count": 2,
   "id": "dee46066",
   "metadata": {},
   "outputs": [],
   "source": [
    "def add(x, y):\n",
    "    return x + y"
   ]
  },
  {
   "cell_type": "code",
   "execution_count": 5,
   "id": "39680803",
   "metadata": {},
   "outputs": [],
   "source": [
    "def subtract(x, y):\n",
    "    return x - y"
   ]
  },
  {
   "cell_type": "code",
   "execution_count": 6,
   "id": "f3c89bdc",
   "metadata": {},
   "outputs": [],
   "source": [
    "def multiply(x, y):\n",
    "    return x * y"
   ]
  },
  {
   "cell_type": "code",
   "execution_count": 7,
   "id": "07c2a517",
   "metadata": {},
   "outputs": [],
   "source": [
    "def divide(x, y):\n",
    "    return x / y"
   ]
  },
  {
   "cell_type": "code",
   "execution_count": 11,
   "id": "a5bf58d6",
   "metadata": {},
   "outputs": [
    {
     "name": "stdout",
     "output_type": "stream",
     "text": [
      "\n",
      " Selecione o número da operação desejada: \n",
      "\n",
      "1- Soma\n",
      "2- Subtração\n",
      "3- Multiplicação\n",
      "4- Divisão\n",
      "\n",
      " Digite sua opção (1/2/3/4): \n",
      "1\n"
     ]
    }
   ],
   "source": [
    "print(\"\\n Selecione o número da operação desejada: \\n\")\n",
    "print(\"1- Soma\")\n",
    "print(\"2- Subtração\")\n",
    "print(\"3- Multiplicação\")\n",
    "print(\"4- Divisão\")\n",
    "\n",
    "chose = input(\"\\n Digite sua opção (1/2/3/4): \\n\")"
   ]
  },
  {
   "cell_type": "code",
   "execution_count": null,
   "id": "923762a5",
   "metadata": {},
   "outputs": [],
   "source": [
    "num1 = int(input(\"\\n Digite o primeiro número: \"))\n",
    "num2 = int(input(\"\\n Digite o segundo número: \"))"
   ]
  },
  {
   "cell_type": "code",
   "execution_count": null,
   "id": "789d4cf1",
   "metadata": {},
   "outputs": [],
   "source": [
    "if chose == \"1\":\n",
    "    print(\"\\n\")\n",
    "    print(num1 \"+\" num2, \" = \", add(num1, num2))\n",
    "    print(\"\\n\")\n",
    "elif chose == \"2\":\n",
    "    print(\"\\n\")\n",
    "    print(num1 \"-\" num2, \" = \", subtract(num1, num2))\n",
    "    print(\"\\n\")\n",
    "    \n",
    "elif chose == \"3\":\n",
    "    print(\"\\n\")\n",
    "    print(num1 \"*\" num2, \" = \", multiply(num1, num2))\n",
    "    print(\"\\n\")\n",
    "    \n",
    "elif chose == \"4\":\n",
    "    print(\"\\n\")\n",
    "    print(num1 \"/\" num2, \" = \", divide(num1, num2))\n",
    "    print(\"\\n\")\n",
    "\n",
    "else:\n",
    "    print(\"Opção inválida\")"
   ]
  },
  {
   "cell_type": "code",
   "execution_count": null,
   "id": "9a719877",
   "metadata": {},
   "outputs": [],
   "source": []
  }
 ],
 "metadata": {
  "kernelspec": {
   "display_name": "Python 3 (ipykernel)",
   "language": "python",
   "name": "python3"
  },
  "language_info": {
   "codemirror_mode": {
    "name": "ipython",
    "version": 3
   },
   "file_extension": ".py",
   "mimetype": "text/x-python",
   "name": "python",
   "nbconvert_exporter": "python",
   "pygments_lexer": "ipython3",
   "version": "3.11.5"
  }
 },
 "nbformat": 4,
 "nbformat_minor": 5
}
