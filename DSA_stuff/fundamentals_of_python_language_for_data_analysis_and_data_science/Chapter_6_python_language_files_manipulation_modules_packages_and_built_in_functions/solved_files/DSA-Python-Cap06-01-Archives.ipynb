{
 "cells": [
  {
   "cell_type": "markdown",
   "id": "f14048e6",
   "metadata": {},
   "source": [
    "# Data Science Academy\n",
    "\n",
    "## Fundamentals of Python Language for Data Analysis and Data Science\n",
    "\n",
    "### Chapter 6 - Files Manipulation - Part 1"
   ]
  },
  {
   "cell_type": "code",
   "execution_count": 1,
   "id": "cd94ed15",
   "metadata": {},
   "outputs": [
    {
     "name": "stdout",
     "output_type": "stream",
     "text": [
      "Python Version used in this Jupyter notebook is:  3.11.5\n"
     ]
    }
   ],
   "source": [
    "# Version of Python Language\n",
    "from platform import python_version\n",
    "print(\"Python Version used in this Jupyter notebook is: \", python_version())"
   ]
  },
  {
   "cell_type": "markdown",
   "id": "aab51936",
   "metadata": {},
   "source": [
    "## Manipulation of Archives\n",
    "\n",
    "### Reading Archives"
   ]
  },
  {
   "cell_type": "code",
   "execution_count": null,
   "id": "83ebec3e",
   "metadata": {},
   "outputs": [],
   "source": [
    "# Opening the file"
   ]
  }
 ],
 "metadata": {
  "kernelspec": {
   "display_name": "Python 3 (ipykernel)",
   "language": "python",
   "name": "python3"
  },
  "language_info": {
   "codemirror_mode": {
    "name": "ipython",
    "version": 3
   },
   "file_extension": ".py",
   "mimetype": "text/x-python",
   "name": "python",
   "nbconvert_exporter": "python",
   "pygments_lexer": "ipython3",
   "version": "3.11.5"
  }
 },
 "nbformat": 4,
 "nbformat_minor": 5
}
