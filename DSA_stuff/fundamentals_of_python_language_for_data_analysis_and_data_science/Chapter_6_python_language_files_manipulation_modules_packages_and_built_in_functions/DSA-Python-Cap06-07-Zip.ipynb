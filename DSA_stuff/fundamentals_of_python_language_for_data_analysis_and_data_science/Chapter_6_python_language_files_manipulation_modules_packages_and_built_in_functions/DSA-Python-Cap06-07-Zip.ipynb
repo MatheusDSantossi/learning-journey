{
 "cells": [
  {
   "cell_type": "markdown",
   "id": "f14048e6",
   "metadata": {},
   "source": [
    "# Data Science Academy\n",
    "\n",
    "## Fundamentals of Python Language for Data Analysis and Data Science\n",
    "\n",
    "### Chapter 6 - Zip Function"
   ]
  },
  {
   "cell_type": "code",
   "execution_count": 1,
   "id": "cd94ed15",
   "metadata": {},
   "outputs": [
    {
     "name": "stdout",
     "output_type": "stream",
     "text": [
      "Python Version used in this Jupyter notebook is:  3.11.5\n"
     ]
    }
   ],
   "source": [
    "# Version of Python Language\n",
    "from platform import python_version\n",
    "print(\"Python Version used in this Jupyter notebook is: \", python_version())"
   ]
  },
  {
   "cell_type": "markdown",
   "id": "aab51936",
   "metadata": {},
   "source": [
    "## Zip Function\n",
    "\n",
    "The zip() function in Python is a function that groups elements of multiple iterable data structures, like a list or dictionary, if necessary."
   ]
  },
  {
   "cell_type": "code",
   "execution_count": 2,
   "id": "83ebec3e",
   "metadata": {},
   "outputs": [],
   "source": [
    "# Creating two lists\n",
    "x = [1, 2, 3]\n",
    "y = [4, 5, 6]"
   ]
  },
  {
   "cell_type": "code",
   "execution_count": 3,
   "id": "825a6ae8",
   "metadata": {},
   "outputs": [
    {
     "data": {
      "text/plain": [
       "<zip at 0x1d4abde7240>"
      ]
     },
     "execution_count": 3,
     "metadata": {},
     "output_type": "execute_result"
    }
   ],
   "source": [
    "# Joining the lists. In Python3 returns a iterator\n",
    "zip(x, y)"
   ]
  },
  {
   "cell_type": "code",
   "execution_count": 4,
   "id": "37ee701f",
   "metadata": {},
   "outputs": [
    {
     "data": {
      "text/plain": [
       "[(1, 4), (2, 5), (3, 6)]"
      ]
     },
     "execution_count": 4,
     "metadata": {},
     "output_type": "execute_result"
    }
   ],
   "source": [
    "# Notice that zip returns tuples. In this case, a list of tuples\n",
    "list(zip(x, y))"
   ]
  },
  {
   "cell_type": "code",
   "execution_count": 5,
   "id": "2b43239c",
   "metadata": {},
   "outputs": [
    {
     "data": {
      "text/plain": [
       "[('A', 'x'), ('B', 't')]"
      ]
     },
     "execution_count": 5,
     "metadata": {},
     "output_type": "execute_result"
    }
   ],
   "source": [
    "# Attention, when the sequences had different numbers of elements\n",
    "list(zip(\"ABC\", \"xt\"))"
   ]
  },
  {
   "cell_type": "code",
   "execution_count": 6,
   "id": "06adb061",
   "metadata": {},
   "outputs": [],
   "source": [
    "# Creating two lists\n",
    "a = [1,2,3]\n",
    "b = [4,5,6,7,8]"
   ]
  },
  {
   "cell_type": "code",
   "execution_count": 7,
   "id": "45f8c4df",
   "metadata": {},
   "outputs": [
    {
     "data": {
      "text/plain": [
       "[(1, 4), (2, 5), (3, 6)]"
      ]
     },
     "execution_count": 7,
     "metadata": {},
     "output_type": "execute_result"
    }
   ],
   "source": [
    "list(zip(a,b))"
   ]
  },
  {
   "cell_type": "code",
   "execution_count": 8,
   "id": "b9440cd3",
   "metadata": {},
   "outputs": [],
   "source": [
    "# Creating two dictionaries\n",
    "d1 = {\"a\": 1, \"b\": 2}\n",
    "d2 = {\"c\": 4, \"d\": 5}"
   ]
  },
  {
   "cell_type": "code",
   "execution_count": 10,
   "id": "b14e34ae",
   "metadata": {},
   "outputs": [
    {
     "data": {
      "text/plain": [
       "[('a', 'c'), ('b', 'd')]"
      ]
     },
     "execution_count": 10,
     "metadata": {},
     "output_type": "execute_result"
    }
   ],
   "source": [
    "# Zip will join the two keys\n",
    "list(zip(d1, d2))"
   ]
  },
  {
   "cell_type": "code",
   "execution_count": 11,
   "id": "47ea1eea",
   "metadata": {},
   "outputs": [
    {
     "data": {
      "text/plain": [
       "[('a', 4), ('b', 5)]"
      ]
     },
     "execution_count": 11,
     "metadata": {},
     "output_type": "execute_result"
    }
   ],
   "source": [
    "# Zip can join the values (items)\n",
    "list(zip(d1, d2.values()))"
   ]
  },
  {
   "cell_type": "code",
   "execution_count": 14,
   "id": "c926032e",
   "metadata": {},
   "outputs": [],
   "source": [
    "# Creating a function to replace values between 2 dict\n",
    "def replaceValues(d1, d2):\n",
    "    dictTemp = {}\n",
    "    \n",
    "    for d1key, d2val in zip(d1, d2.values()):\n",
    "        dictTemp[d1key] = d2val\n",
    "    return dictTemp"
   ]
  },
  {
   "cell_type": "code",
   "execution_count": 15,
   "id": "7eceb3c1",
   "metadata": {},
   "outputs": [
    {
     "data": {
      "text/plain": [
       "{'a': 4, 'b': 5}"
      ]
     },
     "execution_count": 15,
     "metadata": {},
     "output_type": "execute_result"
    }
   ],
   "source": [
    "replaceValues(d1, d2)"
   ]
  },
  {
   "cell_type": "markdown",
   "id": "e610f9b8",
   "metadata": {},
   "source": [
    "## End\n",
    "\n",
    "### Thank you!"
   ]
  }
 ],
 "metadata": {
  "kernelspec": {
   "display_name": "Python 3 (ipykernel)",
   "language": "python",
   "name": "python3"
  },
  "language_info": {
   "codemirror_mode": {
    "name": "ipython",
    "version": 3
   },
   "file_extension": ".py",
   "mimetype": "text/x-python",
   "name": "python",
   "nbconvert_exporter": "python",
   "pygments_lexer": "ipython3",
   "version": "3.11.5"
  }
 },
 "nbformat": 4,
 "nbformat_minor": 5
}
